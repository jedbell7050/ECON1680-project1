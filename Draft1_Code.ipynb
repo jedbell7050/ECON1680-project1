{
 "cells": [
  {
   "cell_type": "code",
   "execution_count": 111,
   "id": "5a661ff4",
   "metadata": {},
   "outputs": [],
   "source": [
    "import pandas as pd\n",
    "import numpy as np\n",
    "import seaborn as sns\n",
    "import matplotlib.pyplot as plt\n",
    "import plotly.express as px\n",
    "from sklearn.linear_model import LinearRegression\n",
    "import statsmodels.api as sm\n",
    "from statsmodels.iolib.summary2 import summary_col\n",
    "from sklearn.preprocessing import StandardScaler"
   ]
  },
  {
   "cell_type": "code",
   "execution_count": 112,
   "id": "abec0b1c",
   "metadata": {},
   "outputs": [],
   "source": [
    "df_col_wage = pd.read_csv(\"RealMedWagesAdjCol.csv\", index_col=0)\n",
    "df_col_wage.index = pd.to_datetime(df_col_wage.index)\n",
    "df_col_wage = df_col_wage.groupby(df_col_wage.index.year).mean()"
   ]
  },
  {
   "cell_type": "markdown",
   "id": "a933ca22",
   "metadata": {},
   "source": [
    "Here is a graph of the the Real Median Wages Adjusted for Cost of Living in a selection of 24 different cities in the United States in 2011, 2015, and 2019. Clearly there are some large differences between different cities, although all have seem some real wage increase over the past decade. There are surely a variety of factors for these differences in real wages, and my goal is to find out how much of a factor housing availability in these differences.\n",
    "\n",
    "(Use clustering to find important variables for housing availability, and find importance of that cluster?)\n",
    "\n",
    "Housing availability is somewhat of an ambiguous variable, so I'll be measuring it in a couple different ways. The first and most straight forward is the number of rental vacancies in each city. Theoretically, if the vacancy rate is high, then the housing supply is exceeding the housing demand, so there is a high level of housing availability. \n",
    "\n",
    "Another potentially important variable is the ratio of Single Unit Development permits to All Development permits. Essentially this measures what percentage of a city's buulding permits are going to single unit houses/apartments. Cities with higher ratios will likely have a lower housing supply and less housing availability. \n",
    "\n",
    "My hypothesis is that more housing availability in a given metro area causes the net income of that area to increase. The first reason I think this is because when people live in denser areas, the cost of living should decrease. This is because of supply and demand, as the number of housing units (apartments or houses) increase the price of rent should decrease acordingly. Another reason for this is that there is less need for transportation, both for the individual to get to work or to stores, and for companies who can ship more of their products into one central location rather than a sprawling set of different locations.  The second reason I think this is because denser areas lead to more interactions between people, which ultimately leads to more innovation and productivity, which should increase wages. "
   ]
  },
  {
   "cell_type": "code",
   "execution_count": 113,
   "id": "b947d67b",
   "metadata": {},
   "outputs": [
    {
     "data": {
      "image/png": "[encoded data removed]",
      "text/plain": [
       "<Figure size 1440x720 with 1 Axes>"
      ]
     },
     "metadata": {
      "needs_background": "light"
     },
     "output_type": "display_data"
    }
   ],
   "source": [
    "labels = df_col_wage.columns\n",
    "means_11 = df_col_wage.loc[2011].values\n",
    "means_15 = df_col_wage.loc[2015].values\n",
    "means_19 = df_col_wage.loc[2019].values\n",
    "\n",
    "x = np.arange(len(labels))\n",
    "width = 0.3\n",
    "\n",
    "fig, ax = plt.subplots(figsize=(20,10))\n",
    "\n",
    "rect1 = ax.bar(x - width/2, means_11, width, label='2011')\n",
    "rect2 = ax.bar(x, means_15, width, label='2015')\n",
    "rect3 = ax.bar(x + width/4, means_19, width/2, label='2019')\n",
    "\n",
    "ax.set_ylabel('Real Wages Adjusted')\n",
    "ax.set_title('Real Median Wages Adjusted for Cost of Living')\n",
    "ax.legend()\n",
    "plt.xticks(x, labels)\n",
    "\n",
    "#ax.bar_label(rect1, padding=3)\n",
    "#ax.bar_label(rect2, padding=3)\n",
    "plt.show()"
   ]
  },
  {
   "cell_type": "code",
   "execution_count": 114,
   "id": "d647a6f0",
   "metadata": {},
   "outputs": [],
   "source": [
    "df_permits = pd.read_csv('BuildingPermits.csv', index_col=0)\n",
    "df_permits.index = pd.to_datetime(df_permits.index)\n",
    "df_permits = df_permits.groupby(df_permits.index.year).mean()\n",
    "# Here I take the average number of permits over each year\n",
    "\n",
    "# Here I find the percent of permits that are for single unit development\n",
    "for i in range(int(len(df_permits.columns)*1/2 + 1)):\n",
    "    df_permits[df_permits.columns[2*i].replace('Any', 'Ratio')] = 100*df_permits[df_permits.columns[2*i + \n",
    "                                                                        1]]/df_permits[df_permits.columns[2*i]]\n",
    "    \n",
    "df_ratios = df_permits[df_permits.columns[48:]]"
   ]
  },
  {
   "cell_type": "code",
   "execution_count": 115,
   "id": "42ae943e",
   "metadata": {},
   "outputs": [],
   "source": [
    "# Here I merge the permit ratios and real median wages so I can get them in a single dataframe for easier plotting\n",
    "df_ratios = df_ratios.transpose()\n",
    "df_rt_yrs = df_ratios[list(np.arange(2009, 2020))].reset_index()\n",
    "\n",
    "cities = []\n",
    "for index, item in df_rt_yrs.iterrows():\n",
    "    cities.append(item['index'].replace(\"_Ratio\", ''))\n",
    "    \n",
    "df_rt_yrs['City'] = cities\n",
    "df_rt_yrs.drop('index', axis=1, inplace=True)\n",
    "\n",
    "dft = df_col_wage.transpose()\n",
    "df_cw_yrs = dft[list(np.arange(2009, 2020))]\n",
    "\n",
    "df_wage_and_permits = df_rt_yrs.merge(df_cw_yrs, left_on=\"City\", right_index=True, \n",
    "                                      suffixes=(\"_Ratio\", \"_COL_Wage\"))"
   ]
  },
  {
   "cell_type": "code",
   "execution_count": 116,
   "id": "46a36fdf",
   "metadata": {},
   "outputs": [],
   "source": [
    "# Here I create a new dataframe to get both years and cities in the rows so I can plot permits vs. \n",
    "# real median wages. I do this by looping through each row and concatenating them vertically\n",
    "\n",
    "ratios = []\n",
    "\n",
    "for i in df_wage_and_permits.columns[:11]:\n",
    "    for index, item in df_wage_and_permits.iterrows():\n",
    "        ratios.append(item[i])\n",
    "\n",
    "wages = []\n",
    "for i in df_wage_and_permits.columns[12:]:\n",
    "    for index, item in df_wage_and_permits.iterrows():\n",
    "        wages.append(item[i])\n",
    "\n",
    "year = []\n",
    "counter = 0\n",
    "current = 2009\n",
    "for i in range(len(wages)):\n",
    "    year.append(current)\n",
    "    counter += 1\n",
    "    \n",
    "    if counter%24 == 0:\n",
    "        current +=1\n",
    "\n",
    "\n",
    "city = []\n",
    "for i in range(11):\n",
    "    city.extend(df_wage_and_permits['City'].tolist())\n",
    "\n",
    "wage_vs_permit = pd.DataFrame({\"City\":city, \"Year\":year, \"Permit_Ratio\":ratios, \"COL_Wage\":wages})\n",
    "\n",
    "# For some reason the ratio for LA isn't computing correcty so I'm excluding it for now\n",
    "wage_vs_permit = wage_vs_permit[wage_vs_permit['City']!='LA']"
   ]
  },
  {
   "cell_type": "markdown",
   "id": "613544e0",
   "metadata": {},
   "source": [
    "The variable I will be using to approximate net income is Real Median Wages Adjusted for Cost of Living. As a preliminary test, I plotted this vs the permit ratio that I mentioned above. While this plot and linear regression doesn't prove anything yet, it does show that there is a negative correlation between the percentage of permits given out for single unit housing and the real adjusted wage. Although the R squared is pretty small, there is a significant coefficient associated with Permit_Ratio, even after taking out the outliers of New York and San Francisco. This shows that the relationship that I suspect may be there, but there are quite a few other confounding variables to consider."
   ]
  },
  {
   "cell_type": "code",
   "execution_count": 117,
   "id": "b7b6b97d",
   "metadata": {},
   "outputs": [
    {
     "name": "stdout",
     "output_type": "stream",
     "text": [
      "                            OLS Regression Results                            \n",
      "==============================================================================\n",
      "Dep. Variable:               COL_Wage   R-squared:                       0.095\n",
      "Model:                            OLS   Adj. R-squared:                  0.091\n",
      "Method:                 Least Squares   F-statistic:                     26.34\n",
      "Date:                Sun, 13 Mar 2022   Prob (F-statistic):           5.73e-07\n",
      "Time:                        21:59:39   Log-Likelihood:                -901.98\n",
      "No. Observations:                 253   AIC:                             1808.\n",
      "Df Residuals:                     251   BIC:                             1815.\n",
      "Df Model:                           1                                         \n",
      "Covariance Type:            nonrobust                                         \n",
      "================================================================================\n",
      "                   coef    std err          t      P>|t|      [0.025      0.975]\n",
      "--------------------------------------------------------------------------------\n",
      "const           34.2358      2.004     17.085      0.000      30.289      38.182\n",
      "Permit_Ratio    -0.1648      0.032     -5.132      0.000      -0.228      -0.102\n",
      "==============================================================================\n",
      "Omnibus:                       28.889   Durbin-Watson:                   0.645\n",
      "Prob(Omnibus):                  0.000   Jarque-Bera (JB):               35.116\n",
      "Skew:                           0.875   Prob(JB):                     2.37e-08\n",
      "Kurtosis:                       3.519   Cond. No.                         232.\n",
      "==============================================================================\n",
      "\n",
      "Notes:\n",
      "[1] Standard Errors assume that the covariance matrix of the errors is correctly specified.\n"
     ]
    },
    {
     "data": {
      "application/vnd.plotly.v1+json": {
       "config": {
        "plotlyServerURL": "https://plot.ly"
       },
       "data": [
        {
         "hovertemplate": "<b>%{hovertext}</b><br><br>Permit_Ratio=%{x}<br>COL_Wage=%{y}<br>Year=%{marker.color}<extra></extra>",
         "hovertext": [
          "STL",
          "SEA",
          "DEN",
          "AUS",
          "SLC",
          "DC",
          "MEM",
          "PHX",
          "CHA",
          "DET",
          "MIN",
          "IND",
          "BOS",
          "MIA",
          "PHI",
          "SF",
          "NY",
          "CHI",
          "HOU",
          "ATL",
          "JAC",
          "KC",
          "LV",
          "STL",
          "SEA",
          "DEN",
          "AUS",
          "SLC",
          "DC",
          "MEM",
          "PHX",
          "CHA",
          "DET",
          "MIN",
          "IND",
          "BOS",
          "MIA",
          "PHI",
          "SF",
          "NY",
          "CHI",
          "HOU",
          "ATL",
          "JAC",
          "KC",
          "LV",
          "STL",
          "SEA",
          "DEN",
          "AUS",
          "SLC",
          "DC",
          "MEM",
          "PHX",
          "CHA",
          "DET",
          "MIN",
          "IND",
          "BOS",
          "MIA",
          "PHI",
          "SF",
          "NY",
          "CHI",
          "HOU",
          "ATL",
          "JAC",
          "KC",
          "LV",
          "STL",
          "SEA",
          "DEN",
          "AUS",
          "SLC",
          "DC",
          "MEM",
          "PHX",
          "CHA",
          "DET",
          "MIN",
          "IND",
          "BOS",
          "MIA",
          "PHI",
          "SF",
          "NY",
          "CHI",
          "HOU",
          "ATL",
          "JAC",
          "KC",
          "LV",
          "STL",
          "SEA",
          "DEN",
          "AUS",
          "SLC",
          "DC",
          "MEM",
          "PHX",
          "CHA",
          "DET",
          "MIN",
          "IND",
          "BOS",
          "MIA",
          "PHI",
          "SF",
          "NY",
          "CHI",
          "HOU",
          "ATL",
          "JAC",
          "KC",
          "LV",
          "STL",
          "SEA",
          "DEN",
          "AUS",
          "SLC",
          "DC",
          "MEM",
          "PHX",
          "CHA",
          "DET",
          "MIN",
          "IND",
          "BOS",
          "MIA",
          "PHI",
          "SF",
          "NY",
          "CHI",
          "HOU",
          "ATL",
          "JAC",
          "KC",
          "LV",
          "STL",
          "SEA",
          "DEN",
          "AUS",
          "SLC",
          "DC",
          "MEM",
          "PHX",
          "CHA",
          "DET",
          "MIN",
          "IND",
          "BOS",
          "MIA",
          "PHI",
          "SF",
          "NY",
          "CHI",
          "HOU",
          "ATL",
          "JAC",
          "KC",
          "LV",
          "STL",
          "SEA",
          "DEN",
          "AUS",
          "SLC",
          "DC",
          "MEM",
          "PHX",
          "CHA",
          "DET",
          "MIN",
          "IND",
          "BOS",
          "MIA",
          "PHI",
          "SF",
          "NY",
          "CHI",
          "HOU",
          "ATL",
          "JAC",
          "KC",
          "LV",
          "STL",
          "SEA",
          "DEN",
          "AUS",
          "SLC",
          "DC",
          "MEM",
          "PHX",
          "CHA",
          "DET",
          "MIN",
          "IND",
          "BOS",
          "MIA",
          "PHI",
          "SF",
          "NY",
          "CHI",
          "HOU",
          "ATL",
          "JAC",
          "KC",
          "LV",
          "STL",
          "SEA",
          "DEN",
          "AUS",
          "SLC",
          "DC",
          "MEM",
          "PHX",
          "CHA",
          "DET",
          "MIN",
          "IND",
          "BOS",
          "MIA",
          "PHI",
          "SF",
          "NY",
          "CHI",
          "HOU",
          "ATL",
          "JAC",
          "KC",
          "LV",
          "STL",
          "SEA",
          "DEN",
          "AUS",
          "SLC",
          "DC",
          "MEM",
          "PHX",
          "CHA",
          "DET",
          "MIN",
          "IND",
          "BOS",
          "MIA",
          "PHI",
          "SF",
          "NY",
          "CHI",
          "HOU",
          "ATL",
          "JAC",
          "KC",
          "LV"
         ],
         "legendgroup": "",
         "marker": {
          "color": [
           2009,
           2009,
           2009,
           2009,
           2009,
           2009,
           2009,
           2009,
           2009,
           2009,
           2009,
           2009,
           2009,
           2009,
           2009,
           2009,
           2009,
           2009,
           2009,
           2009,
           2009,
           2009,
           2009,
           2010,
           2010,
           2010,
           2010,
           2010,
           2010,
           2010,
           2010,
           2010,
           2010,
           2010,
           2010,
           2010,
           2010,
           2010,
           2010,
           2010,
           2010,
           2010,
           2010,
           2010,
           2010,
           2010,
           2011,
           2011,
           2011,
           2011,
           2011,
           2011,
           2011,
           2011,
           2011,
           2011,
           2011,
           2011,
           2011,
           2011,
           2011,
           2011,
           2011,
           2011,
           2011,
           2011,
           2011,
           2011,
           2011,
           2012,
           2012,
           2012,
           2012,
           2012,
           2012,
           2012,
           2012,
           2012,
           2012,
           2012,
           2012,
           2012,
           2012,
           2012,
           2012,
           2012,
           2012,
           2012,
           2012,
           2012,
           2012,
           2012,
           2013,
           2013,
           2013,
           2013,
           2013,
           2013,
           2013,
           2013,
           2013,
           2013,
           2013,
           2013,
           2013,
           2013,
           2013,
           2013,
           2013,
           2013,
           2013,
           2013,
           2013,
           2013,
           2013,
           2014,
           2014,
           2014,
           2014,
           2014,
           2014,
           2014,
           2014,
           2014,
           2014,
           2014,
           2014,
           2014,
           2014,
           2014,
           2014,
           2014,
           2014,
           2014,
           2014,
           2014,
           2014,
           2014,
           2015,
           2015,
           2015,
           2015,
           2015,
           2015,
           2015,
           2015,
           2015,
           2015,
           2015,
           2015,
           2015,
           2015,
           2015,
           2015,
           2015,
           2015,
           2015,
           2015,
           2015,
           2015,
           2015,
           2016,
           2016,
           2016,
           2016,
           2016,
           2016,
           2016,
           2016,
           2016,
           2016,
           2016,
           2016,
           2016,
           2016,
           2016,
           2016,
           2016,
           2016,
           2016,
           2016,
           2016,
           2016,
           2016,
           2017,
           2017,
           2017,
           2017,
           2017,
           2017,
           2017,
           2017,
           2017,
           2017,
           2017,
           2017,
           2017,
           2017,
           2017,
           2017,
           2017,
           2017,
           2017,
           2017,
           2017,
           2017,
           2017,
           2018,
           2018,
           2018,
           2018,
           2018,
           2018,
           2018,
           2018,
           2018,
           2018,
           2018,
           2018,
           2018,
           2018,
           2018,
           2018,
           2018,
           2018,
           2018,
           2018,
           2018,
           2018,
           2018,
           2019,
           2019,
           2019,
           2019,
           2019,
           2019,
           2019,
           2019,
           2019,
           2019,
           2019,
           2019,
           2019,
           2019,
           2019,
           2019,
           2019,
           2019,
           2019,
           2019,
           2019,
           2019,
           2019
          ],
          "coloraxis": "coloraxis",
          "symbol": "circle"
         },
         "mode": "markers",
         "name": "",
         "orientation": "v",
         "showlegend": false,
         "type": "scatter",
         "x": [
          79.1807173727817,
          66.98820209972624,
          65.74090467664107,
          77.45275125971769,
          34.63245781766398,
          78.12787972102652,
          77.2664167725176,
          93.82186051025731,
          64.07818554690893,
          94.26373496641713,
          79.09012170404013,
          68.30481587366414,
          52.04164331441005,
          60.87552626274548,
          73.3150105738211,
          64.95377524056143,
          41.08396456527107,
          72.64203481347988,
          82.3247506931703,
          83.25081245195445,
          70.45042552327045,
          53.713800445858894,
          71.2358909442253,
          75.69435908112361,
          59.21238842328879,
          73.60083329247698,
          80.04879247590193,
          62.36481286441729,
          77.217181724233,
          68.13044145939065,
          88.25225495483417,
          79.31062051866232,
          75.8341464618493,
          67.44210598072611,
          70.52917476957975,
          55.33976066197525,
          62.92420144199108,
          71.8728333850287,
          45.96681591371242,
          40.53840057852604,
          60.85631670249219,
          81.7325149615047,
          86.49970145041132,
          93.83995091427262,
          81.99284875150003,
          83.58588010887748,
          72.51692611818481,
          54.81560563674564,
          55.63178443576612,
          60.35055026159109,
          60.94847343447427,
          52.945481320460274,
          74.31979628743214,
          79.77307355386226,
          74.70307017970825,
          86.45248358922537,
          72.79393931795151,
          71.82543762555207,
          53.786414592253706,
          53.94090810893717,
          63.310690649148924,
          32.99438404832213,
          28.158568402303278,
          50.4315668478128,
          73.9262701409762,
          73.60336819916715,
          81.42794416349693,
          75.1742990206212,
          77.80564068433414,
          72.27963162992566,
          48.51407715727882,
          47.980873784822236,
          42.771898659549066,
          71.6224402690518,
          52.061027939603704,
          65.03836078732331,
          76.42442707560315,
          55.101943856275845,
          89.36550256705905,
          49.45358419994703,
          82.01169620780347,
          44.70349240081542,
          42.62131546026713,
          58.42051650560113,
          36.33890339434194,
          24.90565066432751,
          60.805451201294034,
          65.4445330698264,
          64.91227186807596,
          61.577095314891544,
          66.43903186688581,
          82.17462614256276,
          83.78466320803201,
          47.50981868947579,
          44.858657216388025,
          42.438919392350314,
          61.95276690762822,
          63.69315964391379,
          72.34101727934491,
          75.51604615983337,
          61.32009588040625,
          85.80670623370763,
          60.48733448743588,
          63.562689542576685,
          43.153175518830444,
          31.89492234979158,
          54.11323232416811,
          33.141565422803154,
          25.070603881374346,
          56.605744271291336,
          67.26346021413158,
          62.98106651651635,
          84.67028715684846,
          59.73740607675735,
          83.72662877062263,
          65.48786002172825,
          39.73189620889912,
          50.159259036509916,
          50.62642088342087,
          58.15829122851264,
          53.25989551565033,
          80.09550457988055,
          57.174354774254304,
          61.5676620044255,
          76.69854769903823,
          58.36787566708305,
          61.77574489135763,
          42.42124706159498,
          34.97130770349404,
          45.19603917221133,
          35.99695251806475,
          24.44281160080822,
          49.888435460930594,
          60.38022191403528,
          65.16835716725438,
          80.64509421196595,
          49.5191425026706,
          64.72878909684344,
          67.45572972190544,
          33.962408007060446,
          53.98909234371656,
          52.84231551889481,
          51.35108163280086,
          51.620704008689096,
          65.43654057302504,
          70.08171574423173,
          62.28424960622033,
          74.72721416927587,
          60.32659077842113,
          57.53980398534671,
          30.943431747155834,
          31.199380235645727,
          49.552587993665504,
          35.452089600549385,
          12.410487376424376,
          45.89798421941248,
          64.55333806354835,
          67.20490738303272,
          75.054835702255,
          50.975043900596056,
          73.34228114439036,
          64.81431321097048,
          37.01229625193172,
          50.46700718664531,
          60.974843099074484,
          50.09071651616819,
          54.87188073728981,
          70.65037607206091,
          64.02581229327141,
          67.99481356899109,
          78.97305477014737,
          57.00207498062352,
          74.02322508489584,
          45.03426968684192,
          35.83689614203325,
          57.52380899146309,
          31.575567165225596,
          24.765010493490216,
          42.677153060225685,
          78.7160491182894,
          64.0297020338804,
          72.48446556352317,
          53.76762590679696,
          66.15050819779343,
          75.46229324388356,
          37.25239459282573,
          48.91792535589233,
          58.869671570807,
          62.5591462082375,
          57.43399023947049,
          80.06022617146179,
          69.25805601798302,
          65.04071182731748,
          68.3538433214158,
          56.93727389090767,
          79.87276120177138,
          35.223490004918325,
          34.643777600857966,
          53.331144379965984,
          28.24550329267323,
          21.12932634582544,
          40.93677487983175,
          86.88284824804137,
          76.16715805337357,
          75.59477689622517,
          58.149227282329235,
          71.95319660065259,
          72.35740133620692,
          37.474884182328495,
          52.294782462534755,
          58.60000058982874,
          57.0578058744634,
          54.13369162321296,
          72.69002877091837,
          74.03271165035243,
          60.06097759704987,
          83.68539579512287,
          49.14054589877941,
          80.32407320219525,
          37.27586898204794,
          33.68196422065319,
          54.460176750840134,
          23.459804979272533,
          21.80396387228211,
          47.35023046471701,
          70.1180278325531,
          67.72562487120966,
          67.29132102449866,
          57.93760284210921,
          82.13245080623564,
          75.52971012511594,
          33.790579489259,
          56.32899701615155,
          57.405052578317736,
          43.536753836216185,
          48.0301555268002,
          90.17229406242686,
          69.36797929167183,
          64.79613302891906,
          72.35017852838823,
          42.15805414118313,
          74.73613762064706,
          33.292966873138205,
          33.91471208871167,
          46.60934311840528,
          29.653510940338965,
          20.298227379217526,
          43.56330721731139,
          64.09901934580809,
          80.96748962337232,
          75.7255370951741,
          52.30314374741109,
          76.88822318474261
         ],
         "xaxis": "x",
         "y": [
          20.21,
          30.99,
          25.04,
          28.49,
          27.13,
          28.54,
          24.56,
          25.66,
          30.57,
          19.79,
          30.62,
          22.38,
          26.19,
          21.68,
          18.12,
          31.55,
          39.9,
          26.11,
          27.18,
          34.31,
          23.37,
          24.01,
          25.22,
          13.49,
          22.68,
          15.97,
          19.34,
          20.98,
          18.57,
          17.6,
          18.41,
          20.59,
          14.71,
          21.27,
          15.29,
          16.51,
          14.05,
          11.65,
          21.81,
          19.23,
          17.74,
          18.43,
          20.09,
          17.54,
          17.63,
          18.67,
          12.94,
          22.94,
          16.25,
          19.25,
          20.1,
          18.76,
          17.22,
          18.26,
          19.9,
          14,
          21.19,
          15.08,
          15.8,
          13.81,
          11.31,
          20.72,
          19.35,
          16.98,
          18.06,
          20,
          17.01,
          16.87,
          17.07,
          12.39,
          22.56,
          17.09,
          20.44,
          20.76,
          19.55,
          17.01,
          18.4,
          20.8,
          14.2,
          21.41,
          15.49,
          16.15,
          13.8,
          11.56,
          21.11,
          19.24,
          17.22,
          17.96,
          20.26,
          15.82,
          16.61,
          17.37,
          13.14,
          22.93,
          16.91,
          21.19,
          21.33,
          19.63,
          16.97,
          18.45,
          20.09,
          14.41,
          21.73,
          15.28,
          17.19,
          13.69,
          11.94,
          21.95,
          20.55,
          17.8,
          18.05,
          20.13,
          17.25,
          17.14,
          17.66,
          13.63,
          23.94,
          17.97,
          21.43,
          21.52,
          20.66,
          16.45,
          19.02,
          21.61,
          14.68,
          21.61,
          15.68,
          17.04,
          13.87,
          12.6,
          23.95,
          21.49,
          18.1,
          18.49,
          19.96,
          16.39,
          16.78,
          17.75,
          14.46,
          25.55,
          18.67,
          22.38,
          22.42,
          21.67,
          17.56,
          19.66,
          20.76,
          14.68,
          22.97,
          15.11,
          17.56,
          13.99,
          13.24,
          25.78,
          21.15,
          18.55,
          19.15,
          21.41,
          17.65,
          17.56,
          17.82,
          24.74,
          35.21,
          31.5,
          38.39,
          29.98,
          32.12,
          28.13,
          28.06,
          35.6,
          24.33,
          38.58,
          25.87,
          30.67,
          26.77,
          22.33,
          50.21,
          50.36,
          27.86,
          32.37,
          40.14,
          25.97,
          28.03,
          24.7,
          24.15,
          35.7,
          32.85,
          38.91,
          30.17,
          33.48,
          29,
          28.61,
          36.84,
          24.45,
          39.76,
          25.63,
          32.42,
          26.68,
          22.01,
          51.08,
          51.91,
          28.52,
          32.52,
          42.31,
          26.37,
          28.25,
          26.33,
          24.45,
          36.77,
          34.01,
          41.56,
          31.96,
          34.07,
          27.19,
          29.17,
          36.38,
          24.67,
          40.6,
          25.74,
          30.31,
          28.47,
          24.44,
          55.32,
          53.24,
          29.54,
          33.06,
          44.55,
          28.38,
          28.51,
          26.66,
          24.34,
          38.26,
          34.91,
          41.85,
          32.44,
          36.21,
          30.16,
          29.58,
          37.93,
          25.67,
          39.93,
          26.65,
          33.4,
          28.48,
          25.38,
          54.38,
          57.8,
          30.79,
          33.89,
          47.26,
          27.3,
          28.69,
          27.84
         ],
         "yaxis": "y"
        },
        {
         "hovertemplate": "<b>OLS trendline</b><br>COL_Wage = -0.164785 * Permit_Ratio + 34.2358<br>R<sup>2</sup>=0.094978<br><br>Permit_Ratio=%{x}<br>COL_Wage=%{y} <b>(trend)</b><extra></extra>",
         "legendgroup": "",
         "marker": {
          "symbol": "circle"
         },
         "mode": "lines",
         "name": "",
         "showlegend": false,
         "type": "scatter",
         "x": [
          12.410487376424376,
          20.298227379217526,
          21.12932634582544,
          21.80396387228211,
          23.459804979272533,
          24.44281160080822,
          24.765010493490216,
          24.90565066432751,
          25.070603881374346,
          28.158568402303278,
          28.24550329267323,
          29.653510940338965,
          30.943431747155834,
          31.199380235645727,
          31.575567165225596,
          31.89492234979158,
          32.99438404832213,
          33.141565422803154,
          33.292966873138205,
          33.68196422065319,
          33.790579489259,
          33.91471208871167,
          33.962408007060446,
          34.63245781766398,
          34.643777600857966,
          34.97130770349404,
          35.223490004918325,
          35.452089600549385,
          35.83689614203325,
          35.99695251806475,
          36.33890339434194,
          37.01229625193172,
          37.25239459282573,
          37.27586898204794,
          37.474884182328495,
          39.73189620889912,
          40.53840057852604,
          40.93677487983175,
          41.08396456527107,
          42.15805414118313,
          42.42124706159498,
          42.438919392350314,
          42.62131546026713,
          42.677153060225685,
          42.771898659549066,
          43.153175518830444,
          43.536753836216185,
          43.56330721731139,
          44.70349240081542,
          44.858657216388025,
          45.03426968684192,
          45.19603917221133,
          45.89798421941248,
          45.96681591371242,
          46.60934311840528,
          47.35023046471701,
          47.50981868947579,
          47.980873784822236,
          48.0301555268002,
          48.51407715727882,
          48.91792535589233,
          49.14054589877941,
          49.45358419994703,
          49.5191425026706,
          49.552587993665504,
          49.888435460930594,
          50.09071651616819,
          50.159259036509916,
          50.4315668478128,
          50.46700718664531,
          50.62642088342087,
          50.975043900596056,
          51.35108163280086,
          51.620704008689096,
          52.04164331441005,
          52.061027939603704,
          52.294782462534755,
          52.30314374741109,
          52.84231551889481,
          52.945481320460274,
          53.25989551565033,
          53.331144379965984,
          53.713800445858894,
          53.76762590679696,
          53.786414592253706,
          53.94090810893717,
          53.98909234371656,
          54.11323232416811,
          54.13369162321296,
          54.460176750840134,
          54.81560563674564,
          54.87188073728981,
          55.101943856275845,
          55.33976066197525,
          55.63178443576612,
          56.32899701615155,
          56.605744271291336,
          56.93727389090767,
          57.00207498062352,
          57.0578058744634,
          57.174354774254304,
          57.405052578317736,
          57.43399023947049,
          57.52380899146309,
          57.53980398534671,
          57.93760284210921,
          58.149227282329235,
          58.15829122851264,
          58.36787566708305,
          58.42051650560113,
          58.60000058982874,
          58.869671570807,
          59.21238842328879,
          59.73740607675735,
          60.06097759704987,
          60.32659077842113,
          60.35055026159109,
          60.38022191403528,
          60.48733448743588,
          60.805451201294034,
          60.85631670249219,
          60.87552626274548,
          60.94847343447427,
          60.974843099074484,
          61.32009588040625,
          61.5676620044255,
          61.577095314891544,
          61.77574489135763,
          61.95276690762822,
          62.28424960622033,
          62.36481286441729,
          62.5591462082375,
          62.92420144199108,
          62.98106651651635,
          63.310690649148924,
          63.562689542576685,
          63.69315964391379,
          64.02581229327141,
          64.0297020338804,
          64.07818554690893,
          64.09901934580809,
          64.55333806354835,
          64.72878909684344,
          64.79613302891906,
          64.81431321097048,
          64.91227186807596,
          64.95377524056143,
          65.03836078732331,
          65.04071182731748,
          65.16835716725438,
          65.43654057302504,
          65.4445330698264,
          65.48786002172825,
          65.74090467664107,
          66.15050819779343,
          66.43903186688581,
          66.98820209972624,
          67.20490738303272,
          67.26346021413158,
          67.29132102449866,
          67.44210598072611,
          67.45572972190544,
          67.72562487120966,
          67.99481356899109,
          68.13044145939065,
          68.30481587366414,
          68.3538433214158,
          69.25805601798302,
          69.36797929167183,
          70.08171574423173,
          70.1180278325531,
          70.45042552327045,
          70.52917476957975,
          70.65037607206091,
          71.2358909442253,
          71.6224402690518,
          71.82543762555207,
          71.8728333850287,
          71.95319660065259,
          72.27963162992566,
          72.34101727934491,
          72.35017852838823,
          72.35740133620692,
          72.48446556352317,
          72.51692611818481,
          72.64203481347988,
          72.69002877091837,
          72.79393931795151,
          73.3150105738211,
          73.34228114439036,
          73.60083329247698,
          73.60336819916715,
          73.9262701409762,
          74.02322508489584,
          74.03271165035243,
          74.31979628743214,
          74.70307017970825,
          74.72721416927587,
          74.73613762064706,
          75.054835702255,
          75.1742990206212,
          75.46229324388356,
          75.51604615983337,
          75.52971012511594,
          75.59477689622517,
          75.69435908112361,
          75.7255370951741,
          75.8341464618493,
          76.16715805337357,
          76.42442707560315,
          76.69854769903823,
          76.88822318474261,
          77.217181724233,
          77.2664167725176,
          77.45275125971769,
          77.80564068433414,
          78.12787972102652,
          78.7160491182894,
          78.97305477014737,
          79.09012170404013,
          79.1807173727817,
          79.31062051866232,
          79.77307355386226,
          79.87276120177138,
          80.04879247590193,
          80.06022617146179,
          80.09550457988055,
          80.32407320219525,
          80.64509421196595,
          80.96748962337232,
          81.42794416349693,
          81.7325149615047,
          81.99284875150003,
          82.01169620780347,
          82.13245080623564,
          82.17462614256276,
          82.3247506931703,
          83.25081245195445,
          83.58588010887748,
          83.68539579512287,
          83.72662877062263,
          83.78466320803201,
          84.67028715684846,
          85.80670623370763,
          86.45248358922537,
          86.49970145041132,
          86.88284824804137,
          88.25225495483417,
          89.36550256705905,
          90.17229406242686,
          93.82186051025731,
          93.83995091427262,
          94.26373496641713
         ],
         "xaxis": "x",
         "y": [
          32.190692272842405,
          30.89090946934505,
          30.753956661009727,
          30.642786382175505,
          30.369928276377387,
          30.207943334943764,
          30.154849726398645,
          30.131674307904817,
          30.104492459260833,
          29.595641612162414,
          29.581316028980567,
          29.349297209016846,
          29.136737352583918,
          29.094560830056235,
          29.032570792124552,
          28.979945784586324,
          28.798770770152792,
          28.774517458116925,
          28.749568740043006,
          28.68546773484671,
          28.667569546229807,
          28.64711433116632,
          28.63925474978499,
          28.52884045861911,
          28.526975125896474,
          28.47300301285987,
          28.43144710221606,
          28.393777272431805,
          28.33036685003998,
          28.303991928315607,
          28.247643485229432,
          28.13667830940173,
          28.097113656594743,
          28.093245424702868,
          28.060450665384273,
          27.688528490162426,
          27.555628507377076,
          27.489982318987362,
          27.46572763742858,
          27.288733573261673,
          27.245363275580406,
          27.242451137045748,
          27.212394964755603,
          27.20319375475261,
          27.187581082344042,
          27.12475229933523,
          27.06154427009544,
          27.057168665916034,
          26.8692830239202,
          26.843714158957905,
          26.814775823123455,
          26.788118606336475,
          26.672448452270913,
          26.661106007850208,
          26.55522703476752,
          26.433139766205958,
          26.40684198888207,
          26.32921908140613,
          26.321098179762988,
          26.241355057738964,
          26.17480685209383,
          26.138122281703907,
          26.086538203051518,
          26.075735165112086,
          26.070223843233535,
          26.01488115161404,
          25.98154822773749,
          25.970253434904947,
          25.925381138117253,
          25.919541094841446,
          25.893272077145955,
          25.83582416399628,
          25.773858711583692,
          25.729428934804346,
          25.66006436767885,
          25.656870068364974,
          25.618350782861405,
          25.616972966871835,
          25.52812543938518,
          25.511125242277224,
          25.459314436654985,
          25.447573678392995,
          25.384517622548678,
          25.375647983273954,
          25.372551886008026,
          25.347093641166552,
          25.33915359246518,
          25.318697161122323,
          25.315325771464366,
          25.26152585484222,
          25.202956435261626,
          25.193683131637712,
          25.15577213486663,
          25.116583445289987,
          25.068462249706542,
          24.953571936125453,
          24.907968084703064,
          24.853336910466247,
          24.842658650022734,
          24.833475023608706,
          24.81426949000071,
          24.776253906523053,
          24.77148540828066,
          24.756684607388358,
          24.75404886914336,
          24.688497505497033,
          24.653624930069803,
          24.652131325897145,
          24.617594912547062,
          24.608920481513174,
          24.57934416103381,
          24.53490637485504,
          24.47843171022781,
          24.391916571890423,
          24.338596774631796,
          24.294827653767474,
          24.29087948557304,
          24.285990036429858,
          24.2683394697409,
          24.215918543844317,
          24.207536662123417,
          24.20437121092052,
          24.192350596734038,
          24.188005266313766,
          24.13111271814715,
          24.09031748521417,
          24.088763015274814,
          24.056028505349126,
          24.026857897227224,
          23.972234454880706,
          23.958958822372402,
          23.926935563700816,
          23.866779864477515,
          23.85740934187391,
          23.80309216368829,
          23.76156647596763,
          23.740066934396978,
          23.685250701481117,
          23.68460972980205,
          23.676620364474935,
          23.673187262784076,
          23.598322262617152,
          23.56941052923699,
          23.55831324601001,
          23.55531742109862,
          23.53917528432506,
          23.532336142844148,
          23.518397696715525,
          23.51801028012298,
          23.496976217420887,
          23.45278356161826,
          23.451466516444896,
          23.44432687606755,
          23.402628862332797,
          23.335132264719633,
          23.28758783458433,
          23.197092708656513,
          23.161382885491825,
          23.151734245585914,
          23.147143196414188,
          23.122296067444275,
          23.12005107654727,
          23.075576350746378,
          23.03121803770002,
          23.008868568833968,
          22.98013424633318,
          22.972055248614645,
          22.823054379761736,
          22.804940651267355,
          22.687327448127032,
          22.681343753438505,
          22.626569533932837,
          22.613592823733846,
          22.593620643024202,
          22.49713645848443,
          22.433438851193234,
          22.399987891470797,
          22.392177771828848,
          22.37893510337569,
          22.325143442220778,
          22.315027995785123,
          22.31351835754136,
          22.312328145719928,
          22.291389841776486,
          22.286040822827296,
          22.26542476161649,
          22.257516067804545,
          22.24039314766673,
          22.154528317241763,
          22.150034530852388,
          22.10742896376076,
          22.10701124865819,
          22.053801788022987,
          22.03782504832617,
          22.036261802752616,
          21.988954503793426,
          21.92579663930581,
          21.921818067187978,
          21.92034761448086,
          21.867830887784127,
          21.848145101132168,
          21.80068791583315,
          21.79183023089873,
          21.789578611664883,
          21.778856570860174,
          21.762446900736684,
          21.757309225496925,
          21.73941200943083,
          21.68453662815872,
          21.642142501216384,
          21.596971479821313,
          21.565715767224773,
          21.511508268937327,
          21.503395061723722,
          21.4726898962295,
          21.41453894228197,
          21.361438718598126,
          21.264517107612598,
          21.22216638020927,
          21.20287548224888,
          21.187946656975743,
          21.16654054127263,
          21.09033512598699,
          21.07390807712033,
          21.044900728638815,
          21.043016624844334,
          21.03720326530393,
          20.999538539463764,
          20.94663902858821,
          20.893513036666054,
          20.817636943788457,
          20.767448184326586,
          20.72454902901906,
          20.721443247187484,
          20.701544676693302,
          20.694594805517234,
          20.66985650161861,
          20.517255230707306,
          20.462041040289968,
          20.44564232816023,
          20.43884774410033,
          20.429284527801535,
          20.28334680943995,
          20.09608176607584,
          19.98966721624373,
          19.981886411606954,
          19.918749490435836,
          19.693091534183104,
          19.509644805222464,
          19.376697508364856,
          18.775302976162834,
          18.772321945342966,
          18.702488606112873
         ],
         "yaxis": "y"
        }
       ],
       "layout": {
        "coloraxis": {
         "colorbar": {
          "title": {
           "text": "Year"
          }
         },
         "colorscale": [
          [
           0,
           "#0d0887"
          ],
          [
           0.1111111111111111,
           "#46039f"
          ],
          [
           0.2222222222222222,
           "#7201a8"
          ],
          [
           0.3333333333333333,
           "#9c179e"
          ],
          [
           0.4444444444444444,
           "#bd3786"
          ],
          [
           0.5555555555555556,
           "#d8576b"
          ],
          [
           0.6666666666666666,
           "#ed7953"
          ],
          [
           0.7777777777777778,
           "#fb9f3a"
          ],
          [
           0.8888888888888888,
           "#fdca26"
          ],
          [
           1,
           "#f0f921"
          ]
         ]
        },
        "legend": {
         "tracegroupgap": 0
        },
        "template": {
         "data": {
          "bar": [
           {
            "error_x": {
             "color": "#2a3f5f"
            },
            "error_y": {
             "color": "#2a3f5f"
            },
            "marker": {
             "line": {
              "color": "#E5ECF6",
              "width": 0.5
             },
             "pattern": {
              "fillmode": "overlay",
              "size": 10,
              "solidity": 0.2
             }
            },
            "type": "bar"
           }
          ],
          "barpolar": [
           {
            "marker": {
             "line": {
              "color": "#E5ECF6",
              "width": 0.5
             },
             "pattern": {
              "fillmode": "overlay",
              "size": 10,
              "solidity": 0.2
             }
            },
            "type": "barpolar"
           }
          ],
          "carpet": [
           {
            "aaxis": {
             "endlinecolor": "#2a3f5f",
             "gridcolor": "white",
             "linecolor": "white",
             "minorgridcolor": "white",
             "startlinecolor": "#2a3f5f"
            },
            "baxis": {
             "endlinecolor": "#2a3f5f",
             "gridcolor": "white",
             "linecolor": "white",
             "minorgridcolor": "white",
             "startlinecolor": "#2a3f5f"
            },
            "type": "carpet"
           }
          ],
          "choropleth": [
           {
            "colorbar": {
             "outlinewidth": 0,
             "ticks": ""
            },
            "type": "choropleth"
           }
          ],
          "contour": [
           {
            "colorbar": {
             "outlinewidth": 0,
             "ticks": ""
            },
            "colorscale": [
             [
              0,
              "#0d0887"
             ],
             [
              0.1111111111111111,
              "#46039f"
             ],
             [
              0.2222222222222222,
              "#7201a8"
             ],
             [
              0.3333333333333333,
              "#9c179e"
             ],
             [
              0.4444444444444444,
              "#bd3786"
             ],
             [
              0.5555555555555556,
              "#d8576b"
             ],
             [
              0.6666666666666666,
              "#ed7953"
             ],
             [
              0.7777777777777778,
              "#fb9f3a"
             ],
             [
              0.8888888888888888,
              "#fdca26"
             ],
             [
              1,
              "#f0f921"
             ]
            ],
            "type": "contour"
           }
          ],
          "contourcarpet": [
           {
            "colorbar": {
             "outlinewidth": 0,
             "ticks": ""
            },
            "type": "contourcarpet"
           }
          ],
          "heatmap": [
           {
            "colorbar": {
             "outlinewidth": 0,
             "ticks": ""
            },
            "colorscale": [
             [
              0,
              "#0d0887"
             ],
             [
              0.1111111111111111,
              "#46039f"
             ],
             [
              0.2222222222222222,
              "#7201a8"
             ],
             [
              0.3333333333333333,
              "#9c179e"
             ],
             [
              0.4444444444444444,
              "#bd3786"
             ],
             [
              0.5555555555555556,
              "#d8576b"
             ],
             [
              0.6666666666666666,
              "#ed7953"
             ],
             [
              0.7777777777777778,
              "#fb9f3a"
             ],
             [
              0.8888888888888888,
              "#fdca26"
             ],
             [
              1,
              "#f0f921"
             ]
            ],
            "type": "heatmap"
           }
          ],
          "heatmapgl": [
           {
            "colorbar": {
             "outlinewidth": 0,
             "ticks": ""
            },
            "colorscale": [
             [
              0,
              "#0d0887"
             ],
             [
              0.1111111111111111,
              "#46039f"
             ],
             [
              0.2222222222222222,
              "#7201a8"
             ],
             [
              0.3333333333333333,
              "#9c179e"
             ],
             [
              0.4444444444444444,
              "#bd3786"
             ],
             [
              0.5555555555555556,
              "#d8576b"
             ],
             [
              0.6666666666666666,
              "#ed7953"
             ],
             [
              0.7777777777777778,
              "#fb9f3a"
             ],
             [
              0.8888888888888888,
              "#fdca26"
             ],
             [
              1,
              "#f0f921"
             ]
            ],
            "type": "heatmapgl"
           }
          ],
          "histogram": [
           {
            "marker": {
             "pattern": {
              "fillmode": "overlay",
              "size": 10,
              "solidity": 0.2
             }
            },
            "type": "histogram"
           }
          ],
          "histogram2d": [
           {
            "colorbar": {
             "outlinewidth": 0,
             "ticks": ""
            },
            "colorscale": [
             [
              0,
              "#0d0887"
             ],
             [
              0.1111111111111111,
              "#46039f"
             ],
             [
              0.2222222222222222,
              "#7201a8"
             ],
             [
              0.3333333333333333,
              "#9c179e"
             ],
             [
              0.4444444444444444,
              "#bd3786"
             ],
             [
              0.5555555555555556,
              "#d8576b"
             ],
             [
              0.6666666666666666,
              "#ed7953"
             ],
             [
              0.7777777777777778,
              "#fb9f3a"
             ],
             [
              0.8888888888888888,
              "#fdca26"
             ],
             [
              1,
              "#f0f921"
             ]
            ],
            "type": "histogram2d"
           }
          ],
          "histogram2dcontour": [
           {
            "colorbar": {
             "outlinewidth": 0,
             "ticks": ""
            },
            "colorscale": [
             [
              0,
              "#0d0887"
             ],
             [
              0.1111111111111111,
              "#46039f"
             ],
             [
              0.2222222222222222,
              "#7201a8"
             ],
             [
              0.3333333333333333,
              "#9c179e"
             ],
             [
              0.4444444444444444,
              "#bd3786"
             ],
             [
              0.5555555555555556,
              "#d8576b"
             ],
             [
              0.6666666666666666,
              "#ed7953"
             ],
             [
              0.7777777777777778,
              "#fb9f3a"
             ],
             [
              0.8888888888888888,
              "#fdca26"
             ],
             [
              1,
              "#f0f921"
             ]
            ],
            "type": "histogram2dcontour"
           }
          ],
          "mesh3d": [
           {
            "colorbar": {
             "outlinewidth": 0,
             "ticks": ""
            },
            "type": "mesh3d"
           }
          ],
          "parcoords": [
           {
            "line": {
             "colorbar": {
              "outlinewidth": 0,
              "ticks": ""
             }
            },
            "type": "parcoords"
           }
          ],
          "pie": [
           {
            "automargin": true,
            "type": "pie"
           }
          ],
          "scatter": [
           {
            "marker": {
             "colorbar": {
              "outlinewidth": 0,
              "ticks": ""
             }
            },
            "type": "scatter"
           }
          ],
          "scatter3d": [
           {
            "line": {
             "colorbar": {
              "outlinewidth": 0,
              "ticks": ""
             }
            },
            "marker": {
             "colorbar": {
              "outlinewidth": 0,
              "ticks": ""
             }
            },
            "type": "scatter3d"
           }
          ],
          "scattercarpet": [
           {
            "marker": {
             "colorbar": {
              "outlinewidth": 0,
              "ticks": ""
             }
            },
            "type": "scattercarpet"
           }
          ],
          "scattergeo": [
           {
            "marker": {
             "colorbar": {
              "outlinewidth": 0,
              "ticks": ""
             }
            },
            "type": "scattergeo"
           }
          ],
          "scattergl": [
           {
            "marker": {
             "colorbar": {
              "outlinewidth": 0,
              "ticks": ""
             }
            },
            "type": "scattergl"
           }
          ],
          "scattermapbox": [
           {
            "marker": {
             "colorbar": {
              "outlinewidth": 0,
              "ticks": ""
             }
            },
            "type": "scattermapbox"
           }
          ],
          "scatterpolar": [
           {
            "marker": {
             "colorbar": {
              "outlinewidth": 0,
              "ticks": ""
             }
            },
            "type": "scatterpolar"
           }
          ],
          "scatterpolargl": [
           {
            "marker": {
             "colorbar": {
              "outlinewidth": 0,
              "ticks": ""
             }
            },
            "type": "scatterpolargl"
           }
          ],
          "scatterternary": [
           {
            "marker": {
             "colorbar": {
              "outlinewidth": 0,
              "ticks": ""
             }
            },
            "type": "scatterternary"
           }
          ],
          "surface": [
           {
            "colorbar": {
             "outlinewidth": 0,
             "ticks": ""
            },
            "colorscale": [
             [
              0,
              "#0d0887"
             ],
             [
              0.1111111111111111,
              "#46039f"
             ],
             [
              0.2222222222222222,
              "#7201a8"
             ],
             [
              0.3333333333333333,
              "#9c179e"
             ],
             [
              0.4444444444444444,
              "#bd3786"
             ],
             [
              0.5555555555555556,
              "#d8576b"
             ],
             [
              0.6666666666666666,
              "#ed7953"
             ],
             [
              0.7777777777777778,
              "#fb9f3a"
             ],
             [
              0.8888888888888888,
              "#fdca26"
             ],
             [
              1,
              "#f0f921"
             ]
            ],
            "type": "surface"
           }
          ],
          "table": [
           {
            "cells": {
             "fill": {
              "color": "#EBF0F8"
             },
             "line": {
              "color": "white"
             }
            },
            "header": {
             "fill": {
              "color": "#C8D4E3"
             },
             "line": {
              "color": "white"
             }
            },
            "type": "table"
           }
          ]
         },
         "layout": {
          "annotationdefaults": {
           "arrowcolor": "#2a3f5f",
           "arrowhead": 0,
           "arrowwidth": 1
          },
          "autotypenumbers": "strict",
          "coloraxis": {
           "colorbar": {
            "outlinewidth": 0,
            "ticks": ""
           }
          },
          "colorscale": {
           "diverging": [
            [
             0,
             "#8e0152"
            ],
            [
             0.1,
             "#c51b7d"
            ],
            [
             0.2,
             "#de77ae"
            ],
            [
             0.3,
             "#f1b6da"
            ],
            [
             0.4,
             "#fde0ef"
            ],
            [
             0.5,
             "#f7f7f7"
            ],
            [
             0.6,
             "#e6f5d0"
            ],
            [
             0.7,
             "#b8e186"
            ],
            [
             0.8,
             "#7fbc41"
            ],
            [
             0.9,
             "#4d9221"
            ],
            [
             1,
             "#276419"
            ]
           ],
           "sequential": [
            [
             0,
             "#0d0887"
            ],
            [
             0.1111111111111111,
             "#46039f"
            ],
            [
             0.2222222222222222,
             "#7201a8"
            ],
            [
             0.3333333333333333,
             "#9c179e"
            ],
            [
             0.4444444444444444,
             "#bd3786"
            ],
            [
             0.5555555555555556,
             "#d8576b"
            ],
            [
             0.6666666666666666,
             "#ed7953"
            ],
            [
             0.7777777777777778,
             "#fb9f3a"
            ],
            [
             0.8888888888888888,
             "#fdca26"
            ],
            [
             1,
             "#f0f921"
            ]
           ],
           "sequentialminus": [
            [
             0,
             "#0d0887"
            ],
            [
             0.1111111111111111,
             "#46039f"
            ],
            [
             0.2222222222222222,
             "#7201a8"
            ],
            [
             0.3333333333333333,
             "#9c179e"
            ],
            [
             0.4444444444444444,
             "#bd3786"
            ],
            [
             0.5555555555555556,
             "#d8576b"
            ],
            [
             0.6666666666666666,
             "#ed7953"
            ],
            [
             0.7777777777777778,
             "#fb9f3a"
            ],
            [
             0.8888888888888888,
             "#fdca26"
            ],
            [
             1,
             "#f0f921"
            ]
           ]
          },
          "colorway": [
           "#636efa",
           "#EF553B",
           "#00cc96",
           "#ab63fa",
           "#FFA15A",
           "#19d3f3",
           "#FF6692",
           "#B6E880",
           "#FF97FF",
           "#FECB52"
          ],
          "font": {
           "color": "#2a3f5f"
          },
          "geo": {
           "bgcolor": "white",
           "lakecolor": "white",
           "landcolor": "#E5ECF6",
           "showlakes": true,
           "showland": true,
           "subunitcolor": "white"
          },
          "hoverlabel": {
           "align": "left"
          },
          "hovermode": "closest",
          "mapbox": {
           "style": "light"
          },
          "paper_bgcolor": "white",
          "plot_bgcolor": "#E5ECF6",
          "polar": {
           "angularaxis": {
            "gridcolor": "white",
            "linecolor": "white",
            "ticks": ""
           },
           "bgcolor": "#E5ECF6",
           "radialaxis": {
            "gridcolor": "white",
            "linecolor": "white",
            "ticks": ""
           }
          },
          "scene": {
           "xaxis": {
            "backgroundcolor": "#E5ECF6",
            "gridcolor": "white",
            "gridwidth": 2,
            "linecolor": "white",
            "showbackground": true,
            "ticks": "",
            "zerolinecolor": "white"
           },
           "yaxis": {
            "backgroundcolor": "#E5ECF6",
            "gridcolor": "white",
            "gridwidth": 2,
            "linecolor": "white",
            "showbackground": true,
            "ticks": "",
            "zerolinecolor": "white"
           },
           "zaxis": {
            "backgroundcolor": "#E5ECF6",
            "gridcolor": "white",
            "gridwidth": 2,
            "linecolor": "white",
            "showbackground": true,
            "ticks": "",
            "zerolinecolor": "white"
           }
          },
          "shapedefaults": {
           "line": {
            "color": "#2a3f5f"
           }
          },
          "ternary": {
           "aaxis": {
            "gridcolor": "white",
            "linecolor": "white",
            "ticks": ""
           },
           "baxis": {
            "gridcolor": "white",
            "linecolor": "white",
            "ticks": ""
           },
           "bgcolor": "#E5ECF6",
           "caxis": {
            "gridcolor": "white",
            "linecolor": "white",
            "ticks": ""
           }
          },
          "title": {
           "x": 0.05
          },
          "xaxis": {
           "automargin": true,
           "gridcolor": "white",
           "linecolor": "white",
           "ticks": "",
           "title": {
            "standoff": 15
           },
           "zerolinecolor": "white",
           "zerolinewidth": 2
          },
          "yaxis": {
           "automargin": true,
           "gridcolor": "white",
           "linecolor": "white",
           "ticks": "",
           "title": {
            "standoff": 15
           },
           "zerolinecolor": "white",
           "zerolinewidth": 2
          }
         }
        },
        "title": {
         "text": "Median Real Adjusted Wages vs Permit Ratio"
        },
        "xaxis": {
         "anchor": "y",
         "domain": [
          0,
          1
         ],
         "title": {
          "text": "Permit_Ratio"
         }
        },
        "yaxis": {
         "anchor": "x",
         "domain": [
          0,
          1
         ],
         "title": {
          "text": "COL_Wage"
         }
        }
       }
      },
      "text/html": [
       "<div>                            <div id=\"a7cf7ed8-6d54-4c8b-9c4d-490598232ca7\" class=\"plotly-graph-div\" style=\"height:525px; width:100%;\"></div>            <script type=\"text/javascript\">                require([\"plotly\"], function(Plotly) {                    window.PLOTLYENV=window.PLOTLYENV || {};                                    if (document.getElementById(\"a7cf7ed8-6d54-4c8b-9c4d-490598232ca7\")) {                    Plotly.newPlot(                        \"a7cf7ed8-6d54-4c8b-9c4d-490598232ca7\",                        [{\"hovertemplate\":\"<b>%{hovertext}</b><br><br>Permit_Ratio=%{x}<br>COL_Wage=%{y}<br>Year=%{marker.color}<extra></extra>\",\"hovertext\":[\"STL\",\"SEA\",\"DEN\",\"AUS\",\"SLC\",\"DC\",\"MEM\",\"PHX\",\"CHA\",\"DET\",\"MIN\",\"IND\",\"BOS\",\"MIA\",\"PHI\",\"SF\",\"NY\",\"CHI\",\"HOU\",\"ATL\",\"JAC\",\"KC\",\"LV\",\"STL\",\"SEA\",\"DEN\",\"AUS\",\"SLC\",\"DC\",\"MEM\",\"PHX\",\"CHA\",\"DET\",\"MIN\",\"IND\",\"BOS\",\"MIA\",\"PHI\",\"SF\",\"NY\",\"CHI\",\"HOU\",\"ATL\",\"JAC\",\"KC\",\"LV\",\"STL\",\"SEA\",\"DEN\",\"AUS\",\"SLC\",\"DC\",\"MEM\",\"PHX\",\"CHA\",\"DET\",\"MIN\",\"IND\",\"BOS\",\"MIA\",\"PHI\",\"SF\",\"NY\",\"CHI\",\"HOU\",\"ATL\",\"JAC\",\"KC\",\"LV\",\"STL\",\"SEA\",\"DEN\",\"AUS\",\"SLC\",\"DC\",\"MEM\",\"PHX\",\"CHA\",\"DET\",\"MIN\",\"IND\",\"BOS\",\"MIA\",\"PHI\",\"SF\",\"NY\",\"CHI\",\"HOU\",\"ATL\",\"JAC\",\"KC\",\"LV\",\"STL\",\"SEA\",\"DEN\",\"AUS\",\"SLC\",\"DC\",\"MEM\",\"PHX\",\"CHA\",\"DET\",\"MIN\",\"IND\",\"BOS\",\"MIA\",\"PHI\",\"SF\",\"NY\",\"CHI\",\"HOU\",\"ATL\",\"JAC\",\"KC\",\"LV\",\"STL\",\"SEA\",\"DEN\",\"AUS\",\"SLC\",\"DC\",\"MEM\",\"PHX\",\"CHA\",\"DET\",\"MIN\",\"IND\",\"BOS\",\"MIA\",\"PHI\",\"SF\",\"NY\",\"CHI\",\"HOU\",\"ATL\",\"JAC\",\"KC\",\"LV\",\"STL\",\"SEA\",\"DEN\",\"AUS\",\"SLC\",\"DC\",\"MEM\",\"PHX\",\"CHA\",\"DET\",\"MIN\",\"IND\",\"BOS\",\"MIA\",\"PHI\",\"SF\",\"NY\",\"CHI\",\"HOU\",\"ATL\",\"JAC\",\"KC\",\"LV\",\"STL\",\"SEA\",\"DEN\",\"AUS\",\"SLC\",\"DC\",\"MEM\",\"PHX\",\"CHA\",\"DET\",\"MIN\",\"IND\",\"BOS\",\"MIA\",\"PHI\",\"SF\",\"NY\",\"CHI\",\"HOU\",\"ATL\",\"JAC\",\"KC\",\"LV\",\"STL\",\"SEA\",\"DEN\",\"AUS\",\"SLC\",\"DC\",\"MEM\",\"PHX\",\"CHA\",\"DET\",\"MIN\",\"IND\",\"BOS\",\"MIA\",\"PHI\",\"SF\",\"NY\",\"CHI\",\"HOU\",\"ATL\",\"JAC\",\"KC\",\"LV\",\"STL\",\"SEA\",\"DEN\",\"AUS\",\"SLC\",\"DC\",\"MEM\",\"PHX\",\"CHA\",\"DET\",\"MIN\",\"IND\",\"BOS\",\"MIA\",\"PHI\",\"SF\",\"NY\",\"CHI\",\"HOU\",\"ATL\",\"JAC\",\"KC\",\"LV\",\"STL\",\"SEA\",\"DEN\",\"AUS\",\"SLC\",\"DC\",\"MEM\",\"PHX\",\"CHA\",\"DET\",\"MIN\",\"IND\",\"BOS\",\"MIA\",\"PHI\",\"SF\",\"NY\",\"CHI\",\"HOU\",\"ATL\",\"JAC\",\"KC\",\"LV\"],\"legendgroup\":\"\",\"marker\":{\"color\":[2009,2009,2009,2009,2009,2009,2009,2009,2009,2009,2009,2009,2009,2009,2009,2009,2009,2009,2009,2009,2009,2009,2009,2010,2010,2010,2010,2010,2010,2010,2010,2010,2010,2010,2010,2010,2010,2010,2010,2010,2010,2010,2010,2010,2010,2010,2011,2011,2011,2011,2011,2011,2011,2011,2011,2011,2011,2011,2011,2011,2011,2011,2011,2011,2011,2011,2011,2011,2011,2012,2012,2012,2012,2012,2012,2012,2012,2012,2012,2012,2012,2012,2012,2012,2012,2012,2012,2012,2012,2012,2012,2012,2013,2013,2013,2013,2013,2013,2013,2013,2013,2013,2013,2013,2013,2013,2013,2013,2013,2013,2013,2013,2013,2013,2013,2014,2014,2014,2014,2014,2014,2014,2014,2014,2014,2014,2014,2014,2014,2014,2014,2014,2014,2014,2014,2014,2014,2014,2015,2015,2015,2015,2015,2015,2015,2015,2015,2015,2015,2015,2015,2015,2015,2015,2015,2015,2015,2015,2015,2015,2015,2016,2016,2016,2016,2016,2016,2016,2016,2016,2016,2016,2016,2016,2016,2016,2016,2016,2016,2016,2016,2016,2016,2016,2017,2017,2017,2017,2017,2017,2017,2017,2017,2017,2017,2017,2017,2017,2017,2017,2017,2017,2017,2017,2017,2017,2017,2018,2018,2018,2018,2018,2018,2018,2018,2018,2018,2018,2018,2018,2018,2018,2018,2018,2018,2018,2018,2018,2018,2018,2019,2019,2019,2019,2019,2019,2019,2019,2019,2019,2019,2019,2019,2019,2019,2019,2019,2019,2019,2019,2019,2019,2019],\"coloraxis\":\"coloraxis\",\"symbol\":\"circle\"},\"mode\":\"markers\",\"name\":\"\",\"orientation\":\"v\",\"showlegend\":false,\"type\":\"scatter\",\"x\":[79.1807173727817,66.98820209972624,65.74090467664107,77.45275125971769,34.63245781766398,78.12787972102652,77.2664167725176,93.82186051025731,64.07818554690893,94.26373496641713,79.09012170404013,68.30481587366414,52.04164331441005,60.87552626274548,73.3150105738211,64.95377524056143,41.08396456527107,72.64203481347988,82.3247506931703,83.25081245195445,70.45042552327045,53.713800445858894,71.2358909442253,75.69435908112361,59.21238842328879,73.60083329247698,80.04879247590193,62.36481286441729,77.217181724233,68.13044145939065,88.25225495483417,79.31062051866232,75.8341464618493,67.44210598072611,70.52917476957975,55.33976066197525,62.92420144199108,71.8728333850287,45.96681591371242,40.53840057852604,60.85631670249219,81.7325149615047,86.49970145041132,93.83995091427262,81.99284875150003,83.58588010887748,72.51692611818481,54.81560563674564,55.63178443576612,60.35055026159109,60.94847343447427,52.945481320460274,74.31979628743214,79.77307355386226,74.70307017970825,86.45248358922537,72.79393931795151,71.82543762555207,53.786414592253706,53.94090810893717,63.310690649148924,32.99438404832213,28.158568402303278,50.4315668478128,73.9262701409762,73.60336819916715,81.42794416349693,75.1742990206212,77.80564068433414,72.27963162992566,48.51407715727882,47.980873784822236,42.771898659549066,71.6224402690518,52.061027939603704,65.03836078732331,76.42442707560315,55.101943856275845,89.36550256705905,49.45358419994703,82.01169620780347,44.70349240081542,42.62131546026713,58.42051650560113,36.33890339434194,24.90565066432751,60.805451201294034,65.4445330698264,64.91227186807596,61.577095314891544,66.43903186688581,82.17462614256276,83.78466320803201,47.50981868947579,44.858657216388025,42.438919392350314,61.95276690762822,63.69315964391379,72.34101727934491,75.51604615983337,61.32009588040625,85.80670623370763,60.48733448743588,63.562689542576685,43.153175518830444,31.89492234979158,54.11323232416811,33.141565422803154,25.070603881374346,56.605744271291336,67.26346021413158,62.98106651651635,84.67028715684846,59.73740607675735,83.72662877062263,65.48786002172825,39.73189620889912,50.159259036509916,50.62642088342087,58.15829122851264,53.25989551565033,80.09550457988055,57.174354774254304,61.5676620044255,76.69854769903823,58.36787566708305,61.77574489135763,42.42124706159498,34.97130770349404,45.19603917221133,35.99695251806475,24.44281160080822,49.888435460930594,60.38022191403528,65.16835716725438,80.64509421196595,49.5191425026706,64.72878909684344,67.45572972190544,33.962408007060446,53.98909234371656,52.84231551889481,51.35108163280086,51.620704008689096,65.43654057302504,70.08171574423173,62.28424960622033,74.72721416927587,60.32659077842113,57.53980398534671,30.943431747155834,31.199380235645727,49.552587993665504,35.452089600549385,12.410487376424376,45.89798421941248,64.55333806354835,67.20490738303272,75.054835702255,50.975043900596056,73.34228114439036,64.81431321097048,37.01229625193172,50.46700718664531,60.974843099074484,50.09071651616819,54.87188073728981,70.65037607206091,64.02581229327141,67.99481356899109,78.97305477014737,57.00207498062352,74.02322508489584,45.03426968684192,35.83689614203325,57.52380899146309,31.575567165225596,24.765010493490216,42.677153060225685,78.7160491182894,64.0297020338804,72.48446556352317,53.76762590679696,66.15050819779343,75.46229324388356,37.25239459282573,48.91792535589233,58.869671570807,62.5591462082375,57.43399023947049,80.06022617146179,69.25805601798302,65.04071182731748,68.3538433214158,56.93727389090767,79.87276120177138,35.223490004918325,34.643777600857966,53.331144379965984,28.24550329267323,21.12932634582544,40.93677487983175,86.88284824804137,76.16715805337357,75.59477689622517,58.149227282329235,71.95319660065259,72.35740133620692,37.474884182328495,52.294782462534755,58.60000058982874,57.0578058744634,54.13369162321296,72.69002877091837,74.03271165035243,60.06097759704987,83.68539579512287,49.14054589877941,80.32407320219525,37.27586898204794,33.68196422065319,54.460176750840134,23.459804979272533,21.80396387228211,47.35023046471701,70.1180278325531,67.72562487120966,67.29132102449866,57.93760284210921,82.13245080623564,75.52971012511594,33.790579489259,56.32899701615155,57.405052578317736,43.536753836216185,48.0301555268002,90.17229406242686,69.36797929167183,64.79613302891906,72.35017852838823,42.15805414118313,74.73613762064706,33.292966873138205,33.91471208871167,46.60934311840528,29.653510940338965,20.298227379217526,43.56330721731139,64.09901934580809,80.96748962337232,75.7255370951741,52.30314374741109,76.88822318474261],\"xaxis\":\"x\",\"y\":[20.21,30.99,25.04,28.49,27.13,28.54,24.56,25.66,30.57,19.79,30.62,22.38,26.19,21.68,18.12,31.55,39.9,26.11,27.18,34.31,23.37,24.01,25.22,13.49,22.68,15.97,19.34,20.98,18.57,17.6,18.41,20.59,14.71,21.27,15.29,16.51,14.05,11.65,21.81,19.23,17.74,18.43,20.09,17.54,17.63,18.67,12.94,22.94,16.25,19.25,20.1,18.76,17.22,18.26,19.9,14.0,21.19,15.08,15.8,13.81,11.31,20.72,19.35,16.98,18.06,20.0,17.01,16.87,17.07,12.39,22.56,17.09,20.44,20.76,19.55,17.01,18.4,20.8,14.2,21.41,15.49,16.15,13.8,11.56,21.11,19.24,17.22,17.96,20.26,15.82,16.61,17.37,13.14,22.93,16.91,21.19,21.33,19.63,16.97,18.45,20.09,14.41,21.73,15.28,17.19,13.69,11.94,21.95,20.55,17.8,18.05,20.13,17.25,17.14,17.66,13.63,23.94,17.97,21.43,21.52,20.66,16.45,19.02,21.61,14.68,21.61,15.68,17.04,13.87,12.6,23.95,21.49,18.1,18.49,19.96,16.39,16.78,17.75,14.46,25.55,18.67,22.38,22.42,21.67,17.56,19.66,20.76,14.68,22.97,15.11,17.56,13.99,13.24,25.78,21.15,18.55,19.15,21.41,17.65,17.56,17.82,24.74,35.21,31.5,38.39,29.98,32.12,28.13,28.06,35.6,24.33,38.58,25.87,30.67,26.77,22.33,50.21,50.36,27.86,32.37,40.14,25.97,28.03,24.7,24.15,35.7,32.85,38.91,30.17,33.48,29.0,28.61,36.84,24.45,39.76,25.63,32.42,26.68,22.01,51.08,51.91,28.52,32.52,42.31,26.37,28.25,26.33,24.45,36.77,34.01,41.56,31.96,34.07,27.19,29.17,36.38,24.67,40.6,25.74,30.31,28.47,24.44,55.32,53.24,29.54,33.06,44.55,28.38,28.51,26.66,24.34,38.26,34.91,41.85,32.44,36.21,30.16,29.58,37.93,25.67,39.93,26.65,33.4,28.48,25.38,54.38,57.8,30.79,33.89,47.26,27.3,28.69,27.84],\"yaxis\":\"y\"},{\"hovertemplate\":\"<b>OLS trendline</b><br>COL_Wage = -0.164785 * Permit_Ratio + 34.2358<br>R<sup>2</sup>=0.094978<br><br>Permit_Ratio=%{x}<br>COL_Wage=%{y} <b>(trend)</b><extra></extra>\",\"legendgroup\":\"\",\"marker\":{\"symbol\":\"circle\"},\"mode\":\"lines\",\"name\":\"\",\"showlegend\":false,\"type\":\"scatter\",\"x\":[12.410487376424376,20.298227379217526,21.12932634582544,21.80396387228211,23.459804979272533,24.44281160080822,24.765010493490216,24.90565066432751,25.070603881374346,28.158568402303278,28.24550329267323,29.653510940338965,30.943431747155834,31.199380235645727,31.575567165225596,31.89492234979158,32.99438404832213,33.141565422803154,33.292966873138205,33.68196422065319,33.790579489259,33.91471208871167,33.962408007060446,34.63245781766398,34.643777600857966,34.97130770349404,35.223490004918325,35.452089600549385,35.83689614203325,35.99695251806475,36.33890339434194,37.01229625193172,37.25239459282573,37.27586898204794,37.474884182328495,39.73189620889912,40.53840057852604,40.93677487983175,41.08396456527107,42.15805414118313,42.42124706159498,42.438919392350314,42.62131546026713,42.677153060225685,42.771898659549066,43.153175518830444,43.536753836216185,43.56330721731139,44.70349240081542,44.858657216388025,45.03426968684192,45.19603917221133,45.89798421941248,45.96681591371242,46.60934311840528,47.35023046471701,47.50981868947579,47.980873784822236,48.0301555268002,48.51407715727882,48.91792535589233,49.14054589877941,49.45358419994703,49.5191425026706,49.552587993665504,49.888435460930594,50.09071651616819,50.159259036509916,50.4315668478128,50.46700718664531,50.62642088342087,50.975043900596056,51.35108163280086,51.620704008689096,52.04164331441005,52.061027939603704,52.294782462534755,52.30314374741109,52.84231551889481,52.945481320460274,53.25989551565033,53.331144379965984,53.713800445858894,53.76762590679696,53.786414592253706,53.94090810893717,53.98909234371656,54.11323232416811,54.13369162321296,54.460176750840134,54.81560563674564,54.87188073728981,55.101943856275845,55.33976066197525,55.63178443576612,56.32899701615155,56.605744271291336,56.93727389090767,57.00207498062352,57.0578058744634,57.174354774254304,57.405052578317736,57.43399023947049,57.52380899146309,57.53980398534671,57.93760284210921,58.149227282329235,58.15829122851264,58.36787566708305,58.42051650560113,58.60000058982874,58.869671570807,59.21238842328879,59.73740607675735,60.06097759704987,60.32659077842113,60.35055026159109,60.38022191403528,60.48733448743588,60.805451201294034,60.85631670249219,60.87552626274548,60.94847343447427,60.974843099074484,61.32009588040625,61.5676620044255,61.577095314891544,61.77574489135763,61.95276690762822,62.28424960622033,62.36481286441729,62.5591462082375,62.92420144199108,62.98106651651635,63.310690649148924,63.562689542576685,63.69315964391379,64.02581229327141,64.0297020338804,64.07818554690893,64.09901934580809,64.55333806354835,64.72878909684344,64.79613302891906,64.81431321097048,64.91227186807596,64.95377524056143,65.03836078732331,65.04071182731748,65.16835716725438,65.43654057302504,65.4445330698264,65.48786002172825,65.74090467664107,66.15050819779343,66.43903186688581,66.98820209972624,67.20490738303272,67.26346021413158,67.29132102449866,67.44210598072611,67.45572972190544,67.72562487120966,67.99481356899109,68.13044145939065,68.30481587366414,68.3538433214158,69.25805601798302,69.36797929167183,70.08171574423173,70.1180278325531,70.45042552327045,70.52917476957975,70.65037607206091,71.2358909442253,71.6224402690518,71.82543762555207,71.8728333850287,71.95319660065259,72.27963162992566,72.34101727934491,72.35017852838823,72.35740133620692,72.48446556352317,72.51692611818481,72.64203481347988,72.69002877091837,72.79393931795151,73.3150105738211,73.34228114439036,73.60083329247698,73.60336819916715,73.9262701409762,74.02322508489584,74.03271165035243,74.31979628743214,74.70307017970825,74.72721416927587,74.73613762064706,75.054835702255,75.1742990206212,75.46229324388356,75.51604615983337,75.52971012511594,75.59477689622517,75.69435908112361,75.7255370951741,75.8341464618493,76.16715805337357,76.42442707560315,76.69854769903823,76.88822318474261,77.217181724233,77.2664167725176,77.45275125971769,77.80564068433414,78.12787972102652,78.7160491182894,78.97305477014737,79.09012170404013,79.1807173727817,79.31062051866232,79.77307355386226,79.87276120177138,80.04879247590193,80.06022617146179,80.09550457988055,80.32407320219525,80.64509421196595,80.96748962337232,81.42794416349693,81.7325149615047,81.99284875150003,82.01169620780347,82.13245080623564,82.17462614256276,82.3247506931703,83.25081245195445,83.58588010887748,83.68539579512287,83.72662877062263,83.78466320803201,84.67028715684846,85.80670623370763,86.45248358922537,86.49970145041132,86.88284824804137,88.25225495483417,89.36550256705905,90.17229406242686,93.82186051025731,93.83995091427262,94.26373496641713],\"xaxis\":\"x\",\"y\":[32.190692272842405,30.89090946934505,30.753956661009727,30.642786382175505,30.369928276377387,30.207943334943764,30.154849726398645,30.131674307904817,30.104492459260833,29.595641612162414,29.581316028980567,29.349297209016846,29.136737352583918,29.094560830056235,29.032570792124552,28.979945784586324,28.798770770152792,28.774517458116925,28.749568740043006,28.68546773484671,28.667569546229807,28.64711433116632,28.63925474978499,28.52884045861911,28.526975125896474,28.47300301285987,28.43144710221606,28.393777272431805,28.33036685003998,28.303991928315607,28.247643485229432,28.13667830940173,28.097113656594743,28.093245424702868,28.060450665384273,27.688528490162426,27.555628507377076,27.489982318987362,27.46572763742858,27.288733573261673,27.245363275580406,27.242451137045748,27.212394964755603,27.20319375475261,27.187581082344042,27.12475229933523,27.06154427009544,27.057168665916034,26.8692830239202,26.843714158957905,26.814775823123455,26.788118606336475,26.672448452270913,26.661106007850208,26.55522703476752,26.433139766205958,26.40684198888207,26.32921908140613,26.321098179762988,26.241355057738964,26.17480685209383,26.138122281703907,26.086538203051518,26.075735165112086,26.070223843233535,26.01488115161404,25.98154822773749,25.970253434904947,25.925381138117253,25.919541094841446,25.893272077145955,25.83582416399628,25.773858711583692,25.729428934804346,25.66006436767885,25.656870068364974,25.618350782861405,25.616972966871835,25.52812543938518,25.511125242277224,25.459314436654985,25.447573678392995,25.384517622548678,25.375647983273954,25.372551886008026,25.347093641166552,25.33915359246518,25.318697161122323,25.315325771464366,25.26152585484222,25.202956435261626,25.193683131637712,25.15577213486663,25.116583445289987,25.068462249706542,24.953571936125453,24.907968084703064,24.853336910466247,24.842658650022734,24.833475023608706,24.81426949000071,24.776253906523053,24.77148540828066,24.756684607388358,24.75404886914336,24.688497505497033,24.653624930069803,24.652131325897145,24.617594912547062,24.608920481513174,24.57934416103381,24.53490637485504,24.47843171022781,24.391916571890423,24.338596774631796,24.294827653767474,24.29087948557304,24.285990036429858,24.2683394697409,24.215918543844317,24.207536662123417,24.20437121092052,24.192350596734038,24.188005266313766,24.13111271814715,24.09031748521417,24.088763015274814,24.056028505349126,24.026857897227224,23.972234454880706,23.958958822372402,23.926935563700816,23.866779864477515,23.85740934187391,23.80309216368829,23.76156647596763,23.740066934396978,23.685250701481117,23.68460972980205,23.676620364474935,23.673187262784076,23.598322262617152,23.56941052923699,23.55831324601001,23.55531742109862,23.53917528432506,23.532336142844148,23.518397696715525,23.51801028012298,23.496976217420887,23.45278356161826,23.451466516444896,23.44432687606755,23.402628862332797,23.335132264719633,23.28758783458433,23.197092708656513,23.161382885491825,23.151734245585914,23.147143196414188,23.122296067444275,23.12005107654727,23.075576350746378,23.03121803770002,23.008868568833968,22.98013424633318,22.972055248614645,22.823054379761736,22.804940651267355,22.687327448127032,22.681343753438505,22.626569533932837,22.613592823733846,22.593620643024202,22.49713645848443,22.433438851193234,22.399987891470797,22.392177771828848,22.37893510337569,22.325143442220778,22.315027995785123,22.31351835754136,22.312328145719928,22.291389841776486,22.286040822827296,22.26542476161649,22.257516067804545,22.24039314766673,22.154528317241763,22.150034530852388,22.10742896376076,22.10701124865819,22.053801788022987,22.03782504832617,22.036261802752616,21.988954503793426,21.92579663930581,21.921818067187978,21.92034761448086,21.867830887784127,21.848145101132168,21.80068791583315,21.79183023089873,21.789578611664883,21.778856570860174,21.762446900736684,21.757309225496925,21.73941200943083,21.68453662815872,21.642142501216384,21.596971479821313,21.565715767224773,21.511508268937327,21.503395061723722,21.4726898962295,21.41453894228197,21.361438718598126,21.264517107612598,21.22216638020927,21.20287548224888,21.187946656975743,21.16654054127263,21.09033512598699,21.07390807712033,21.044900728638815,21.043016624844334,21.03720326530393,20.999538539463764,20.94663902858821,20.893513036666054,20.817636943788457,20.767448184326586,20.72454902901906,20.721443247187484,20.701544676693302,20.694594805517234,20.66985650161861,20.517255230707306,20.462041040289968,20.44564232816023,20.43884774410033,20.429284527801535,20.28334680943995,20.09608176607584,19.98966721624373,19.981886411606954,19.918749490435836,19.693091534183104,19.509644805222464,19.376697508364856,18.775302976162834,18.772321945342966,18.702488606112873],\"yaxis\":\"y\"}],                        {\"coloraxis\":{\"colorbar\":{\"title\":{\"text\":\"Year\"}},\"colorscale\":[[0.0,\"#0d0887\"],[0.1111111111111111,\"#46039f\"],[0.2222222222222222,\"#7201a8\"],[0.3333333333333333,\"#9c179e\"],[0.4444444444444444,\"#bd3786\"],[0.5555555555555556,\"#d8576b\"],[0.6666666666666666,\"#ed7953\"],[0.7777777777777778,\"#fb9f3a\"],[0.8888888888888888,\"#fdca26\"],[1.0,\"#f0f921\"]]},\"legend\":{\"tracegroupgap\":0},\"template\":{\"data\":{\"bar\":[{\"error_x\":{\"color\":\"#2a3f5f\"},\"error_y\":{\"color\":\"#2a3f5f\"},\"marker\":{\"line\":{\"color\":\"#E5ECF6\",\"width\":0.5},\"pattern\":{\"fillmode\":\"overlay\",\"size\":10,\"solidity\":0.2}},\"type\":\"bar\"}],\"barpolar\":[{\"marker\":{\"line\":{\"color\":\"#E5ECF6\",\"width\":0.5},\"pattern\":{\"fillmode\":\"overlay\",\"size\":10,\"solidity\":0.2}},\"type\":\"barpolar\"}],\"carpet\":[{\"aaxis\":{\"endlinecolor\":\"#2a3f5f\",\"gridcolor\":\"white\",\"linecolor\":\"white\",\"minorgridcolor\":\"white\",\"startlinecolor\":\"#2a3f5f\"},\"baxis\":{\"endlinecolor\":\"#2a3f5f\",\"gridcolor\":\"white\",\"linecolor\":\"white\",\"minorgridcolor\":\"white\",\"startlinecolor\":\"#2a3f5f\"},\"type\":\"carpet\"}],\"choropleth\":[{\"colorbar\":{\"outlinewidth\":0,\"ticks\":\"\"},\"type\":\"choropleth\"}],\"contour\":[{\"colorbar\":{\"outlinewidth\":0,\"ticks\":\"\"},\"colorscale\":[[0.0,\"#0d0887\"],[0.1111111111111111,\"#46039f\"],[0.2222222222222222,\"#7201a8\"],[0.3333333333333333,\"#9c179e\"],[0.4444444444444444,\"#bd3786\"],[0.5555555555555556,\"#d8576b\"],[0.6666666666666666,\"#ed7953\"],[0.7777777777777778,\"#fb9f3a\"],[0.8888888888888888,\"#fdca26\"],[1.0,\"#f0f921\"]],\"type\":\"contour\"}],\"contourcarpet\":[{\"colorbar\":{\"outlinewidth\":0,\"ticks\":\"\"},\"type\":\"contourcarpet\"}],\"heatmap\":[{\"colorbar\":{\"outlinewidth\":0,\"ticks\":\"\"},\"colorscale\":[[0.0,\"#0d0887\"],[0.1111111111111111,\"#46039f\"],[0.2222222222222222,\"#7201a8\"],[0.3333333333333333,\"#9c179e\"],[0.4444444444444444,\"#bd3786\"],[0.5555555555555556,\"#d8576b\"],[0.6666666666666666,\"#ed7953\"],[0.7777777777777778,\"#fb9f3a\"],[0.8888888888888888,\"#fdca26\"],[1.0,\"#f0f921\"]],\"type\":\"heatmap\"}],\"heatmapgl\":[{\"colorbar\":{\"outlinewidth\":0,\"ticks\":\"\"},\"colorscale\":[[0.0,\"#0d0887\"],[0.1111111111111111,\"#46039f\"],[0.2222222222222222,\"#7201a8\"],[0.3333333333333333,\"#9c179e\"],[0.4444444444444444,\"#bd3786\"],[0.5555555555555556,\"#d8576b\"],[0.6666666666666666,\"#ed7953\"],[0.7777777777777778,\"#fb9f3a\"],[0.8888888888888888,\"#fdca26\"],[1.0,\"#f0f921\"]],\"type\":\"heatmapgl\"}],\"histogram\":[{\"marker\":{\"pattern\":{\"fillmode\":\"overlay\",\"size\":10,\"solidity\":0.2}},\"type\":\"histogram\"}],\"histogram2d\":[{\"colorbar\":{\"outlinewidth\":0,\"ticks\":\"\"},\"colorscale\":[[0.0,\"#0d0887\"],[0.1111111111111111,\"#46039f\"],[0.2222222222222222,\"#7201a8\"],[0.3333333333333333,\"#9c179e\"],[0.4444444444444444,\"#bd3786\"],[0.5555555555555556,\"#d8576b\"],[0.6666666666666666,\"#ed7953\"],[0.7777777777777778,\"#fb9f3a\"],[0.8888888888888888,\"#fdca26\"],[1.0,\"#f0f921\"]],\"type\":\"histogram2d\"}],\"histogram2dcontour\":[{\"colorbar\":{\"outlinewidth\":0,\"ticks\":\"\"},\"colorscale\":[[0.0,\"#0d0887\"],[0.1111111111111111,\"#46039f\"],[0.2222222222222222,\"#7201a8\"],[0.3333333333333333,\"#9c179e\"],[0.4444444444444444,\"#bd3786\"],[0.5555555555555556,\"#d8576b\"],[0.6666666666666666,\"#ed7953\"],[0.7777777777777778,\"#fb9f3a\"],[0.8888888888888888,\"#fdca26\"],[1.0,\"#f0f921\"]],\"type\":\"histogram2dcontour\"}],\"mesh3d\":[{\"colorbar\":{\"outlinewidth\":0,\"ticks\":\"\"},\"type\":\"mesh3d\"}],\"parcoords\":[{\"line\":{\"colorbar\":{\"outlinewidth\":0,\"ticks\":\"\"}},\"type\":\"parcoords\"}],\"pie\":[{\"automargin\":true,\"type\":\"pie\"}],\"scatter\":[{\"marker\":{\"colorbar\":{\"outlinewidth\":0,\"ticks\":\"\"}},\"type\":\"scatter\"}],\"scatter3d\":[{\"line\":{\"colorbar\":{\"outlinewidth\":0,\"ticks\":\"\"}},\"marker\":{\"colorbar\":{\"outlinewidth\":0,\"ticks\":\"\"}},\"type\":\"scatter3d\"}],\"scattercarpet\":[{\"marker\":{\"colorbar\":{\"outlinewidth\":0,\"ticks\":\"\"}},\"type\":\"scattercarpet\"}],\"scattergeo\":[{\"marker\":{\"colorbar\":{\"outlinewidth\":0,\"ticks\":\"\"}},\"type\":\"scattergeo\"}],\"scattergl\":[{\"marker\":{\"colorbar\":{\"outlinewidth\":0,\"ticks\":\"\"}},\"type\":\"scattergl\"}],\"scattermapbox\":[{\"marker\":{\"colorbar\":{\"outlinewidth\":0,\"ticks\":\"\"}},\"type\":\"scattermapbox\"}],\"scatterpolar\":[{\"marker\":{\"colorbar\":{\"outlinewidth\":0,\"ticks\":\"\"}},\"type\":\"scatterpolar\"}],\"scatterpolargl\":[{\"marker\":{\"colorbar\":{\"outlinewidth\":0,\"ticks\":\"\"}},\"type\":\"scatterpolargl\"}],\"scatterternary\":[{\"marker\":{\"colorbar\":{\"outlinewidth\":0,\"ticks\":\"\"}},\"type\":\"scatterternary\"}],\"surface\":[{\"colorbar\":{\"outlinewidth\":0,\"ticks\":\"\"},\"colorscale\":[[0.0,\"#0d0887\"],[0.1111111111111111,\"#46039f\"],[0.2222222222222222,\"#7201a8\"],[0.3333333333333333,\"#9c179e\"],[0.4444444444444444,\"#bd3786\"],[0.5555555555555556,\"#d8576b\"],[0.6666666666666666,\"#ed7953\"],[0.7777777777777778,\"#fb9f3a\"],[0.8888888888888888,\"#fdca26\"],[1.0,\"#f0f921\"]],\"type\":\"surface\"}],\"table\":[{\"cells\":{\"fill\":{\"color\":\"#EBF0F8\"},\"line\":{\"color\":\"white\"}},\"header\":{\"fill\":{\"color\":\"#C8D4E3\"},\"line\":{\"color\":\"white\"}},\"type\":\"table\"}]},\"layout\":{\"annotationdefaults\":{\"arrowcolor\":\"#2a3f5f\",\"arrowhead\":0,\"arrowwidth\":1},\"autotypenumbers\":\"strict\",\"coloraxis\":{\"colorbar\":{\"outlinewidth\":0,\"ticks\":\"\"}},\"colorscale\":{\"diverging\":[[0,\"#8e0152\"],[0.1,\"#c51b7d\"],[0.2,\"#de77ae\"],[0.3,\"#f1b6da\"],[0.4,\"#fde0ef\"],[0.5,\"#f7f7f7\"],[0.6,\"#e6f5d0\"],[0.7,\"#b8e186\"],[0.8,\"#7fbc41\"],[0.9,\"#4d9221\"],[1,\"#276419\"]],\"sequential\":[[0.0,\"#0d0887\"],[0.1111111111111111,\"#46039f\"],[0.2222222222222222,\"#7201a8\"],[0.3333333333333333,\"#9c179e\"],[0.4444444444444444,\"#bd3786\"],[0.5555555555555556,\"#d8576b\"],[0.6666666666666666,\"#ed7953\"],[0.7777777777777778,\"#fb9f3a\"],[0.8888888888888888,\"#fdca26\"],[1.0,\"#f0f921\"]],\"sequentialminus\":[[0.0,\"#0d0887\"],[0.1111111111111111,\"#46039f\"],[0.2222222222222222,\"#7201a8\"],[0.3333333333333333,\"#9c179e\"],[0.4444444444444444,\"#bd3786\"],[0.5555555555555556,\"#d8576b\"],[0.6666666666666666,\"#ed7953\"],[0.7777777777777778,\"#fb9f3a\"],[0.8888888888888888,\"#fdca26\"],[1.0,\"#f0f921\"]]},\"colorway\":[\"#636efa\",\"#EF553B\",\"#00cc96\",\"#ab63fa\",\"#FFA15A\",\"#19d3f3\",\"#FF6692\",\"#B6E880\",\"#FF97FF\",\"#FECB52\"],\"font\":{\"color\":\"#2a3f5f\"},\"geo\":{\"bgcolor\":\"white\",\"lakecolor\":\"white\",\"landcolor\":\"#E5ECF6\",\"showlakes\":true,\"showland\":true,\"subunitcolor\":\"white\"},\"hoverlabel\":{\"align\":\"left\"},\"hovermode\":\"closest\",\"mapbox\":{\"style\":\"light\"},\"paper_bgcolor\":\"white\",\"plot_bgcolor\":\"#E5ECF6\",\"polar\":{\"angularaxis\":{\"gridcolor\":\"white\",\"linecolor\":\"white\",\"ticks\":\"\"},\"bgcolor\":\"#E5ECF6\",\"radialaxis\":{\"gridcolor\":\"white\",\"linecolor\":\"white\",\"ticks\":\"\"}},\"scene\":{\"xaxis\":{\"backgroundcolor\":\"#E5ECF6\",\"gridcolor\":\"white\",\"gridwidth\":2,\"linecolor\":\"white\",\"showbackground\":true,\"ticks\":\"\",\"zerolinecolor\":\"white\"},\"yaxis\":{\"backgroundcolor\":\"#E5ECF6\",\"gridcolor\":\"white\",\"gridwidth\":2,\"linecolor\":\"white\",\"showbackground\":true,\"ticks\":\"\",\"zerolinecolor\":\"white\"},\"zaxis\":{\"backgroundcolor\":\"#E5ECF6\",\"gridcolor\":\"white\",\"gridwidth\":2,\"linecolor\":\"white\",\"showbackground\":true,\"ticks\":\"\",\"zerolinecolor\":\"white\"}},\"shapedefaults\":{\"line\":{\"color\":\"#2a3f5f\"}},\"ternary\":{\"aaxis\":{\"gridcolor\":\"white\",\"linecolor\":\"white\",\"ticks\":\"\"},\"baxis\":{\"gridcolor\":\"white\",\"linecolor\":\"white\",\"ticks\":\"\"},\"bgcolor\":\"#E5ECF6\",\"caxis\":{\"gridcolor\":\"white\",\"linecolor\":\"white\",\"ticks\":\"\"}},\"title\":{\"x\":0.05},\"xaxis\":{\"automargin\":true,\"gridcolor\":\"white\",\"linecolor\":\"white\",\"ticks\":\"\",\"title\":{\"standoff\":15},\"zerolinecolor\":\"white\",\"zerolinewidth\":2},\"yaxis\":{\"automargin\":true,\"gridcolor\":\"white\",\"linecolor\":\"white\",\"ticks\":\"\",\"title\":{\"standoff\":15},\"zerolinecolor\":\"white\",\"zerolinewidth\":2}}},\"title\":{\"text\":\"Median Real Adjusted Wages vs Permit Ratio\"},\"xaxis\":{\"anchor\":\"y\",\"domain\":[0.0,1.0],\"title\":{\"text\":\"Permit_Ratio\"}},\"yaxis\":{\"anchor\":\"x\",\"domain\":[0.0,1.0],\"title\":{\"text\":\"COL_Wage\"}}},                        {\"responsive\": true}                    ).then(function(){\n",
       "                            \n",
       "var gd = document.getElementById('a7cf7ed8-6d54-4c8b-9c4d-490598232ca7');\n",
       "var x = new MutationObserver(function (mutations, observer) {{\n",
       "        var display = window.getComputedStyle(gd).display;\n",
       "        if (!display || display === 'none') {{\n",
       "            console.log([gd, 'removed!']);\n",
       "            Plotly.purge(gd);\n",
       "            observer.disconnect();\n",
       "        }}\n",
       "}});\n",
       "\n",
       "// Listen for the removal of the full notebook cells\n",
       "var notebookContainer = gd.closest('#notebook-container');\n",
       "if (notebookContainer) {{\n",
       "    x.observe(notebookContainer, {childList: true});\n",
       "}}\n",
       "\n",
       "// Listen for the clearing of the current output cell\n",
       "var outputEl = gd.closest('.output');\n",
       "if (outputEl) {{\n",
       "    x.observe(outputEl, {childList: true});\n",
       "}}\n",
       "\n",
       "                        })                };                });            </script>        </div>"
      ]
     },
     "metadata": {},
     "output_type": "display_data"
    }
   ],
   "source": [
    "X = wage_vs_permit[['Permit_Ratio']]\n",
    "X = sm.add_constant(X)\n",
    "y = wage_vs_permit['COL_Wage']\n",
    "\n",
    "result = sm.OLS(y, X).fit()\n",
    "print(result.summary())\n",
    "\n",
    "fig = px.scatter(wage_vs_permit, x='Permit_Ratio', y='COL_Wage', hover_name='City', color='Year', trendline='ols',\n",
    "                title='Median Real Adjusted Wages vs Permit Ratio')\n",
    "#fig.add_scatter(x=x, y=y_pred, mode='lines', name=\"Linear Regression Fit\")\n",
    "fig.show()"
   ]
  },
  {
   "cell_type": "code",
   "execution_count": 118,
   "id": "9d606d39",
   "metadata": {},
   "outputs": [
    {
     "name": "stdout",
     "output_type": "stream",
     "text": [
      "                            OLS Regression Results                            \n",
      "==============================================================================\n",
      "Dep. Variable:               COL_Wage   R-squared:                       0.024\n",
      "Model:                            OLS   Adj. R-squared:                  0.020\n",
      "Method:                 Least Squares   F-statistic:                     5.635\n",
      "Date:                Sun, 13 Mar 2022   Prob (F-statistic):             0.0184\n",
      "Time:                        21:59:39   Log-Likelihood:                -791.88\n",
      "No. Observations:                 231   AIC:                             1588.\n",
      "Df Residuals:                     229   BIC:                             1595.\n",
      "Df Model:                           1                                         \n",
      "Covariance Type:            nonrobust                                         \n",
      "================================================================================\n",
      "                   coef    std err          t      P>|t|      [0.025      0.975]\n",
      "--------------------------------------------------------------------------------\n",
      "const           28.4625      2.192     12.985      0.000      24.144      32.781\n",
      "Permit_Ratio    -0.0806      0.034     -2.374      0.018      -0.148      -0.014\n",
      "==============================================================================\n",
      "Omnibus:                       17.315   Durbin-Watson:                   0.603\n",
      "Prob(Omnibus):                  0.000   Jarque-Bera (JB):               19.513\n",
      "Skew:                           0.711   Prob(JB):                     5.79e-05\n",
      "Kurtosis:                       3.062   Cond. No.                         287.\n",
      "==============================================================================\n",
      "\n",
      "Notes:\n",
      "[1] Standard Errors assume that the covariance matrix of the errors is correctly specified.\n"
     ]
    },
    {
     "data": {
      "application/vnd.plotly.v1+json": {
       "config": {
        "plotlyServerURL": "https://plot.ly"
       },
       "data": [
        {
         "hovertemplate": "<b>%{hovertext}</b><br><br>Permit_Ratio=%{x}<br>COL_Wage=%{y}<br>Year=%{marker.color}<extra></extra>",
         "hovertext": [
          "STL",
          "SEA",
          "DEN",
          "AUS",
          "SLC",
          "DC",
          "MEM",
          "PHX",
          "CHA",
          "DET",
          "MIN",
          "IND",
          "BOS",
          "MIA",
          "PHI",
          "CHI",
          "HOU",
          "ATL",
          "JAC",
          "KC",
          "LV",
          "STL",
          "SEA",
          "DEN",
          "AUS",
          "SLC",
          "DC",
          "MEM",
          "PHX",
          "CHA",
          "DET",
          "MIN",
          "IND",
          "BOS",
          "MIA",
          "PHI",
          "CHI",
          "HOU",
          "ATL",
          "JAC",
          "KC",
          "LV",
          "STL",
          "SEA",
          "DEN",
          "AUS",
          "SLC",
          "DC",
          "MEM",
          "PHX",
          "CHA",
          "DET",
          "MIN",
          "IND",
          "BOS",
          "MIA",
          "PHI",
          "CHI",
          "HOU",
          "ATL",
          "JAC",
          "KC",
          "LV",
          "STL",
          "SEA",
          "DEN",
          "AUS",
          "SLC",
          "DC",
          "MEM",
          "PHX",
          "CHA",
          "DET",
          "MIN",
          "IND",
          "BOS",
          "MIA",
          "PHI",
          "CHI",
          "HOU",
          "ATL",
          "JAC",
          "KC",
          "LV",
          "STL",
          "SEA",
          "DEN",
          "AUS",
          "SLC",
          "DC",
          "MEM",
          "PHX",
          "CHA",
          "DET",
          "MIN",
          "IND",
          "BOS",
          "MIA",
          "PHI",
          "CHI",
          "HOU",
          "ATL",
          "JAC",
          "KC",
          "LV",
          "STL",
          "SEA",
          "DEN",
          "AUS",
          "SLC",
          "DC",
          "MEM",
          "PHX",
          "CHA",
          "DET",
          "MIN",
          "IND",
          "BOS",
          "MIA",
          "PHI",
          "CHI",
          "HOU",
          "ATL",
          "JAC",
          "KC",
          "LV",
          "STL",
          "SEA",
          "DEN",
          "AUS",
          "SLC",
          "DC",
          "MEM",
          "PHX",
          "CHA",
          "DET",
          "MIN",
          "IND",
          "BOS",
          "MIA",
          "PHI",
          "CHI",
          "HOU",
          "ATL",
          "JAC",
          "KC",
          "LV",
          "STL",
          "SEA",
          "DEN",
          "AUS",
          "SLC",
          "DC",
          "MEM",
          "PHX",
          "CHA",
          "DET",
          "MIN",
          "IND",
          "BOS",
          "MIA",
          "PHI",
          "CHI",
          "HOU",
          "ATL",
          "JAC",
          "KC",
          "LV",
          "STL",
          "SEA",
          "DEN",
          "AUS",
          "SLC",
          "DC",
          "MEM",
          "PHX",
          "CHA",
          "DET",
          "MIN",
          "IND",
          "BOS",
          "MIA",
          "PHI",
          "CHI",
          "HOU",
          "ATL",
          "JAC",
          "KC",
          "LV",
          "STL",
          "SEA",
          "DEN",
          "AUS",
          "SLC",
          "DC",
          "MEM",
          "PHX",
          "CHA",
          "DET",
          "MIN",
          "IND",
          "BOS",
          "MIA",
          "PHI",
          "CHI",
          "HOU",
          "ATL",
          "JAC",
          "KC",
          "LV",
          "STL",
          "SEA",
          "DEN",
          "AUS",
          "SLC",
          "DC",
          "MEM",
          "PHX",
          "CHA",
          "DET",
          "MIN",
          "IND",
          "BOS",
          "MIA",
          "PHI",
          "CHI",
          "HOU",
          "ATL",
          "JAC",
          "KC",
          "LV"
         ],
         "legendgroup": "",
         "marker": {
          "color": [
           2009,
           2009,
           2009,
           2009,
           2009,
           2009,
           2009,
           2009,
           2009,
           2009,
           2009,
           2009,
           2009,
           2009,
           2009,
           2009,
           2009,
           2009,
           2009,
           2009,
           2009,
           2010,
           2010,
           2010,
           2010,
           2010,
           2010,
           2010,
           2010,
           2010,
           2010,
           2010,
           2010,
           2010,
           2010,
           2010,
           2010,
           2010,
           2010,
           2010,
           2010,
           2010,
           2011,
           2011,
           2011,
           2011,
           2011,
           2011,
           2011,
           2011,
           2011,
           2011,
           2011,
           2011,
           2011,
           2011,
           2011,
           2011,
           2011,
           2011,
           2011,
           2011,
           2011,
           2012,
           2012,
           2012,
           2012,
           2012,
           2012,
           2012,
           2012,
           2012,
           2012,
           2012,
           2012,
           2012,
           2012,
           2012,
           2012,
           2012,
           2012,
           2012,
           2012,
           2012,
           2013,
           2013,
           2013,
           2013,
           2013,
           2013,
           2013,
           2013,
           2013,
           2013,
           2013,
           2013,
           2013,
           2013,
           2013,
           2013,
           2013,
           2013,
           2013,
           2013,
           2013,
           2014,
           2014,
           2014,
           2014,
           2014,
           2014,
           2014,
           2014,
           2014,
           2014,
           2014,
           2014,
           2014,
           2014,
           2014,
           2014,
           2014,
           2014,
           2014,
           2014,
           2014,
           2015,
           2015,
           2015,
           2015,
           2015,
           2015,
           2015,
           2015,
           2015,
           2015,
           2015,
           2015,
           2015,
           2015,
           2015,
           2015,
           2015,
           2015,
           2015,
           2015,
           2015,
           2016,
           2016,
           2016,
           2016,
           2016,
           2016,
           2016,
           2016,
           2016,
           2016,
           2016,
           2016,
           2016,
           2016,
           2016,
           2016,
           2016,
           2016,
           2016,
           2016,
           2016,
           2017,
           2017,
           2017,
           2017,
           2017,
           2017,
           2017,
           2017,
           2017,
           2017,
           2017,
           2017,
           2017,
           2017,
           2017,
           2017,
           2017,
           2017,
           2017,
           2017,
           2017,
           2018,
           2018,
           2018,
           2018,
           2018,
           2018,
           2018,
           2018,
           2018,
           2018,
           2018,
           2018,
           2018,
           2018,
           2018,
           2018,
           2018,
           2018,
           2018,
           2018,
           2018,
           2019,
           2019,
           2019,
           2019,
           2019,
           2019,
           2019,
           2019,
           2019,
           2019,
           2019,
           2019,
           2019,
           2019,
           2019,
           2019,
           2019,
           2019,
           2019,
           2019,
           2019
          ],
          "coloraxis": "coloraxis",
          "symbol": "circle"
         },
         "mode": "markers",
         "name": "",
         "orientation": "v",
         "showlegend": false,
         "type": "scatter",
         "x": [
          79.1807173727817,
          66.98820209972624,
          65.74090467664107,
          77.45275125971769,
          34.63245781766398,
          78.12787972102652,
          77.2664167725176,
          93.82186051025731,
          64.07818554690893,
          94.26373496641713,
          79.09012170404013,
          68.30481587366414,
          52.04164331441005,
          60.87552626274548,
          73.3150105738211,
          72.64203481347988,
          82.3247506931703,
          83.25081245195445,
          70.45042552327045,
          53.713800445858894,
          71.2358909442253,
          75.69435908112361,
          59.21238842328879,
          73.60083329247698,
          80.04879247590193,
          62.36481286441729,
          77.217181724233,
          68.13044145939065,
          88.25225495483417,
          79.31062051866232,
          75.8341464618493,
          67.44210598072611,
          70.52917476957975,
          55.33976066197525,
          62.92420144199108,
          71.8728333850287,
          60.85631670249219,
          81.7325149615047,
          86.49970145041132,
          93.83995091427262,
          81.99284875150003,
          83.58588010887748,
          72.51692611818481,
          54.81560563674564,
          55.63178443576612,
          60.35055026159109,
          60.94847343447427,
          52.945481320460274,
          74.31979628743214,
          79.77307355386226,
          74.70307017970825,
          86.45248358922537,
          72.79393931795151,
          71.82543762555207,
          53.786414592253706,
          53.94090810893717,
          63.310690649148924,
          50.4315668478128,
          73.9262701409762,
          73.60336819916715,
          81.42794416349693,
          75.1742990206212,
          77.80564068433414,
          72.27963162992566,
          48.51407715727882,
          47.980873784822236,
          42.771898659549066,
          71.6224402690518,
          52.061027939603704,
          65.03836078732331,
          76.42442707560315,
          55.101943856275845,
          89.36550256705905,
          49.45358419994703,
          82.01169620780347,
          44.70349240081542,
          42.62131546026713,
          58.42051650560113,
          60.805451201294034,
          65.4445330698264,
          64.91227186807596,
          61.577095314891544,
          66.43903186688581,
          82.17462614256276,
          83.78466320803201,
          47.50981868947579,
          44.858657216388025,
          42.438919392350314,
          61.95276690762822,
          63.69315964391379,
          72.34101727934491,
          75.51604615983337,
          61.32009588040625,
          85.80670623370763,
          60.48733448743588,
          63.562689542576685,
          43.153175518830444,
          31.89492234979158,
          54.11323232416811,
          56.605744271291336,
          67.26346021413158,
          62.98106651651635,
          84.67028715684846,
          59.73740607675735,
          83.72662877062263,
          65.48786002172825,
          39.73189620889912,
          50.159259036509916,
          50.62642088342087,
          58.15829122851264,
          53.25989551565033,
          80.09550457988055,
          57.174354774254304,
          61.5676620044255,
          76.69854769903823,
          58.36787566708305,
          61.77574489135763,
          42.42124706159498,
          34.97130770349404,
          45.19603917221133,
          49.888435460930594,
          60.38022191403528,
          65.16835716725438,
          80.64509421196595,
          49.5191425026706,
          64.72878909684344,
          67.45572972190544,
          33.962408007060446,
          53.98909234371656,
          52.84231551889481,
          51.35108163280086,
          51.620704008689096,
          65.43654057302504,
          70.08171574423173,
          62.28424960622033,
          74.72721416927587,
          60.32659077842113,
          57.53980398534671,
          30.943431747155834,
          31.199380235645727,
          49.552587993665504,
          45.89798421941248,
          64.55333806354835,
          67.20490738303272,
          75.054835702255,
          50.975043900596056,
          73.34228114439036,
          64.81431321097048,
          37.01229625193172,
          50.46700718664531,
          60.974843099074484,
          50.09071651616819,
          54.87188073728981,
          70.65037607206091,
          64.02581229327141,
          67.99481356899109,
          78.97305477014737,
          57.00207498062352,
          74.02322508489584,
          45.03426968684192,
          35.83689614203325,
          57.52380899146309,
          42.677153060225685,
          78.7160491182894,
          64.0297020338804,
          72.48446556352317,
          53.76762590679696,
          66.15050819779343,
          75.46229324388356,
          37.25239459282573,
          48.91792535589233,
          58.869671570807,
          62.5591462082375,
          57.43399023947049,
          80.06022617146179,
          69.25805601798302,
          65.04071182731748,
          68.3538433214158,
          56.93727389090767,
          79.87276120177138,
          35.223490004918325,
          34.643777600857966,
          53.331144379965984,
          40.93677487983175,
          86.88284824804137,
          76.16715805337357,
          75.59477689622517,
          58.149227282329235,
          71.95319660065259,
          72.35740133620692,
          37.474884182328495,
          52.294782462534755,
          58.60000058982874,
          57.0578058744634,
          54.13369162321296,
          72.69002877091837,
          74.03271165035243,
          60.06097759704987,
          83.68539579512287,
          49.14054589877941,
          80.32407320219525,
          37.27586898204794,
          33.68196422065319,
          54.460176750840134,
          47.35023046471701,
          70.1180278325531,
          67.72562487120966,
          67.29132102449866,
          57.93760284210921,
          82.13245080623564,
          75.52971012511594,
          33.790579489259,
          56.32899701615155,
          57.405052578317736,
          43.536753836216185,
          48.0301555268002,
          90.17229406242686,
          69.36797929167183,
          64.79613302891906,
          72.35017852838823,
          42.15805414118313,
          74.73613762064706,
          33.292966873138205,
          33.91471208871167,
          46.60934311840528,
          43.56330721731139,
          64.09901934580809,
          80.96748962337232,
          75.7255370951741,
          52.30314374741109,
          76.88822318474261
         ],
         "xaxis": "x",
         "y": [
          20.21,
          30.99,
          25.04,
          28.49,
          27.13,
          28.54,
          24.56,
          25.66,
          30.57,
          19.79,
          30.62,
          22.38,
          26.19,
          21.68,
          18.12,
          26.11,
          27.18,
          34.31,
          23.37,
          24.01,
          25.22,
          13.49,
          22.68,
          15.97,
          19.34,
          20.98,
          18.57,
          17.6,
          18.41,
          20.59,
          14.71,
          21.27,
          15.29,
          16.51,
          14.05,
          11.65,
          17.74,
          18.43,
          20.09,
          17.54,
          17.63,
          18.67,
          12.94,
          22.94,
          16.25,
          19.25,
          20.1,
          18.76,
          17.22,
          18.26,
          19.9,
          14,
          21.19,
          15.08,
          15.8,
          13.81,
          11.31,
          16.98,
          18.06,
          20,
          17.01,
          16.87,
          17.07,
          12.39,
          22.56,
          17.09,
          20.44,
          20.76,
          19.55,
          17.01,
          18.4,
          20.8,
          14.2,
          21.41,
          15.49,
          16.15,
          13.8,
          11.56,
          17.22,
          17.96,
          20.26,
          15.82,
          16.61,
          17.37,
          13.14,
          22.93,
          16.91,
          21.19,
          21.33,
          19.63,
          16.97,
          18.45,
          20.09,
          14.41,
          21.73,
          15.28,
          17.19,
          13.69,
          11.94,
          17.8,
          18.05,
          20.13,
          17.25,
          17.14,
          17.66,
          13.63,
          23.94,
          17.97,
          21.43,
          21.52,
          20.66,
          16.45,
          19.02,
          21.61,
          14.68,
          21.61,
          15.68,
          17.04,
          13.87,
          12.6,
          18.1,
          18.49,
          19.96,
          16.39,
          16.78,
          17.75,
          14.46,
          25.55,
          18.67,
          22.38,
          22.42,
          21.67,
          17.56,
          19.66,
          20.76,
          14.68,
          22.97,
          15.11,
          17.56,
          13.99,
          13.24,
          18.55,
          19.15,
          21.41,
          17.65,
          17.56,
          17.82,
          24.74,
          35.21,
          31.5,
          38.39,
          29.98,
          32.12,
          28.13,
          28.06,
          35.6,
          24.33,
          38.58,
          25.87,
          30.67,
          26.77,
          22.33,
          27.86,
          32.37,
          40.14,
          25.97,
          28.03,
          24.7,
          24.15,
          35.7,
          32.85,
          38.91,
          30.17,
          33.48,
          29,
          28.61,
          36.84,
          24.45,
          39.76,
          25.63,
          32.42,
          26.68,
          22.01,
          28.52,
          32.52,
          42.31,
          26.37,
          28.25,
          26.33,
          24.45,
          36.77,
          34.01,
          41.56,
          31.96,
          34.07,
          27.19,
          29.17,
          36.38,
          24.67,
          40.6,
          25.74,
          30.31,
          28.47,
          24.44,
          29.54,
          33.06,
          44.55,
          28.38,
          28.51,
          26.66,
          24.34,
          38.26,
          34.91,
          41.85,
          32.44,
          36.21,
          30.16,
          29.58,
          37.93,
          25.67,
          39.93,
          26.65,
          33.4,
          28.48,
          25.38,
          30.79,
          33.89,
          47.26,
          27.3,
          28.69,
          27.84
         ],
         "yaxis": "y"
        },
        {
         "hovertemplate": "<b>OLS trendline</b><br>COL_Wage = -0.0806317 * Permit_Ratio + 28.4625<br>R<sup>2</sup>=0.024014<br><br>Permit_Ratio=%{x}<br>COL_Wage=%{y} <b>(trend)</b><extra></extra>",
         "legendgroup": "",
         "marker": {
          "symbol": "circle"
         },
         "mode": "lines",
         "name": "",
         "showlegend": false,
         "type": "scatter",
         "x": [
          30.943431747155834,
          31.199380235645727,
          31.89492234979158,
          33.292966873138205,
          33.68196422065319,
          33.790579489259,
          33.91471208871167,
          33.962408007060446,
          34.63245781766398,
          34.643777600857966,
          34.97130770349404,
          35.223490004918325,
          35.83689614203325,
          37.01229625193172,
          37.25239459282573,
          37.27586898204794,
          37.474884182328495,
          39.73189620889912,
          40.93677487983175,
          42.15805414118313,
          42.42124706159498,
          42.438919392350314,
          42.62131546026713,
          42.677153060225685,
          42.771898659549066,
          43.153175518830444,
          43.536753836216185,
          43.56330721731139,
          44.70349240081542,
          44.858657216388025,
          45.03426968684192,
          45.19603917221133,
          45.89798421941248,
          46.60934311840528,
          47.35023046471701,
          47.50981868947579,
          47.980873784822236,
          48.0301555268002,
          48.51407715727882,
          48.91792535589233,
          49.14054589877941,
          49.45358419994703,
          49.5191425026706,
          49.552587993665504,
          49.888435460930594,
          50.09071651616819,
          50.159259036509916,
          50.4315668478128,
          50.46700718664531,
          50.62642088342087,
          50.975043900596056,
          51.35108163280086,
          51.620704008689096,
          52.04164331441005,
          52.061027939603704,
          52.294782462534755,
          52.30314374741109,
          52.84231551889481,
          52.945481320460274,
          53.25989551565033,
          53.331144379965984,
          53.713800445858894,
          53.76762590679696,
          53.786414592253706,
          53.94090810893717,
          53.98909234371656,
          54.11323232416811,
          54.13369162321296,
          54.460176750840134,
          54.81560563674564,
          54.87188073728981,
          55.101943856275845,
          55.33976066197525,
          55.63178443576612,
          56.32899701615155,
          56.605744271291336,
          56.93727389090767,
          57.00207498062352,
          57.0578058744634,
          57.174354774254304,
          57.405052578317736,
          57.43399023947049,
          57.52380899146309,
          57.53980398534671,
          57.93760284210921,
          58.149227282329235,
          58.15829122851264,
          58.36787566708305,
          58.42051650560113,
          58.60000058982874,
          58.869671570807,
          59.21238842328879,
          59.73740607675735,
          60.06097759704987,
          60.32659077842113,
          60.35055026159109,
          60.38022191403528,
          60.48733448743588,
          60.805451201294034,
          60.85631670249219,
          60.87552626274548,
          60.94847343447427,
          60.974843099074484,
          61.32009588040625,
          61.5676620044255,
          61.577095314891544,
          61.77574489135763,
          61.95276690762822,
          62.28424960622033,
          62.36481286441729,
          62.5591462082375,
          62.92420144199108,
          62.98106651651635,
          63.310690649148924,
          63.562689542576685,
          63.69315964391379,
          64.02581229327141,
          64.0297020338804,
          64.07818554690893,
          64.09901934580809,
          64.55333806354835,
          64.72878909684344,
          64.79613302891906,
          64.81431321097048,
          64.91227186807596,
          65.03836078732331,
          65.04071182731748,
          65.16835716725438,
          65.43654057302504,
          65.4445330698264,
          65.48786002172825,
          65.74090467664107,
          66.15050819779343,
          66.43903186688581,
          66.98820209972624,
          67.20490738303272,
          67.26346021413158,
          67.29132102449866,
          67.44210598072611,
          67.45572972190544,
          67.72562487120966,
          67.99481356899109,
          68.13044145939065,
          68.30481587366414,
          68.3538433214158,
          69.25805601798302,
          69.36797929167183,
          70.08171574423173,
          70.1180278325531,
          70.45042552327045,
          70.52917476957975,
          70.65037607206091,
          71.2358909442253,
          71.6224402690518,
          71.82543762555207,
          71.8728333850287,
          71.95319660065259,
          72.27963162992566,
          72.34101727934491,
          72.35017852838823,
          72.35740133620692,
          72.48446556352317,
          72.51692611818481,
          72.64203481347988,
          72.69002877091837,
          72.79393931795151,
          73.3150105738211,
          73.34228114439036,
          73.60083329247698,
          73.60336819916715,
          73.9262701409762,
          74.02322508489584,
          74.03271165035243,
          74.31979628743214,
          74.70307017970825,
          74.72721416927587,
          74.73613762064706,
          75.054835702255,
          75.1742990206212,
          75.46229324388356,
          75.51604615983337,
          75.52971012511594,
          75.59477689622517,
          75.69435908112361,
          75.7255370951741,
          75.8341464618493,
          76.16715805337357,
          76.42442707560315,
          76.69854769903823,
          76.88822318474261,
          77.217181724233,
          77.2664167725176,
          77.45275125971769,
          77.80564068433414,
          78.12787972102652,
          78.7160491182894,
          78.97305477014737,
          79.09012170404013,
          79.1807173727817,
          79.31062051866232,
          79.77307355386226,
          79.87276120177138,
          80.04879247590193,
          80.06022617146179,
          80.09550457988055,
          80.32407320219525,
          80.64509421196595,
          80.96748962337232,
          81.42794416349693,
          81.7325149615047,
          81.99284875150003,
          82.01169620780347,
          82.13245080623564,
          82.17462614256276,
          82.3247506931703,
          83.25081245195445,
          83.58588010887748,
          83.68539579512287,
          83.72662877062263,
          83.78466320803201,
          84.67028715684846,
          85.80670623370763,
          86.45248358922537,
          86.49970145041132,
          86.88284824804137,
          88.25225495483417,
          89.36550256705905,
          90.17229406242686,
          93.82186051025731,
          93.83995091427262,
          94.26373496641713
         ],
         "xaxis": "x",
         "y": [
          25.96746001677976,
          25.946822466183786,
          25.890739753380878,
          25.778013107655312,
          25.74664760716572,
          25.73788977814093,
          25.727880761026082,
          25.724034960123127,
          25.670007733981876,
          25.66909500111215,
          25.64268570639532,
          25.62235182970099,
          25.572891876781238,
          25.47811741891409,
          25.458757891973942,
          25.456865113086515,
          25.440818187826704,
          25.258831569468857,
          25.1616802063954,
          25.063206436549514,
          25.041984755407544,
          25.04055980610519,
          25.025852909016837,
          25.021350630839297,
          25.013711136223332,
          24.982968151488713,
          24.952039596374856,
          24.949898553272472,
          24.857963533252708,
          24.845452337148416,
          24.83129241276027,
          24.81824867118987,
          24.761649679288496,
          24.70429163292347,
          24.644552658938355,
          24.63168479602417,
          24.593702843401353,
          24.58972917491232,
          24.550709772248865,
          24.51814682303532,
          24.500196559899784,
          24.47495576314048,
          24.469669688597016,
          24.4669729232569,
          24.43989298565263,
          24.423582729097866,
          24.418056032144612,
          24.39609940225162,
          24.393241789025968,
          24.380387998592166,
          24.352277947236427,
          24.321957401996407,
          24.300217303209223,
          24.26627626971883,
          24.264713255279563,
          24.245865240890062,
          24.24519105664033,
          24.201716743587856,
          24.193398314117367,
          24.168046576743915,
          24.16230166279308,
          24.131447470344767,
          24.127107434269483,
          24.125592471438353,
          24.11313540327547,
          24.109250228609838,
          24.099240616352827,
          24.09759094918078,
          24.071265912529878,
          24.04260709270475,
          24.038069538130287,
          24.019519167755547,
          24.000343604777417,
          23.97679724417027,
          23.9205798389074,
          23.898265249304067,
          23.87153346690807,
          23.866308447703716,
          23.86181477341728,
          23.852417242568272,
          23.83381569648441,
          23.831482404931517,
          23.82424017017697,
          23.82295046732503,
          23.790875286565438,
          23.77381165740258,
          23.773080816407727,
          23.756181675957063,
          23.751937157949783,
          23.737465058929878,
          23.715721041033774,
          23.688087213520603,
          23.645754170449454,
          23.619664062784224,
          23.598247231992026,
          23.59631533917605,
          23.5939228646895,
          23.58528620046826,
          23.55963592288152,
          23.555534553263122,
          23.553985654599987,
          23.548103803309253,
          23.54597757357218,
          23.518139269915164,
          23.498177603251527,
          23.497416979802725,
          23.48139953539672,
          23.467125956994515,
          23.44039795791842,
          23.433902008959997,
          23.418232589541905,
          23.3887975813441,
          23.384212456190276,
          23.357634316366145,
          23.33731522816238,
          23.32679520777276,
          23.299972873628462,
          23.29965923739995,
          23.29574993143335,
          23.294070067717705,
          23.257437596944456,
          23.24329068950184,
          23.237860636705893,
          23.2363947385123,
          23.22849616972506,
          23.218329411304595,
          23.218139843055457,
          23.207847587856644,
          23.18622351561364,
          23.185579067357274,
          23.182085543455965,
          23.1616821337714,
          23.12865512336807,
          23.105390982000557,
          23.061110476446814,
          23.043637170489667,
          23.038915958727607,
          23.036669495437327,
          23.024511454647104,
          23.0234129498286,
          23.001650856869045,
          22.979945726265985,
          22.969009824800573,
          22.954949726933048,
          22.95099656260871,
          22.878088395090202,
          22.869225099448908,
          22.81167534700144,
          22.808747443170482,
          22.781945666763676,
          22.7755959845886,
          22.765823322804145,
          22.71861228877819,
          22.687444176413024,
          22.671076163300924,
          22.667254564705033,
          22.660774745510636,
          22.634453748373012,
          22.629504121777323,
          22.628765435091694,
          22.628183048132964,
          22.617937649007345,
          22.61532030071529,
          22.605232579375805,
          22.601362747087357,
          22.592984267556165,
          22.55096942906048,
          22.548770557782806,
          22.527923069800682,
          22.527718676075274,
          22.5016825576323,
          22.493864919901846,
          22.49310000241494,
          22.469951892582312,
          22.439047883769316,
          22.437101113896865,
          22.436381601231446,
          22.410684447000023,
          22.401051921753666,
          22.377830470480433,
          22.37349628382772,
          22.37239453567314,
          22.367148094137946,
          22.359118617615444,
          22.35660468269735,
          22.347847329554998,
          22.320996053309234,
          22.300252025890412,
          22.278149225952347,
          22.2628553773497,
          22.236330905403154,
          22.23236100190396,
          22.217336543544956,
          22.188882484690083,
          22.162899817384744,
          22.11547474460297,
          22.09475195317348,
          22.085312652376736,
          22.078007773537784,
          22.06753346770576,
          22.030245113441545,
          22.022207133261798,
          22.008013440039473,
          22.007091522226993,
          22.004246965718835,
          21.985817099086283,
          21.95993264330925,
          21.933937367251694,
          21.896810154955837,
          21.872252107002407,
          21.851260962281962,
          21.849741260660114,
          21.84000461736308,
          21.836603950133167,
          21.824499158942015,
          21.749829265344808,
          21.722812205140144,
          21.71478809051419,
          21.71146340739877,
          21.706783994578593,
          21.63537466858279,
          21.543743315980215,
          21.49167321809894,
          21.48786596373691,
          21.45697220277575,
          21.346554671636387,
          21.256791672609932,
          21.191738737918687,
          20.897468149860682,
          20.896009490618855,
          20.861839080512112
         ],
         "yaxis": "y"
        }
       ],
       "layout": {
        "coloraxis": {
         "colorbar": {
          "title": {
           "text": "Year"
          }
         },
         "colorscale": [
          [
           0,
           "#0d0887"
          ],
          [
           0.1111111111111111,
           "#46039f"
          ],
          [
           0.2222222222222222,
           "#7201a8"
          ],
          [
           0.3333333333333333,
           "#9c179e"
          ],
          [
           0.4444444444444444,
           "#bd3786"
          ],
          [
           0.5555555555555556,
           "#d8576b"
          ],
          [
           0.6666666666666666,
           "#ed7953"
          ],
          [
           0.7777777777777778,
           "#fb9f3a"
          ],
          [
           0.8888888888888888,
           "#fdca26"
          ],
          [
           1,
           "#f0f921"
          ]
         ]
        },
        "legend": {
         "tracegroupgap": 0
        },
        "template": {
         "data": {
          "bar": [
           {
            "error_x": {
             "color": "#2a3f5f"
            },
            "error_y": {
             "color": "#2a3f5f"
            },
            "marker": {
             "line": {
              "color": "#E5ECF6",
              "width": 0.5
             },
             "pattern": {
              "fillmode": "overlay",
              "size": 10,
              "solidity": 0.2
             }
            },
            "type": "bar"
           }
          ],
          "barpolar": [
           {
            "marker": {
             "line": {
              "color": "#E5ECF6",
              "width": 0.5
             },
             "pattern": {
              "fillmode": "overlay",
              "size": 10,
              "solidity": 0.2
             }
            },
            "type": "barpolar"
           }
          ],
          "carpet": [
           {
            "aaxis": {
             "endlinecolor": "#2a3f5f",
             "gridcolor": "white",
             "linecolor": "white",
             "minorgridcolor": "white",
             "startlinecolor": "#2a3f5f"
            },
            "baxis": {
             "endlinecolor": "#2a3f5f",
             "gridcolor": "white",
             "linecolor": "white",
             "minorgridcolor": "white",
             "startlinecolor": "#2a3f5f"
            },
            "type": "carpet"
           }
          ],
          "choropleth": [
           {
            "colorbar": {
             "outlinewidth": 0,
             "ticks": ""
            },
            "type": "choropleth"
           }
          ],
          "contour": [
           {
            "colorbar": {
             "outlinewidth": 0,
             "ticks": ""
            },
            "colorscale": [
             [
              0,
              "#0d0887"
             ],
             [
              0.1111111111111111,
              "#46039f"
             ],
             [
              0.2222222222222222,
              "#7201a8"
             ],
             [
              0.3333333333333333,
              "#9c179e"
             ],
             [
              0.4444444444444444,
              "#bd3786"
             ],
             [
              0.5555555555555556,
              "#d8576b"
             ],
             [
              0.6666666666666666,
              "#ed7953"
             ],
             [
              0.7777777777777778,
              "#fb9f3a"
             ],
             [
              0.8888888888888888,
              "#fdca26"
             ],
             [
              1,
              "#f0f921"
             ]
            ],
            "type": "contour"
           }
          ],
          "contourcarpet": [
           {
            "colorbar": {
             "outlinewidth": 0,
             "ticks": ""
            },
            "type": "contourcarpet"
           }
          ],
          "heatmap": [
           {
            "colorbar": {
             "outlinewidth": 0,
             "ticks": ""
            },
            "colorscale": [
             [
              0,
              "#0d0887"
             ],
             [
              0.1111111111111111,
              "#46039f"
             ],
             [
              0.2222222222222222,
              "#7201a8"
             ],
             [
              0.3333333333333333,
              "#9c179e"
             ],
             [
              0.4444444444444444,
              "#bd3786"
             ],
             [
              0.5555555555555556,
              "#d8576b"
             ],
             [
              0.6666666666666666,
              "#ed7953"
             ],
             [
              0.7777777777777778,
              "#fb9f3a"
             ],
             [
              0.8888888888888888,
              "#fdca26"
             ],
             [
              1,
              "#f0f921"
             ]
            ],
            "type": "heatmap"
           }
          ],
          "heatmapgl": [
           {
            "colorbar": {
             "outlinewidth": 0,
             "ticks": ""
            },
            "colorscale": [
             [
              0,
              "#0d0887"
             ],
             [
              0.1111111111111111,
              "#46039f"
             ],
             [
              0.2222222222222222,
              "#7201a8"
             ],
             [
              0.3333333333333333,
              "#9c179e"
             ],
             [
              0.4444444444444444,
              "#bd3786"
             ],
             [
              0.5555555555555556,
              "#d8576b"
             ],
             [
              0.6666666666666666,
              "#ed7953"
             ],
             [
              0.7777777777777778,
              "#fb9f3a"
             ],
             [
              0.8888888888888888,
              "#fdca26"
             ],
             [
              1,
              "#f0f921"
             ]
            ],
            "type": "heatmapgl"
           }
          ],
          "histogram": [
           {
            "marker": {
             "pattern": {
              "fillmode": "overlay",
              "size": 10,
              "solidity": 0.2
             }
            },
            "type": "histogram"
           }
          ],
          "histogram2d": [
           {
            "colorbar": {
             "outlinewidth": 0,
             "ticks": ""
            },
            "colorscale": [
             [
              0,
              "#0d0887"
             ],
             [
              0.1111111111111111,
              "#46039f"
             ],
             [
              0.2222222222222222,
              "#7201a8"
             ],
             [
              0.3333333333333333,
              "#9c179e"
             ],
             [
              0.4444444444444444,
              "#bd3786"
             ],
             [
              0.5555555555555556,
              "#d8576b"
             ],
             [
              0.6666666666666666,
              "#ed7953"
             ],
             [
              0.7777777777777778,
              "#fb9f3a"
             ],
             [
              0.8888888888888888,
              "#fdca26"
             ],
             [
              1,
              "#f0f921"
             ]
            ],
            "type": "histogram2d"
           }
          ],
          "histogram2dcontour": [
           {
            "colorbar": {
             "outlinewidth": 0,
             "ticks": ""
            },
            "colorscale": [
             [
              0,
              "#0d0887"
             ],
             [
              0.1111111111111111,
              "#46039f"
             ],
             [
              0.2222222222222222,
              "#7201a8"
             ],
             [
              0.3333333333333333,
              "#9c179e"
             ],
             [
              0.4444444444444444,
              "#bd3786"
             ],
             [
              0.5555555555555556,
              "#d8576b"
             ],
             [
              0.6666666666666666,
              "#ed7953"
             ],
             [
              0.7777777777777778,
              "#fb9f3a"
             ],
             [
              0.8888888888888888,
              "#fdca26"
             ],
             [
              1,
              "#f0f921"
             ]
            ],
            "type": "histogram2dcontour"
           }
          ],
          "mesh3d": [
           {
            "colorbar": {
             "outlinewidth": 0,
             "ticks": ""
            },
            "type": "mesh3d"
           }
          ],
          "parcoords": [
           {
            "line": {
             "colorbar": {
              "outlinewidth": 0,
              "ticks": ""
             }
            },
            "type": "parcoords"
           }
          ],
          "pie": [
           {
            "automargin": true,
            "type": "pie"
           }
          ],
          "scatter": [
           {
            "marker": {
             "colorbar": {
              "outlinewidth": 0,
              "ticks": ""
             }
            },
            "type": "scatter"
           }
          ],
          "scatter3d": [
           {
            "line": {
             "colorbar": {
              "outlinewidth": 0,
              "ticks": ""
             }
            },
            "marker": {
             "colorbar": {
              "outlinewidth": 0,
              "ticks": ""
             }
            },
            "type": "scatter3d"
           }
          ],
          "scattercarpet": [
           {
            "marker": {
             "colorbar": {
              "outlinewidth": 0,
              "ticks": ""
             }
            },
            "type": "scattercarpet"
           }
          ],
          "scattergeo": [
           {
            "marker": {
             "colorbar": {
              "outlinewidth": 0,
              "ticks": ""
             }
            },
            "type": "scattergeo"
           }
          ],
          "scattergl": [
           {
            "marker": {
             "colorbar": {
              "outlinewidth": 0,
              "ticks": ""
             }
            },
            "type": "scattergl"
           }
          ],
          "scattermapbox": [
           {
            "marker": {
             "colorbar": {
              "outlinewidth": 0,
              "ticks": ""
             }
            },
            "type": "scattermapbox"
           }
          ],
          "scatterpolar": [
           {
            "marker": {
             "colorbar": {
              "outlinewidth": 0,
              "ticks": ""
             }
            },
            "type": "scatterpolar"
           }
          ],
          "scatterpolargl": [
           {
            "marker": {
             "colorbar": {
              "outlinewidth": 0,
              "ticks": ""
             }
            },
            "type": "scatterpolargl"
           }
          ],
          "scatterternary": [
           {
            "marker": {
             "colorbar": {
              "outlinewidth": 0,
              "ticks": ""
             }
            },
            "type": "scatterternary"
           }
          ],
          "surface": [
           {
            "colorbar": {
             "outlinewidth": 0,
             "ticks": ""
            },
            "colorscale": [
             [
              0,
              "#0d0887"
             ],
             [
              0.1111111111111111,
              "#46039f"
             ],
             [
              0.2222222222222222,
              "#7201a8"
             ],
             [
              0.3333333333333333,
              "#9c179e"
             ],
             [
              0.4444444444444444,
              "#bd3786"
             ],
             [
              0.5555555555555556,
              "#d8576b"
             ],
             [
              0.6666666666666666,
              "#ed7953"
             ],
             [
              0.7777777777777778,
              "#fb9f3a"
             ],
             [
              0.8888888888888888,
              "#fdca26"
             ],
             [
              1,
              "#f0f921"
             ]
            ],
            "type": "surface"
           }
          ],
          "table": [
           {
            "cells": {
             "fill": {
              "color": "#EBF0F8"
             },
             "line": {
              "color": "white"
             }
            },
            "header": {
             "fill": {
              "color": "#C8D4E3"
             },
             "line": {
              "color": "white"
             }
            },
            "type": "table"
           }
          ]
         },
         "layout": {
          "annotationdefaults": {
           "arrowcolor": "#2a3f5f",
           "arrowhead": 0,
           "arrowwidth": 1
          },
          "autotypenumbers": "strict",
          "coloraxis": {
           "colorbar": {
            "outlinewidth": 0,
            "ticks": ""
           }
          },
          "colorscale": {
           "diverging": [
            [
             0,
             "#8e0152"
            ],
            [
             0.1,
             "#c51b7d"
            ],
            [
             0.2,
             "#de77ae"
            ],
            [
             0.3,
             "#f1b6da"
            ],
            [
             0.4,
             "#fde0ef"
            ],
            [
             0.5,
             "#f7f7f7"
            ],
            [
             0.6,
             "#e6f5d0"
            ],
            [
             0.7,
             "#b8e186"
            ],
            [
             0.8,
             "#7fbc41"
            ],
            [
             0.9,
             "#4d9221"
            ],
            [
             1,
             "#276419"
            ]
           ],
           "sequential": [
            [
             0,
             "#0d0887"
            ],
            [
             0.1111111111111111,
             "#46039f"
            ],
            [
             0.2222222222222222,
             "#7201a8"
            ],
            [
             0.3333333333333333,
             "#9c179e"
            ],
            [
             0.4444444444444444,
             "#bd3786"
            ],
            [
             0.5555555555555556,
             "#d8576b"
            ],
            [
             0.6666666666666666,
             "#ed7953"
            ],
            [
             0.7777777777777778,
             "#fb9f3a"
            ],
            [
             0.8888888888888888,
             "#fdca26"
            ],
            [
             1,
             "#f0f921"
            ]
           ],
           "sequentialminus": [
            [
             0,
             "#0d0887"
            ],
            [
             0.1111111111111111,
             "#46039f"
            ],
            [
             0.2222222222222222,
             "#7201a8"
            ],
            [
             0.3333333333333333,
             "#9c179e"
            ],
            [
             0.4444444444444444,
             "#bd3786"
            ],
            [
             0.5555555555555556,
             "#d8576b"
            ],
            [
             0.6666666666666666,
             "#ed7953"
            ],
            [
             0.7777777777777778,
             "#fb9f3a"
            ],
            [
             0.8888888888888888,
             "#fdca26"
            ],
            [
             1,
             "#f0f921"
            ]
           ]
          },
          "colorway": [
           "#636efa",
           "#EF553B",
           "#00cc96",
           "#ab63fa",
           "#FFA15A",
           "#19d3f3",
           "#FF6692",
           "#B6E880",
           "#FF97FF",
           "#FECB52"
          ],
          "font": {
           "color": "#2a3f5f"
          },
          "geo": {
           "bgcolor": "white",
           "lakecolor": "white",
           "landcolor": "#E5ECF6",
           "showlakes": true,
           "showland": true,
           "subunitcolor": "white"
          },
          "hoverlabel": {
           "align": "left"
          },
          "hovermode": "closest",
          "mapbox": {
           "style": "light"
          },
          "paper_bgcolor": "white",
          "plot_bgcolor": "#E5ECF6",
          "polar": {
           "angularaxis": {
            "gridcolor": "white",
            "linecolor": "white",
            "ticks": ""
           },
           "bgcolor": "#E5ECF6",
           "radialaxis": {
            "gridcolor": "white",
            "linecolor": "white",
            "ticks": ""
           }
          },
          "scene": {
           "xaxis": {
            "backgroundcolor": "#E5ECF6",
            "gridcolor": "white",
            "gridwidth": 2,
            "linecolor": "white",
            "showbackground": true,
            "ticks": "",
            "zerolinecolor": "white"
           },
           "yaxis": {
            "backgroundcolor": "#E5ECF6",
            "gridcolor": "white",
            "gridwidth": 2,
            "linecolor": "white",
            "showbackground": true,
            "ticks": "",
            "zerolinecolor": "white"
           },
           "zaxis": {
            "backgroundcolor": "#E5ECF6",
            "gridcolor": "white",
            "gridwidth": 2,
            "linecolor": "white",
            "showbackground": true,
            "ticks": "",
            "zerolinecolor": "white"
           }
          },
          "shapedefaults": {
           "line": {
            "color": "#2a3f5f"
           }
          },
          "ternary": {
           "aaxis": {
            "gridcolor": "white",
            "linecolor": "white",
            "ticks": ""
           },
           "baxis": {
            "gridcolor": "white",
            "linecolor": "white",
            "ticks": ""
           },
           "bgcolor": "#E5ECF6",
           "caxis": {
            "gridcolor": "white",
            "linecolor": "white",
            "ticks": ""
           }
          },
          "title": {
           "x": 0.05
          },
          "xaxis": {
           "automargin": true,
           "gridcolor": "white",
           "linecolor": "white",
           "ticks": "",
           "title": {
            "standoff": 15
           },
           "zerolinecolor": "white",
           "zerolinewidth": 2
          },
          "yaxis": {
           "automargin": true,
           "gridcolor": "white",
           "linecolor": "white",
           "ticks": "",
           "title": {
            "standoff": 15
           },
           "zerolinecolor": "white",
           "zerolinewidth": 2
          }
         }
        },
        "title": {
         "text": "Median Real Adjusted Wages vs Permit Ratio (Outliers Excluded)"
        },
        "xaxis": {
         "anchor": "y",
         "domain": [
          0,
          1
         ],
         "title": {
          "text": "Permit_Ratio"
         }
        },
        "yaxis": {
         "anchor": "x",
         "domain": [
          0,
          1
         ],
         "title": {
          "text": "COL_Wage"
         }
        }
       }
      },
      "text/html": [
       "<div>                            <div id=\"e498c937-5b7d-477d-915e-039351e2126e\" class=\"plotly-graph-div\" style=\"height:525px; width:100%;\"></div>            <script type=\"text/javascript\">                require([\"plotly\"], function(Plotly) {                    window.PLOTLYENV=window.PLOTLYENV || {};                                    if (document.getElementById(\"e498c937-5b7d-477d-915e-039351e2126e\")) {                    Plotly.newPlot(                        \"e498c937-5b7d-477d-915e-039351e2126e\",                        [{\"hovertemplate\":\"<b>%{hovertext}</b><br><br>Permit_Ratio=%{x}<br>COL_Wage=%{y}<br>Year=%{marker.color}<extra></extra>\",\"hovertext\":[\"STL\",\"SEA\",\"DEN\",\"AUS\",\"SLC\",\"DC\",\"MEM\",\"PHX\",\"CHA\",\"DET\",\"MIN\",\"IND\",\"BOS\",\"MIA\",\"PHI\",\"CHI\",\"HOU\",\"ATL\",\"JAC\",\"KC\",\"LV\",\"STL\",\"SEA\",\"DEN\",\"AUS\",\"SLC\",\"DC\",\"MEM\",\"PHX\",\"CHA\",\"DET\",\"MIN\",\"IND\",\"BOS\",\"MIA\",\"PHI\",\"CHI\",\"HOU\",\"ATL\",\"JAC\",\"KC\",\"LV\",\"STL\",\"SEA\",\"DEN\",\"AUS\",\"SLC\",\"DC\",\"MEM\",\"PHX\",\"CHA\",\"DET\",\"MIN\",\"IND\",\"BOS\",\"MIA\",\"PHI\",\"CHI\",\"HOU\",\"ATL\",\"JAC\",\"KC\",\"LV\",\"STL\",\"SEA\",\"DEN\",\"AUS\",\"SLC\",\"DC\",\"MEM\",\"PHX\",\"CHA\",\"DET\",\"MIN\",\"IND\",\"BOS\",\"MIA\",\"PHI\",\"CHI\",\"HOU\",\"ATL\",\"JAC\",\"KC\",\"LV\",\"STL\",\"SEA\",\"DEN\",\"AUS\",\"SLC\",\"DC\",\"MEM\",\"PHX\",\"CHA\",\"DET\",\"MIN\",\"IND\",\"BOS\",\"MIA\",\"PHI\",\"CHI\",\"HOU\",\"ATL\",\"JAC\",\"KC\",\"LV\",\"STL\",\"SEA\",\"DEN\",\"AUS\",\"SLC\",\"DC\",\"MEM\",\"PHX\",\"CHA\",\"DET\",\"MIN\",\"IND\",\"BOS\",\"MIA\",\"PHI\",\"CHI\",\"HOU\",\"ATL\",\"JAC\",\"KC\",\"LV\",\"STL\",\"SEA\",\"DEN\",\"AUS\",\"SLC\",\"DC\",\"MEM\",\"PHX\",\"CHA\",\"DET\",\"MIN\",\"IND\",\"BOS\",\"MIA\",\"PHI\",\"CHI\",\"HOU\",\"ATL\",\"JAC\",\"KC\",\"LV\",\"STL\",\"SEA\",\"DEN\",\"AUS\",\"SLC\",\"DC\",\"MEM\",\"PHX\",\"CHA\",\"DET\",\"MIN\",\"IND\",\"BOS\",\"MIA\",\"PHI\",\"CHI\",\"HOU\",\"ATL\",\"JAC\",\"KC\",\"LV\",\"STL\",\"SEA\",\"DEN\",\"AUS\",\"SLC\",\"DC\",\"MEM\",\"PHX\",\"CHA\",\"DET\",\"MIN\",\"IND\",\"BOS\",\"MIA\",\"PHI\",\"CHI\",\"HOU\",\"ATL\",\"JAC\",\"KC\",\"LV\",\"STL\",\"SEA\",\"DEN\",\"AUS\",\"SLC\",\"DC\",\"MEM\",\"PHX\",\"CHA\",\"DET\",\"MIN\",\"IND\",\"BOS\",\"MIA\",\"PHI\",\"CHI\",\"HOU\",\"ATL\",\"JAC\",\"KC\",\"LV\",\"STL\",\"SEA\",\"DEN\",\"AUS\",\"SLC\",\"DC\",\"MEM\",\"PHX\",\"CHA\",\"DET\",\"MIN\",\"IND\",\"BOS\",\"MIA\",\"PHI\",\"CHI\",\"HOU\",\"ATL\",\"JAC\",\"KC\",\"LV\"],\"legendgroup\":\"\",\"marker\":{\"color\":[2009,2009,2009,2009,2009,2009,2009,2009,2009,2009,2009,2009,2009,2009,2009,2009,2009,2009,2009,2009,2009,2010,2010,2010,2010,2010,2010,2010,2010,2010,2010,2010,2010,2010,2010,2010,2010,2010,2010,2010,2010,2010,2011,2011,2011,2011,2011,2011,2011,2011,2011,2011,2011,2011,2011,2011,2011,2011,2011,2011,2011,2011,2011,2012,2012,2012,2012,2012,2012,2012,2012,2012,2012,2012,2012,2012,2012,2012,2012,2012,2012,2012,2012,2012,2013,2013,2013,2013,2013,2013,2013,2013,2013,2013,2013,2013,2013,2013,2013,2013,2013,2013,2013,2013,2013,2014,2014,2014,2014,2014,2014,2014,2014,2014,2014,2014,2014,2014,2014,2014,2014,2014,2014,2014,2014,2014,2015,2015,2015,2015,2015,2015,2015,2015,2015,2015,2015,2015,2015,2015,2015,2015,2015,2015,2015,2015,2015,2016,2016,2016,2016,2016,2016,2016,2016,2016,2016,2016,2016,2016,2016,2016,2016,2016,2016,2016,2016,2016,2017,2017,2017,2017,2017,2017,2017,2017,2017,2017,2017,2017,2017,2017,2017,2017,2017,2017,2017,2017,2017,2018,2018,2018,2018,2018,2018,2018,2018,2018,2018,2018,2018,2018,2018,2018,2018,2018,2018,2018,2018,2018,2019,2019,2019,2019,2019,2019,2019,2019,2019,2019,2019,2019,2019,2019,2019,2019,2019,2019,2019,2019,2019],\"coloraxis\":\"coloraxis\",\"symbol\":\"circle\"},\"mode\":\"markers\",\"name\":\"\",\"orientation\":\"v\",\"showlegend\":false,\"type\":\"scatter\",\"x\":[79.1807173727817,66.98820209972624,65.74090467664107,77.45275125971769,34.63245781766398,78.12787972102652,77.2664167725176,93.82186051025731,64.07818554690893,94.26373496641713,79.09012170404013,68.30481587366414,52.04164331441005,60.87552626274548,73.3150105738211,72.64203481347988,82.3247506931703,83.25081245195445,70.45042552327045,53.713800445858894,71.2358909442253,75.69435908112361,59.21238842328879,73.60083329247698,80.04879247590193,62.36481286441729,77.217181724233,68.13044145939065,88.25225495483417,79.31062051866232,75.8341464618493,67.44210598072611,70.52917476957975,55.33976066197525,62.92420144199108,71.8728333850287,60.85631670249219,81.7325149615047,86.49970145041132,93.83995091427262,81.99284875150003,83.58588010887748,72.51692611818481,54.81560563674564,55.63178443576612,60.35055026159109,60.94847343447427,52.945481320460274,74.31979628743214,79.77307355386226,74.70307017970825,86.45248358922537,72.79393931795151,71.82543762555207,53.786414592253706,53.94090810893717,63.310690649148924,50.4315668478128,73.9262701409762,73.60336819916715,81.42794416349693,75.1742990206212,77.80564068433414,72.27963162992566,48.51407715727882,47.980873784822236,42.771898659549066,71.6224402690518,52.061027939603704,65.03836078732331,76.42442707560315,55.101943856275845,89.36550256705905,49.45358419994703,82.01169620780347,44.70349240081542,42.62131546026713,58.42051650560113,60.805451201294034,65.4445330698264,64.91227186807596,61.577095314891544,66.43903186688581,82.17462614256276,83.78466320803201,47.50981868947579,44.858657216388025,42.438919392350314,61.95276690762822,63.69315964391379,72.34101727934491,75.51604615983337,61.32009588040625,85.80670623370763,60.48733448743588,63.562689542576685,43.153175518830444,31.89492234979158,54.11323232416811,56.605744271291336,67.26346021413158,62.98106651651635,84.67028715684846,59.73740607675735,83.72662877062263,65.48786002172825,39.73189620889912,50.159259036509916,50.62642088342087,58.15829122851264,53.25989551565033,80.09550457988055,57.174354774254304,61.5676620044255,76.69854769903823,58.36787566708305,61.77574489135763,42.42124706159498,34.97130770349404,45.19603917221133,49.888435460930594,60.38022191403528,65.16835716725438,80.64509421196595,49.5191425026706,64.72878909684344,67.45572972190544,33.962408007060446,53.98909234371656,52.84231551889481,51.35108163280086,51.620704008689096,65.43654057302504,70.08171574423173,62.28424960622033,74.72721416927587,60.32659077842113,57.53980398534671,30.943431747155834,31.199380235645727,49.552587993665504,45.89798421941248,64.55333806354835,67.20490738303272,75.054835702255,50.975043900596056,73.34228114439036,64.81431321097048,37.01229625193172,50.46700718664531,60.974843099074484,50.09071651616819,54.87188073728981,70.65037607206091,64.02581229327141,67.99481356899109,78.97305477014737,57.00207498062352,74.02322508489584,45.03426968684192,35.83689614203325,57.52380899146309,42.677153060225685,78.7160491182894,64.0297020338804,72.48446556352317,53.76762590679696,66.15050819779343,75.46229324388356,37.25239459282573,48.91792535589233,58.869671570807,62.5591462082375,57.43399023947049,80.06022617146179,69.25805601798302,65.04071182731748,68.3538433214158,56.93727389090767,79.87276120177138,35.223490004918325,34.643777600857966,53.331144379965984,40.93677487983175,86.88284824804137,76.16715805337357,75.59477689622517,58.149227282329235,71.95319660065259,72.35740133620692,37.474884182328495,52.294782462534755,58.60000058982874,57.0578058744634,54.13369162321296,72.69002877091837,74.03271165035243,60.06097759704987,83.68539579512287,49.14054589877941,80.32407320219525,37.27586898204794,33.68196422065319,54.460176750840134,47.35023046471701,70.1180278325531,67.72562487120966,67.29132102449866,57.93760284210921,82.13245080623564,75.52971012511594,33.790579489259,56.32899701615155,57.405052578317736,43.536753836216185,48.0301555268002,90.17229406242686,69.36797929167183,64.79613302891906,72.35017852838823,42.15805414118313,74.73613762064706,33.292966873138205,33.91471208871167,46.60934311840528,43.56330721731139,64.09901934580809,80.96748962337232,75.7255370951741,52.30314374741109,76.88822318474261],\"xaxis\":\"x\",\"y\":[20.21,30.99,25.04,28.49,27.13,28.54,24.56,25.66,30.57,19.79,30.62,22.38,26.19,21.68,18.12,26.11,27.18,34.31,23.37,24.01,25.22,13.49,22.68,15.97,19.34,20.98,18.57,17.6,18.41,20.59,14.71,21.27,15.29,16.51,14.05,11.65,17.74,18.43,20.09,17.54,17.63,18.67,12.94,22.94,16.25,19.25,20.1,18.76,17.22,18.26,19.9,14.0,21.19,15.08,15.8,13.81,11.31,16.98,18.06,20.0,17.01,16.87,17.07,12.39,22.56,17.09,20.44,20.76,19.55,17.01,18.4,20.8,14.2,21.41,15.49,16.15,13.8,11.56,17.22,17.96,20.26,15.82,16.61,17.37,13.14,22.93,16.91,21.19,21.33,19.63,16.97,18.45,20.09,14.41,21.73,15.28,17.19,13.69,11.94,17.8,18.05,20.13,17.25,17.14,17.66,13.63,23.94,17.97,21.43,21.52,20.66,16.45,19.02,21.61,14.68,21.61,15.68,17.04,13.87,12.6,18.1,18.49,19.96,16.39,16.78,17.75,14.46,25.55,18.67,22.38,22.42,21.67,17.56,19.66,20.76,14.68,22.97,15.11,17.56,13.99,13.24,18.55,19.15,21.41,17.65,17.56,17.82,24.74,35.21,31.5,38.39,29.98,32.12,28.13,28.06,35.6,24.33,38.58,25.87,30.67,26.77,22.33,27.86,32.37,40.14,25.97,28.03,24.7,24.15,35.7,32.85,38.91,30.17,33.48,29.0,28.61,36.84,24.45,39.76,25.63,32.42,26.68,22.01,28.52,32.52,42.31,26.37,28.25,26.33,24.45,36.77,34.01,41.56,31.96,34.07,27.19,29.17,36.38,24.67,40.6,25.74,30.31,28.47,24.44,29.54,33.06,44.55,28.38,28.51,26.66,24.34,38.26,34.91,41.85,32.44,36.21,30.16,29.58,37.93,25.67,39.93,26.65,33.4,28.48,25.38,30.79,33.89,47.26,27.3,28.69,27.84],\"yaxis\":\"y\"},{\"hovertemplate\":\"<b>OLS trendline</b><br>COL_Wage = -0.0806317 * Permit_Ratio + 28.4625<br>R<sup>2</sup>=0.024014<br><br>Permit_Ratio=%{x}<br>COL_Wage=%{y} <b>(trend)</b><extra></extra>\",\"legendgroup\":\"\",\"marker\":{\"symbol\":\"circle\"},\"mode\":\"lines\",\"name\":\"\",\"showlegend\":false,\"type\":\"scatter\",\"x\":[30.943431747155834,31.199380235645727,31.89492234979158,33.292966873138205,33.68196422065319,33.790579489259,33.91471208871167,33.962408007060446,34.63245781766398,34.643777600857966,34.97130770349404,35.223490004918325,35.83689614203325,37.01229625193172,37.25239459282573,37.27586898204794,37.474884182328495,39.73189620889912,40.93677487983175,42.15805414118313,42.42124706159498,42.438919392350314,42.62131546026713,42.677153060225685,42.771898659549066,43.153175518830444,43.536753836216185,43.56330721731139,44.70349240081542,44.858657216388025,45.03426968684192,45.19603917221133,45.89798421941248,46.60934311840528,47.35023046471701,47.50981868947579,47.980873784822236,48.0301555268002,48.51407715727882,48.91792535589233,49.14054589877941,49.45358419994703,49.5191425026706,49.552587993665504,49.888435460930594,50.09071651616819,50.159259036509916,50.4315668478128,50.46700718664531,50.62642088342087,50.975043900596056,51.35108163280086,51.620704008689096,52.04164331441005,52.061027939603704,52.294782462534755,52.30314374741109,52.84231551889481,52.945481320460274,53.25989551565033,53.331144379965984,53.713800445858894,53.76762590679696,53.786414592253706,53.94090810893717,53.98909234371656,54.11323232416811,54.13369162321296,54.460176750840134,54.81560563674564,54.87188073728981,55.101943856275845,55.33976066197525,55.63178443576612,56.32899701615155,56.605744271291336,56.93727389090767,57.00207498062352,57.0578058744634,57.174354774254304,57.405052578317736,57.43399023947049,57.52380899146309,57.53980398534671,57.93760284210921,58.149227282329235,58.15829122851264,58.36787566708305,58.42051650560113,58.60000058982874,58.869671570807,59.21238842328879,59.73740607675735,60.06097759704987,60.32659077842113,60.35055026159109,60.38022191403528,60.48733448743588,60.805451201294034,60.85631670249219,60.87552626274548,60.94847343447427,60.974843099074484,61.32009588040625,61.5676620044255,61.577095314891544,61.77574489135763,61.95276690762822,62.28424960622033,62.36481286441729,62.5591462082375,62.92420144199108,62.98106651651635,63.310690649148924,63.562689542576685,63.69315964391379,64.02581229327141,64.0297020338804,64.07818554690893,64.09901934580809,64.55333806354835,64.72878909684344,64.79613302891906,64.81431321097048,64.91227186807596,65.03836078732331,65.04071182731748,65.16835716725438,65.43654057302504,65.4445330698264,65.48786002172825,65.74090467664107,66.15050819779343,66.43903186688581,66.98820209972624,67.20490738303272,67.26346021413158,67.29132102449866,67.44210598072611,67.45572972190544,67.72562487120966,67.99481356899109,68.13044145939065,68.30481587366414,68.3538433214158,69.25805601798302,69.36797929167183,70.08171574423173,70.1180278325531,70.45042552327045,70.52917476957975,70.65037607206091,71.2358909442253,71.6224402690518,71.82543762555207,71.8728333850287,71.95319660065259,72.27963162992566,72.34101727934491,72.35017852838823,72.35740133620692,72.48446556352317,72.51692611818481,72.64203481347988,72.69002877091837,72.79393931795151,73.3150105738211,73.34228114439036,73.60083329247698,73.60336819916715,73.9262701409762,74.02322508489584,74.03271165035243,74.31979628743214,74.70307017970825,74.72721416927587,74.73613762064706,75.054835702255,75.1742990206212,75.46229324388356,75.51604615983337,75.52971012511594,75.59477689622517,75.69435908112361,75.7255370951741,75.8341464618493,76.16715805337357,76.42442707560315,76.69854769903823,76.88822318474261,77.217181724233,77.2664167725176,77.45275125971769,77.80564068433414,78.12787972102652,78.7160491182894,78.97305477014737,79.09012170404013,79.1807173727817,79.31062051866232,79.77307355386226,79.87276120177138,80.04879247590193,80.06022617146179,80.09550457988055,80.32407320219525,80.64509421196595,80.96748962337232,81.42794416349693,81.7325149615047,81.99284875150003,82.01169620780347,82.13245080623564,82.17462614256276,82.3247506931703,83.25081245195445,83.58588010887748,83.68539579512287,83.72662877062263,83.78466320803201,84.67028715684846,85.80670623370763,86.45248358922537,86.49970145041132,86.88284824804137,88.25225495483417,89.36550256705905,90.17229406242686,93.82186051025731,93.83995091427262,94.26373496641713],\"xaxis\":\"x\",\"y\":[25.96746001677976,25.946822466183786,25.890739753380878,25.778013107655312,25.74664760716572,25.73788977814093,25.727880761026082,25.724034960123127,25.670007733981876,25.66909500111215,25.64268570639532,25.62235182970099,25.572891876781238,25.47811741891409,25.458757891973942,25.456865113086515,25.440818187826704,25.258831569468857,25.1616802063954,25.063206436549514,25.041984755407544,25.04055980610519,25.025852909016837,25.021350630839297,25.013711136223332,24.982968151488713,24.952039596374856,24.949898553272472,24.857963533252708,24.845452337148416,24.83129241276027,24.81824867118987,24.761649679288496,24.70429163292347,24.644552658938355,24.63168479602417,24.593702843401353,24.58972917491232,24.550709772248865,24.51814682303532,24.500196559899784,24.47495576314048,24.469669688597016,24.4669729232569,24.43989298565263,24.423582729097866,24.418056032144612,24.39609940225162,24.393241789025968,24.380387998592166,24.352277947236427,24.321957401996407,24.300217303209223,24.26627626971883,24.264713255279563,24.245865240890062,24.24519105664033,24.201716743587856,24.193398314117367,24.168046576743915,24.16230166279308,24.131447470344767,24.127107434269483,24.125592471438353,24.11313540327547,24.109250228609838,24.099240616352827,24.09759094918078,24.071265912529878,24.04260709270475,24.038069538130287,24.019519167755547,24.000343604777417,23.97679724417027,23.9205798389074,23.898265249304067,23.87153346690807,23.866308447703716,23.86181477341728,23.852417242568272,23.83381569648441,23.831482404931517,23.82424017017697,23.82295046732503,23.790875286565438,23.77381165740258,23.773080816407727,23.756181675957063,23.751937157949783,23.737465058929878,23.715721041033774,23.688087213520603,23.645754170449454,23.619664062784224,23.598247231992026,23.59631533917605,23.5939228646895,23.58528620046826,23.55963592288152,23.555534553263122,23.553985654599987,23.548103803309253,23.54597757357218,23.518139269915164,23.498177603251527,23.497416979802725,23.48139953539672,23.467125956994515,23.44039795791842,23.433902008959997,23.418232589541905,23.3887975813441,23.384212456190276,23.357634316366145,23.33731522816238,23.32679520777276,23.299972873628462,23.29965923739995,23.29574993143335,23.294070067717705,23.257437596944456,23.24329068950184,23.237860636705893,23.2363947385123,23.22849616972506,23.218329411304595,23.218139843055457,23.207847587856644,23.18622351561364,23.185579067357274,23.182085543455965,23.1616821337714,23.12865512336807,23.105390982000557,23.061110476446814,23.043637170489667,23.038915958727607,23.036669495437327,23.024511454647104,23.0234129498286,23.001650856869045,22.979945726265985,22.969009824800573,22.954949726933048,22.95099656260871,22.878088395090202,22.869225099448908,22.81167534700144,22.808747443170482,22.781945666763676,22.7755959845886,22.765823322804145,22.71861228877819,22.687444176413024,22.671076163300924,22.667254564705033,22.660774745510636,22.634453748373012,22.629504121777323,22.628765435091694,22.628183048132964,22.617937649007345,22.61532030071529,22.605232579375805,22.601362747087357,22.592984267556165,22.55096942906048,22.548770557782806,22.527923069800682,22.527718676075274,22.5016825576323,22.493864919901846,22.49310000241494,22.469951892582312,22.439047883769316,22.437101113896865,22.436381601231446,22.410684447000023,22.401051921753666,22.377830470480433,22.37349628382772,22.37239453567314,22.367148094137946,22.359118617615444,22.35660468269735,22.347847329554998,22.320996053309234,22.300252025890412,22.278149225952347,22.2628553773497,22.236330905403154,22.23236100190396,22.217336543544956,22.188882484690083,22.162899817384744,22.11547474460297,22.09475195317348,22.085312652376736,22.078007773537784,22.06753346770576,22.030245113441545,22.022207133261798,22.008013440039473,22.007091522226993,22.004246965718835,21.985817099086283,21.95993264330925,21.933937367251694,21.896810154955837,21.872252107002407,21.851260962281962,21.849741260660114,21.84000461736308,21.836603950133167,21.824499158942015,21.749829265344808,21.722812205140144,21.71478809051419,21.71146340739877,21.706783994578593,21.63537466858279,21.543743315980215,21.49167321809894,21.48786596373691,21.45697220277575,21.346554671636387,21.256791672609932,21.191738737918687,20.897468149860682,20.896009490618855,20.861839080512112],\"yaxis\":\"y\"}],                        {\"coloraxis\":{\"colorbar\":{\"title\":{\"text\":\"Year\"}},\"colorscale\":[[0.0,\"#0d0887\"],[0.1111111111111111,\"#46039f\"],[0.2222222222222222,\"#7201a8\"],[0.3333333333333333,\"#9c179e\"],[0.4444444444444444,\"#bd3786\"],[0.5555555555555556,\"#d8576b\"],[0.6666666666666666,\"#ed7953\"],[0.7777777777777778,\"#fb9f3a\"],[0.8888888888888888,\"#fdca26\"],[1.0,\"#f0f921\"]]},\"legend\":{\"tracegroupgap\":0},\"template\":{\"data\":{\"bar\":[{\"error_x\":{\"color\":\"#2a3f5f\"},\"error_y\":{\"color\":\"#2a3f5f\"},\"marker\":{\"line\":{\"color\":\"#E5ECF6\",\"width\":0.5},\"pattern\":{\"fillmode\":\"overlay\",\"size\":10,\"solidity\":0.2}},\"type\":\"bar\"}],\"barpolar\":[{\"marker\":{\"line\":{\"color\":\"#E5ECF6\",\"width\":0.5},\"pattern\":{\"fillmode\":\"overlay\",\"size\":10,\"solidity\":0.2}},\"type\":\"barpolar\"}],\"carpet\":[{\"aaxis\":{\"endlinecolor\":\"#2a3f5f\",\"gridcolor\":\"white\",\"linecolor\":\"white\",\"minorgridcolor\":\"white\",\"startlinecolor\":\"#2a3f5f\"},\"baxis\":{\"endlinecolor\":\"#2a3f5f\",\"gridcolor\":\"white\",\"linecolor\":\"white\",\"minorgridcolor\":\"white\",\"startlinecolor\":\"#2a3f5f\"},\"type\":\"carpet\"}],\"choropleth\":[{\"colorbar\":{\"outlinewidth\":0,\"ticks\":\"\"},\"type\":\"choropleth\"}],\"contour\":[{\"colorbar\":{\"outlinewidth\":0,\"ticks\":\"\"},\"colorscale\":[[0.0,\"#0d0887\"],[0.1111111111111111,\"#46039f\"],[0.2222222222222222,\"#7201a8\"],[0.3333333333333333,\"#9c179e\"],[0.4444444444444444,\"#bd3786\"],[0.5555555555555556,\"#d8576b\"],[0.6666666666666666,\"#ed7953\"],[0.7777777777777778,\"#fb9f3a\"],[0.8888888888888888,\"#fdca26\"],[1.0,\"#f0f921\"]],\"type\":\"contour\"}],\"contourcarpet\":[{\"colorbar\":{\"outlinewidth\":0,\"ticks\":\"\"},\"type\":\"contourcarpet\"}],\"heatmap\":[{\"colorbar\":{\"outlinewidth\":0,\"ticks\":\"\"},\"colorscale\":[[0.0,\"#0d0887\"],[0.1111111111111111,\"#46039f\"],[0.2222222222222222,\"#7201a8\"],[0.3333333333333333,\"#9c179e\"],[0.4444444444444444,\"#bd3786\"],[0.5555555555555556,\"#d8576b\"],[0.6666666666666666,\"#ed7953\"],[0.7777777777777778,\"#fb9f3a\"],[0.8888888888888888,\"#fdca26\"],[1.0,\"#f0f921\"]],\"type\":\"heatmap\"}],\"heatmapgl\":[{\"colorbar\":{\"outlinewidth\":0,\"ticks\":\"\"},\"colorscale\":[[0.0,\"#0d0887\"],[0.1111111111111111,\"#46039f\"],[0.2222222222222222,\"#7201a8\"],[0.3333333333333333,\"#9c179e\"],[0.4444444444444444,\"#bd3786\"],[0.5555555555555556,\"#d8576b\"],[0.6666666666666666,\"#ed7953\"],[0.7777777777777778,\"#fb9f3a\"],[0.8888888888888888,\"#fdca26\"],[1.0,\"#f0f921\"]],\"type\":\"heatmapgl\"}],\"histogram\":[{\"marker\":{\"pattern\":{\"fillmode\":\"overlay\",\"size\":10,\"solidity\":0.2}},\"type\":\"histogram\"}],\"histogram2d\":[{\"colorbar\":{\"outlinewidth\":0,\"ticks\":\"\"},\"colorscale\":[[0.0,\"#0d0887\"],[0.1111111111111111,\"#46039f\"],[0.2222222222222222,\"#7201a8\"],[0.3333333333333333,\"#9c179e\"],[0.4444444444444444,\"#bd3786\"],[0.5555555555555556,\"#d8576b\"],[0.6666666666666666,\"#ed7953\"],[0.7777777777777778,\"#fb9f3a\"],[0.8888888888888888,\"#fdca26\"],[1.0,\"#f0f921\"]],\"type\":\"histogram2d\"}],\"histogram2dcontour\":[{\"colorbar\":{\"outlinewidth\":0,\"ticks\":\"\"},\"colorscale\":[[0.0,\"#0d0887\"],[0.1111111111111111,\"#46039f\"],[0.2222222222222222,\"#7201a8\"],[0.3333333333333333,\"#9c179e\"],[0.4444444444444444,\"#bd3786\"],[0.5555555555555556,\"#d8576b\"],[0.6666666666666666,\"#ed7953\"],[0.7777777777777778,\"#fb9f3a\"],[0.8888888888888888,\"#fdca26\"],[1.0,\"#f0f921\"]],\"type\":\"histogram2dcontour\"}],\"mesh3d\":[{\"colorbar\":{\"outlinewidth\":0,\"ticks\":\"\"},\"type\":\"mesh3d\"}],\"parcoords\":[{\"line\":{\"colorbar\":{\"outlinewidth\":0,\"ticks\":\"\"}},\"type\":\"parcoords\"}],\"pie\":[{\"automargin\":true,\"type\":\"pie\"}],\"scatter\":[{\"marker\":{\"colorbar\":{\"outlinewidth\":0,\"ticks\":\"\"}},\"type\":\"scatter\"}],\"scatter3d\":[{\"line\":{\"colorbar\":{\"outlinewidth\":0,\"ticks\":\"\"}},\"marker\":{\"colorbar\":{\"outlinewidth\":0,\"ticks\":\"\"}},\"type\":\"scatter3d\"}],\"scattercarpet\":[{\"marker\":{\"colorbar\":{\"outlinewidth\":0,\"ticks\":\"\"}},\"type\":\"scattercarpet\"}],\"scattergeo\":[{\"marker\":{\"colorbar\":{\"outlinewidth\":0,\"ticks\":\"\"}},\"type\":\"scattergeo\"}],\"scattergl\":[{\"marker\":{\"colorbar\":{\"outlinewidth\":0,\"ticks\":\"\"}},\"type\":\"scattergl\"}],\"scattermapbox\":[{\"marker\":{\"colorbar\":{\"outlinewidth\":0,\"ticks\":\"\"}},\"type\":\"scattermapbox\"}],\"scatterpolar\":[{\"marker\":{\"colorbar\":{\"outlinewidth\":0,\"ticks\":\"\"}},\"type\":\"scatterpolar\"}],\"scatterpolargl\":[{\"marker\":{\"colorbar\":{\"outlinewidth\":0,\"ticks\":\"\"}},\"type\":\"scatterpolargl\"}],\"scatterternary\":[{\"marker\":{\"colorbar\":{\"outlinewidth\":0,\"ticks\":\"\"}},\"type\":\"scatterternary\"}],\"surface\":[{\"colorbar\":{\"outlinewidth\":0,\"ticks\":\"\"},\"colorscale\":[[0.0,\"#0d0887\"],[0.1111111111111111,\"#46039f\"],[0.2222222222222222,\"#7201a8\"],[0.3333333333333333,\"#9c179e\"],[0.4444444444444444,\"#bd3786\"],[0.5555555555555556,\"#d8576b\"],[0.6666666666666666,\"#ed7953\"],[0.7777777777777778,\"#fb9f3a\"],[0.8888888888888888,\"#fdca26\"],[1.0,\"#f0f921\"]],\"type\":\"surface\"}],\"table\":[{\"cells\":{\"fill\":{\"color\":\"#EBF0F8\"},\"line\":{\"color\":\"white\"}},\"header\":{\"fill\":{\"color\":\"#C8D4E3\"},\"line\":{\"color\":\"white\"}},\"type\":\"table\"}]},\"layout\":{\"annotationdefaults\":{\"arrowcolor\":\"#2a3f5f\",\"arrowhead\":0,\"arrowwidth\":1},\"autotypenumbers\":\"strict\",\"coloraxis\":{\"colorbar\":{\"outlinewidth\":0,\"ticks\":\"\"}},\"colorscale\":{\"diverging\":[[0,\"#8e0152\"],[0.1,\"#c51b7d\"],[0.2,\"#de77ae\"],[0.3,\"#f1b6da\"],[0.4,\"#fde0ef\"],[0.5,\"#f7f7f7\"],[0.6,\"#e6f5d0\"],[0.7,\"#b8e186\"],[0.8,\"#7fbc41\"],[0.9,\"#4d9221\"],[1,\"#276419\"]],\"sequential\":[[0.0,\"#0d0887\"],[0.1111111111111111,\"#46039f\"],[0.2222222222222222,\"#7201a8\"],[0.3333333333333333,\"#9c179e\"],[0.4444444444444444,\"#bd3786\"],[0.5555555555555556,\"#d8576b\"],[0.6666666666666666,\"#ed7953\"],[0.7777777777777778,\"#fb9f3a\"],[0.8888888888888888,\"#fdca26\"],[1.0,\"#f0f921\"]],\"sequentialminus\":[[0.0,\"#0d0887\"],[0.1111111111111111,\"#46039f\"],[0.2222222222222222,\"#7201a8\"],[0.3333333333333333,\"#9c179e\"],[0.4444444444444444,\"#bd3786\"],[0.5555555555555556,\"#d8576b\"],[0.6666666666666666,\"#ed7953\"],[0.7777777777777778,\"#fb9f3a\"],[0.8888888888888888,\"#fdca26\"],[1.0,\"#f0f921\"]]},\"colorway\":[\"#636efa\",\"#EF553B\",\"#00cc96\",\"#ab63fa\",\"#FFA15A\",\"#19d3f3\",\"#FF6692\",\"#B6E880\",\"#FF97FF\",\"#FECB52\"],\"font\":{\"color\":\"#2a3f5f\"},\"geo\":{\"bgcolor\":\"white\",\"lakecolor\":\"white\",\"landcolor\":\"#E5ECF6\",\"showlakes\":true,\"showland\":true,\"subunitcolor\":\"white\"},\"hoverlabel\":{\"align\":\"left\"},\"hovermode\":\"closest\",\"mapbox\":{\"style\":\"light\"},\"paper_bgcolor\":\"white\",\"plot_bgcolor\":\"#E5ECF6\",\"polar\":{\"angularaxis\":{\"gridcolor\":\"white\",\"linecolor\":\"white\",\"ticks\":\"\"},\"bgcolor\":\"#E5ECF6\",\"radialaxis\":{\"gridcolor\":\"white\",\"linecolor\":\"white\",\"ticks\":\"\"}},\"scene\":{\"xaxis\":{\"backgroundcolor\":\"#E5ECF6\",\"gridcolor\":\"white\",\"gridwidth\":2,\"linecolor\":\"white\",\"showbackground\":true,\"ticks\":\"\",\"zerolinecolor\":\"white\"},\"yaxis\":{\"backgroundcolor\":\"#E5ECF6\",\"gridcolor\":\"white\",\"gridwidth\":2,\"linecolor\":\"white\",\"showbackground\":true,\"ticks\":\"\",\"zerolinecolor\":\"white\"},\"zaxis\":{\"backgroundcolor\":\"#E5ECF6\",\"gridcolor\":\"white\",\"gridwidth\":2,\"linecolor\":\"white\",\"showbackground\":true,\"ticks\":\"\",\"zerolinecolor\":\"white\"}},\"shapedefaults\":{\"line\":{\"color\":\"#2a3f5f\"}},\"ternary\":{\"aaxis\":{\"gridcolor\":\"white\",\"linecolor\":\"white\",\"ticks\":\"\"},\"baxis\":{\"gridcolor\":\"white\",\"linecolor\":\"white\",\"ticks\":\"\"},\"bgcolor\":\"#E5ECF6\",\"caxis\":{\"gridcolor\":\"white\",\"linecolor\":\"white\",\"ticks\":\"\"}},\"title\":{\"x\":0.05},\"xaxis\":{\"automargin\":true,\"gridcolor\":\"white\",\"linecolor\":\"white\",\"ticks\":\"\",\"title\":{\"standoff\":15},\"zerolinecolor\":\"white\",\"zerolinewidth\":2},\"yaxis\":{\"automargin\":true,\"gridcolor\":\"white\",\"linecolor\":\"white\",\"ticks\":\"\",\"title\":{\"standoff\":15},\"zerolinecolor\":\"white\",\"zerolinewidth\":2}}},\"title\":{\"text\":\"Median Real Adjusted Wages vs Permit Ratio (Outliers Excluded)\"},\"xaxis\":{\"anchor\":\"y\",\"domain\":[0.0,1.0],\"title\":{\"text\":\"Permit_Ratio\"}},\"yaxis\":{\"anchor\":\"x\",\"domain\":[0.0,1.0],\"title\":{\"text\":\"COL_Wage\"}}},                        {\"responsive\": true}                    ).then(function(){\n",
       "                            \n",
       "var gd = document.getElementById('e498c937-5b7d-477d-915e-039351e2126e');\n",
       "var x = new MutationObserver(function (mutations, observer) {{\n",
       "        var display = window.getComputedStyle(gd).display;\n",
       "        if (!display || display === 'none') {{\n",
       "            console.log([gd, 'removed!']);\n",
       "            Plotly.purge(gd);\n",
       "            observer.disconnect();\n",
       "        }}\n",
       "}});\n",
       "\n",
       "// Listen for the removal of the full notebook cells\n",
       "var notebookContainer = gd.closest('#notebook-container');\n",
       "if (notebookContainer) {{\n",
       "    x.observe(notebookContainer, {childList: true});\n",
       "}}\n",
       "\n",
       "// Listen for the clearing of the current output cell\n",
       "var outputEl = gd.closest('.output');\n",
       "if (outputEl) {{\n",
       "    x.observe(outputEl, {childList: true});\n",
       "}}\n",
       "\n",
       "                        })                };                });            </script>        </div>"
      ]
     },
     "metadata": {},
     "output_type": "display_data"
    }
   ],
   "source": [
    "wvp_no_outliers = wage_vs_permit[(wage_vs_permit['City']!=\"NY\") & (wage_vs_permit['City']!=\"SF\")]\n",
    "X = wvp_no_outliers[['Permit_Ratio']]\n",
    "X = sm.add_constant(X)\n",
    "y = wvp_no_outliers['COL_Wage']\n",
    "\n",
    "result = sm.OLS(y, X).fit()\n",
    "print(result.summary())\n",
    "\n",
    "fig = px.scatter(wvp_no_outliers, x='Permit_Ratio', y='COL_Wage', hover_name='City', color='Year', trendline='ols',\n",
    "                title='Median Real Adjusted Wages vs Permit Ratio (Outliers Excluded)')\n",
    "\n",
    "fig.show()"
   ]
  },
  {
   "cell_type": "code",
   "execution_count": 141,
   "id": "ed5b6e06",
   "metadata": {},
   "outputs": [],
   "source": [
    "# Here I'm importing a more comprehensive dataset, the 2019 ACS profile, but it only covers one year\n",
    "df1 = pd.read_csv('ACSAggData2.csv')\n",
    "df1 = df1.transpose().reset_index()\n",
    "df1.columns = df1.iloc[0]\n",
    "df1.drop(df1.index[0], inplace=True)\n",
    "df1.rename(columns={\"Unnamed: 0\": \"Metro\"}, inplace=True)\n",
    "\n",
    "# Clean the whitespace that's around the column names\n",
    "new_cols = []\n",
    "for i in df1.columns:\n",
    "    new_cols.append(i.strip())\n",
    "    \n",
    "df1.columns = new_cols"
   ]
  },
  {
   "cell_type": "code",
   "execution_count": 142,
   "id": "58671cd2",
   "metadata": {},
   "outputs": [],
   "source": [
    "# Recast the datatypes so they're compatible for OLS regression\n",
    "df1 = df1.astype({'Gross rent 30% or more of HH income':\"float\", 'For rent':'float', \n",
    "                  'Vacant housing units':'float'})"
   ]
  },
  {
   "cell_type": "code",
   "execution_count": 143,
   "id": "13383382",
   "metadata": {},
   "outputs": [
    {
     "name": "stderr",
     "output_type": "stream",
     "text": [
      "<ipython-input-143-33e25f70df5b>:3: SettingWithCopyWarning:\n",
      "\n",
      "\n",
      "A value is trying to be set on a copy of a slice from a DataFrame\n",
      "\n",
      "See the caveats in the documentation: https://pandas.pydata.org/pandas-docs/stable/user_guide/indexing.html#returning-a-view-versus-a-copy\n",
      "\n"
     ]
    }
   ],
   "source": [
    "# Split the raw numbers and percentages up and drop the null percents\n",
    "df_raw = df1[df1['Metro'].str.contains(\"Raw\")]\n",
    "df_pct = df1[df1['Metro'].str.contains(\"Pct\")]\n",
    "df_pct.dropna(axis=1, inplace=True)"
   ]
  },
  {
   "cell_type": "code",
   "execution_count": 144,
   "id": "88cb870d",
   "metadata": {},
   "outputs": [
    {
     "data": {
      "image/png": "[encoded data removed]",
      "text/plain": [
       "<Figure size 432x288 with 1 Axes>"
      ]
     },
     "metadata": {
      "needs_background": "light"
     },
     "output_type": "display_data"
    }
   ],
   "source": [
    "# I thought this might be a useful graph\n",
    "sns.barplot(x = \"Metro\", y='Gross rent 30% or more of HH income', data=df_pct)\n",
    "plt.xticks(rotation=90)\n",
    "plt.show()"
   ]
  },
  {
   "cell_type": "code",
   "execution_count": 145,
   "id": "4118ac83",
   "metadata": {},
   "outputs": [
    {
     "name": "stderr",
     "output_type": "stream",
     "text": [
      "<ipython-input-145-8c7e7fa4377a>:5: SettingWithCopyWarning:\n",
      "\n",
      "\n",
      "A value is trying to be set on a copy of a slice from a DataFrame.\n",
      "Try using .loc[row_indexer,col_indexer] = value instead\n",
      "\n",
      "See the caveats in the documentation: https://pandas.pydata.org/pandas-docs/stable/user_guide/indexing.html#returning-a-view-versus-a-copy\n",
      "\n"
     ]
    }
   ],
   "source": [
    "# Here I add the 2019 real median wages to the more comprehnsive ACS data\n",
    "metros = []\n",
    "for index, item in df_pct.iterrows():\n",
    "    metros.append(item['Metro'].replace('_Pct', ''))\n",
    "    \n",
    "df_pct['Metro'] = metros\n",
    "COL_Wage_19 = wage_vs_permit[wage_vs_permit['Year']==2019][['COL_Wage', 'City']]\n",
    "df_pct = df_pct.merge(COL_Wage_19, left_on=\"Metro\", right_on='City')"
   ]
  },
  {
   "cell_type": "markdown",
   "id": "6891c34b",
   "metadata": {},
   "source": [
    "I'm surprised to see a negative correlation here, this could be a case of reverse causality where the low real wages make housing less affordable which leads to mroe vacancies"
   ]
  },
  {
   "cell_type": "code",
   "execution_count": 146,
   "id": "97447a8e",
   "metadata": {},
   "outputs": [
    {
     "name": "stdout",
     "output_type": "stream",
     "text": [
      "                            OLS Regression Results                            \n",
      "==============================================================================\n",
      "Dep. Variable:               COL_Wage   R-squared:                       0.192\n",
      "Model:                            OLS   Adj. R-squared:                  0.153\n",
      "Method:                 Least Squares   F-statistic:                     4.982\n",
      "Date:                Sun, 13 Mar 2022   Prob (F-statistic):             0.0366\n",
      "Time:                        22:05:55   Log-Likelihood:                -80.123\n",
      "No. Observations:                  23   AIC:                             164.2\n",
      "Df Residuals:                      21   BIC:                             166.5\n",
      "Df Model:                           1                                         \n",
      "Covariance Type:            nonrobust                                         \n",
      "========================================================================================\n",
      "                           coef    std err          t      P>|t|      [0.025      0.975]\n",
      "----------------------------------------------------------------------------------------\n",
      "const                   48.1789      6.372      7.561      0.000      34.927      61.431\n",
      "Vacant housing units    -1.5717      0.704     -2.232      0.037      -3.036      -0.107\n",
      "==============================================================================\n",
      "Omnibus:                       12.292   Durbin-Watson:                   1.882\n",
      "Prob(Omnibus):                  0.002   Jarque-Bera (JB):               10.602\n",
      "Skew:                           1.395   Prob(JB):                      0.00499\n",
      "Kurtosis:                       4.812   Cond. No.                         33.9\n",
      "==============================================================================\n",
      "\n",
      "Notes:\n",
      "[1] Standard Errors assume that the covariance matrix of the errors is correctly specified.\n"
     ]
    },
    {
     "data": {
      "application/vnd.plotly.v1+json": {
       "config": {
        "plotlyServerURL": "https://plot.ly"
       },
       "data": [
        {
         "hovertemplate": "<b>%{hovertext}</b><br><br>Vacant housing units=%{x}<br>COL_Wage=%{y}<extra></extra>",
         "hovertext": [
          "STL",
          "SEA",
          "DEN",
          "SLC",
          "AUS",
          "DC",
          "MEM",
          "PHX",
          "CHA",
          "DET",
          "MIN",
          "IND",
          "BOS",
          "MIA",
          "PHI",
          "SF",
          "NY",
          "CHI",
          "HOU",
          "ATL",
          "JAC",
          "KC",
          "LV"
         ],
         "legendgroup": "",
         "marker": {
          "color": "#636efa",
          "symbol": "circle"
         },
         "mode": "markers",
         "name": "",
         "orientation": "v",
         "showlegend": false,
         "type": "scatter",
         "x": [
          9.6,
          6.3,
          5.3,
          6.6,
          7.3,
          6.3,
          12,
          10.4,
          9.4,
          10.2,
          5,
          9.3,
          6.5,
          14.6,
          7.3,
          6.5,
          8.9,
          8.5,
          9.4,
          7.4,
          12.8,
          8.8,
          12
         ],
         "xaxis": "x",
         "y": [
          24.34,
          38.26,
          34.91,
          32.44,
          41.85,
          36.21,
          30.16,
          29.58,
          37.93,
          25.67,
          39.93,
          26.65,
          33.4,
          28.48,
          25.38,
          54.38,
          57.8,
          30.79,
          33.89,
          47.26,
          27.3,
          28.69,
          27.84
         ],
         "yaxis": "y"
        },
        {
         "hovertemplate": "<b>OLS trendline</b><br>COL_Wage = -1.57173 * Vacant housing units + 48.1789<br>R<sup>2</sup>=0.191742<br><br>Vacant housing units=%{x}<br>COL_Wage=%{y} <b>(trend)</b><extra></extra>",
         "legendgroup": "",
         "marker": {
          "color": "#636efa",
          "symbol": "circle"
         },
         "mode": "lines",
         "name": "",
         "showlegend": false,
         "type": "scatter",
         "x": [
          5,
          5.3,
          6.3,
          6.3,
          6.5,
          6.5,
          6.6,
          7.3,
          7.3,
          7.4,
          8.5,
          8.8,
          8.9,
          9.3,
          9.4,
          9.4,
          9.6,
          10.2,
          10.4,
          12,
          12,
          12.8,
          14.6
         ],
         "xaxis": "x",
         "y": [
          40.32026350636431,
          39.84874338699764,
          38.2770096557754,
          38.2770096557754,
          37.96266290953095,
          37.96266290953095,
          37.80548953640873,
          36.705275924553156,
          36.705275924553156,
          36.54810255143093,
          34.81919544708647,
          34.3476753277198,
          34.19050195459757,
          33.56180846210867,
          33.40463508898645,
          33.40463508898645,
          33.09028834274201,
          32.14724810400866,
          31.83290135776421,
          29.318127387808627,
          29.318127387808627,
          28.060740402830834,
          25.231619686630804
         ],
         "yaxis": "y"
        }
       ],
       "layout": {
        "legend": {
         "tracegroupgap": 0
        },
        "margin": {
         "t": 60
        },
        "template": {
         "data": {
          "bar": [
           {
            "error_x": {
             "color": "#2a3f5f"
            },
            "error_y": {
             "color": "#2a3f5f"
            },
            "marker": {
             "line": {
              "color": "#E5ECF6",
              "width": 0.5
             },
             "pattern": {
              "fillmode": "overlay",
              "size": 10,
              "solidity": 0.2
             }
            },
            "type": "bar"
           }
          ],
          "barpolar": [
           {
            "marker": {
             "line": {
              "color": "#E5ECF6",
              "width": 0.5
             },
             "pattern": {
              "fillmode": "overlay",
              "size": 10,
              "solidity": 0.2
             }
            },
            "type": "barpolar"
           }
          ],
          "carpet": [
           {
            "aaxis": {
             "endlinecolor": "#2a3f5f",
             "gridcolor": "white",
             "linecolor": "white",
             "minorgridcolor": "white",
             "startlinecolor": "#2a3f5f"
            },
            "baxis": {
             "endlinecolor": "#2a3f5f",
             "gridcolor": "white",
             "linecolor": "white",
             "minorgridcolor": "white",
             "startlinecolor": "#2a3f5f"
            },
            "type": "carpet"
           }
          ],
          "choropleth": [
           {
            "colorbar": {
             "outlinewidth": 0,
             "ticks": ""
            },
            "type": "choropleth"
           }
          ],
          "contour": [
           {
            "colorbar": {
             "outlinewidth": 0,
             "ticks": ""
            },
            "colorscale": [
             [
              0,
              "#0d0887"
             ],
             [
              0.1111111111111111,
              "#46039f"
             ],
             [
              0.2222222222222222,
              "#7201a8"
             ],
             [
              0.3333333333333333,
              "#9c179e"
             ],
             [
              0.4444444444444444,
              "#bd3786"
             ],
             [
              0.5555555555555556,
              "#d8576b"
             ],
             [
              0.6666666666666666,
              "#ed7953"
             ],
             [
              0.7777777777777778,
              "#fb9f3a"
             ],
             [
              0.8888888888888888,
              "#fdca26"
             ],
             [
              1,
              "#f0f921"
             ]
            ],
            "type": "contour"
           }
          ],
          "contourcarpet": [
           {
            "colorbar": {
             "outlinewidth": 0,
             "ticks": ""
            },
            "type": "contourcarpet"
           }
          ],
          "heatmap": [
           {
            "colorbar": {
             "outlinewidth": 0,
             "ticks": ""
            },
            "colorscale": [
             [
              0,
              "#0d0887"
             ],
             [
              0.1111111111111111,
              "#46039f"
             ],
             [
              0.2222222222222222,
              "#7201a8"
             ],
             [
              0.3333333333333333,
              "#9c179e"
             ],
             [
              0.4444444444444444,
              "#bd3786"
             ],
             [
              0.5555555555555556,
              "#d8576b"
             ],
             [
              0.6666666666666666,
              "#ed7953"
             ],
             [
              0.7777777777777778,
              "#fb9f3a"
             ],
             [
              0.8888888888888888,
              "#fdca26"
             ],
             [
              1,
              "#f0f921"
             ]
            ],
            "type": "heatmap"
           }
          ],
          "heatmapgl": [
           {
            "colorbar": {
             "outlinewidth": 0,
             "ticks": ""
            },
            "colorscale": [
             [
              0,
              "#0d0887"
             ],
             [
              0.1111111111111111,
              "#46039f"
             ],
             [
              0.2222222222222222,
              "#7201a8"
             ],
             [
              0.3333333333333333,
              "#9c179e"
             ],
             [
              0.4444444444444444,
              "#bd3786"
             ],
             [
              0.5555555555555556,
              "#d8576b"
             ],
             [
              0.6666666666666666,
              "#ed7953"
             ],
             [
              0.7777777777777778,
              "#fb9f3a"
             ],
             [
              0.8888888888888888,
              "#fdca26"
             ],
             [
              1,
              "#f0f921"
             ]
            ],
            "type": "heatmapgl"
           }
          ],
          "histogram": [
           {
            "marker": {
             "pattern": {
              "fillmode": "overlay",
              "size": 10,
              "solidity": 0.2
             }
            },
            "type": "histogram"
           }
          ],
          "histogram2d": [
           {
            "colorbar": {
             "outlinewidth": 0,
             "ticks": ""
            },
            "colorscale": [
             [
              0,
              "#0d0887"
             ],
             [
              0.1111111111111111,
              "#46039f"
             ],
             [
              0.2222222222222222,
              "#7201a8"
             ],
             [
              0.3333333333333333,
              "#9c179e"
             ],
             [
              0.4444444444444444,
              "#bd3786"
             ],
             [
              0.5555555555555556,
              "#d8576b"
             ],
             [
              0.6666666666666666,
              "#ed7953"
             ],
             [
              0.7777777777777778,
              "#fb9f3a"
             ],
             [
              0.8888888888888888,
              "#fdca26"
             ],
             [
              1,
              "#f0f921"
             ]
            ],
            "type": "histogram2d"
           }
          ],
          "histogram2dcontour": [
           {
            "colorbar": {
             "outlinewidth": 0,
             "ticks": ""
            },
            "colorscale": [
             [
              0,
              "#0d0887"
             ],
             [
              0.1111111111111111,
              "#46039f"
             ],
             [
              0.2222222222222222,
              "#7201a8"
             ],
             [
              0.3333333333333333,
              "#9c179e"
             ],
             [
              0.4444444444444444,
              "#bd3786"
             ],
             [
              0.5555555555555556,
              "#d8576b"
             ],
             [
              0.6666666666666666,
              "#ed7953"
             ],
             [
              0.7777777777777778,
              "#fb9f3a"
             ],
             [
              0.8888888888888888,
              "#fdca26"
             ],
             [
              1,
              "#f0f921"
             ]
            ],
            "type": "histogram2dcontour"
           }
          ],
          "mesh3d": [
           {
            "colorbar": {
             "outlinewidth": 0,
             "ticks": ""
            },
            "type": "mesh3d"
           }
          ],
          "parcoords": [
           {
            "line": {
             "colorbar": {
              "outlinewidth": 0,
              "ticks": ""
             }
            },
            "type": "parcoords"
           }
          ],
          "pie": [
           {
            "automargin": true,
            "type": "pie"
           }
          ],
          "scatter": [
           {
            "marker": {
             "colorbar": {
              "outlinewidth": 0,
              "ticks": ""
             }
            },
            "type": "scatter"
           }
          ],
          "scatter3d": [
           {
            "line": {
             "colorbar": {
              "outlinewidth": 0,
              "ticks": ""
             }
            },
            "marker": {
             "colorbar": {
              "outlinewidth": 0,
              "ticks": ""
             }
            },
            "type": "scatter3d"
           }
          ],
          "scattercarpet": [
           {
            "marker": {
             "colorbar": {
              "outlinewidth": 0,
              "ticks": ""
             }
            },
            "type": "scattercarpet"
           }
          ],
          "scattergeo": [
           {
            "marker": {
             "colorbar": {
              "outlinewidth": 0,
              "ticks": ""
             }
            },
            "type": "scattergeo"
           }
          ],
          "scattergl": [
           {
            "marker": {
             "colorbar": {
              "outlinewidth": 0,
              "ticks": ""
             }
            },
            "type": "scattergl"
           }
          ],
          "scattermapbox": [
           {
            "marker": {
             "colorbar": {
              "outlinewidth": 0,
              "ticks": ""
             }
            },
            "type": "scattermapbox"
           }
          ],
          "scatterpolar": [
           {
            "marker": {
             "colorbar": {
              "outlinewidth": 0,
              "ticks": ""
             }
            },
            "type": "scatterpolar"
           }
          ],
          "scatterpolargl": [
           {
            "marker": {
             "colorbar": {
              "outlinewidth": 0,
              "ticks": ""
             }
            },
            "type": "scatterpolargl"
           }
          ],
          "scatterternary": [
           {
            "marker": {
             "colorbar": {
              "outlinewidth": 0,
              "ticks": ""
             }
            },
            "type": "scatterternary"
           }
          ],
          "surface": [
           {
            "colorbar": {
             "outlinewidth": 0,
             "ticks": ""
            },
            "colorscale": [
             [
              0,
              "#0d0887"
             ],
             [
              0.1111111111111111,
              "#46039f"
             ],
             [
              0.2222222222222222,
              "#7201a8"
             ],
             [
              0.3333333333333333,
              "#9c179e"
             ],
             [
              0.4444444444444444,
              "#bd3786"
             ],
             [
              0.5555555555555556,
              "#d8576b"
             ],
             [
              0.6666666666666666,
              "#ed7953"
             ],
             [
              0.7777777777777778,
              "#fb9f3a"
             ],
             [
              0.8888888888888888,
              "#fdca26"
             ],
             [
              1,
              "#f0f921"
             ]
            ],
            "type": "surface"
           }
          ],
          "table": [
           {
            "cells": {
             "fill": {
              "color": "#EBF0F8"
             },
             "line": {
              "color": "white"
             }
            },
            "header": {
             "fill": {
              "color": "#C8D4E3"
             },
             "line": {
              "color": "white"
             }
            },
            "type": "table"
           }
          ]
         },
         "layout": {
          "annotationdefaults": {
           "arrowcolor": "#2a3f5f",
           "arrowhead": 0,
           "arrowwidth": 1
          },
          "autotypenumbers": "strict",
          "coloraxis": {
           "colorbar": {
            "outlinewidth": 0,
            "ticks": ""
           }
          },
          "colorscale": {
           "diverging": [
            [
             0,
             "#8e0152"
            ],
            [
             0.1,
             "#c51b7d"
            ],
            [
             0.2,
             "#de77ae"
            ],
            [
             0.3,
             "#f1b6da"
            ],
            [
             0.4,
             "#fde0ef"
            ],
            [
             0.5,
             "#f7f7f7"
            ],
            [
             0.6,
             "#e6f5d0"
            ],
            [
             0.7,
             "#b8e186"
            ],
            [
             0.8,
             "#7fbc41"
            ],
            [
             0.9,
             "#4d9221"
            ],
            [
             1,
             "#276419"
            ]
           ],
           "sequential": [
            [
             0,
             "#0d0887"
            ],
            [
             0.1111111111111111,
             "#46039f"
            ],
            [
             0.2222222222222222,
             "#7201a8"
            ],
            [
             0.3333333333333333,
             "#9c179e"
            ],
            [
             0.4444444444444444,
             "#bd3786"
            ],
            [
             0.5555555555555556,
             "#d8576b"
            ],
            [
             0.6666666666666666,
             "#ed7953"
            ],
            [
             0.7777777777777778,
             "#fb9f3a"
            ],
            [
             0.8888888888888888,
             "#fdca26"
            ],
            [
             1,
             "#f0f921"
            ]
           ],
           "sequentialminus": [
            [
             0,
             "#0d0887"
            ],
            [
             0.1111111111111111,
             "#46039f"
            ],
            [
             0.2222222222222222,
             "#7201a8"
            ],
            [
             0.3333333333333333,
             "#9c179e"
            ],
            [
             0.4444444444444444,
             "#bd3786"
            ],
            [
             0.5555555555555556,
             "#d8576b"
            ],
            [
             0.6666666666666666,
             "#ed7953"
            ],
            [
             0.7777777777777778,
             "#fb9f3a"
            ],
            [
             0.8888888888888888,
             "#fdca26"
            ],
            [
             1,
             "#f0f921"
            ]
           ]
          },
          "colorway": [
           "#636efa",
           "#EF553B",
           "#00cc96",
           "#ab63fa",
           "#FFA15A",
           "#19d3f3",
           "#FF6692",
           "#B6E880",
           "#FF97FF",
           "#FECB52"
          ],
          "font": {
           "color": "#2a3f5f"
          },
          "geo": {
           "bgcolor": "white",
           "lakecolor": "white",
           "landcolor": "#E5ECF6",
           "showlakes": true,
           "showland": true,
           "subunitcolor": "white"
          },
          "hoverlabel": {
           "align": "left"
          },
          "hovermode": "closest",
          "mapbox": {
           "style": "light"
          },
          "paper_bgcolor": "white",
          "plot_bgcolor": "#E5ECF6",
          "polar": {
           "angularaxis": {
            "gridcolor": "white",
            "linecolor": "white",
            "ticks": ""
           },
           "bgcolor": "#E5ECF6",
           "radialaxis": {
            "gridcolor": "white",
            "linecolor": "white",
            "ticks": ""
           }
          },
          "scene": {
           "xaxis": {
            "backgroundcolor": "#E5ECF6",
            "gridcolor": "white",
            "gridwidth": 2,
            "linecolor": "white",
            "showbackground": true,
            "ticks": "",
            "zerolinecolor": "white"
           },
           "yaxis": {
            "backgroundcolor": "#E5ECF6",
            "gridcolor": "white",
            "gridwidth": 2,
            "linecolor": "white",
            "showbackground": true,
            "ticks": "",
            "zerolinecolor": "white"
           },
           "zaxis": {
            "backgroundcolor": "#E5ECF6",
            "gridcolor": "white",
            "gridwidth": 2,
            "linecolor": "white",
            "showbackground": true,
            "ticks": "",
            "zerolinecolor": "white"
           }
          },
          "shapedefaults": {
           "line": {
            "color": "#2a3f5f"
           }
          },
          "ternary": {
           "aaxis": {
            "gridcolor": "white",
            "linecolor": "white",
            "ticks": ""
           },
           "baxis": {
            "gridcolor": "white",
            "linecolor": "white",
            "ticks": ""
           },
           "bgcolor": "#E5ECF6",
           "caxis": {
            "gridcolor": "white",
            "linecolor": "white",
            "ticks": ""
           }
          },
          "title": {
           "x": 0.05
          },
          "xaxis": {
           "automargin": true,
           "gridcolor": "white",
           "linecolor": "white",
           "ticks": "",
           "title": {
            "standoff": 15
           },
           "zerolinecolor": "white",
           "zerolinewidth": 2
          },
          "yaxis": {
           "automargin": true,
           "gridcolor": "white",
           "linecolor": "white",
           "ticks": "",
           "title": {
            "standoff": 15
           },
           "zerolinecolor": "white",
           "zerolinewidth": 2
          }
         }
        },
        "xaxis": {
         "anchor": "y",
         "domain": [
          0,
          1
         ],
         "title": {
          "text": "Vacant housing units"
         }
        },
        "yaxis": {
         "anchor": "x",
         "domain": [
          0,
          1
         ],
         "title": {
          "text": "COL_Wage"
         }
        }
       }
      },
      "text/html": [
       "<div>                            <div id=\"a566065e-5e6d-4b87-a941-4a36b20ddeae\" class=\"plotly-graph-div\" style=\"height:525px; width:100%;\"></div>            <script type=\"text/javascript\">                require([\"plotly\"], function(Plotly) {                    window.PLOTLYENV=window.PLOTLYENV || {};                                    if (document.getElementById(\"a566065e-5e6d-4b87-a941-4a36b20ddeae\")) {                    Plotly.newPlot(                        \"a566065e-5e6d-4b87-a941-4a36b20ddeae\",                        [{\"hovertemplate\":\"<b>%{hovertext}</b><br><br>Vacant housing units=%{x}<br>COL_Wage=%{y}<extra></extra>\",\"hovertext\":[\"STL\",\"SEA\",\"DEN\",\"SLC\",\"AUS\",\"DC\",\"MEM\",\"PHX\",\"CHA\",\"DET\",\"MIN\",\"IND\",\"BOS\",\"MIA\",\"PHI\",\"SF\",\"NY\",\"CHI\",\"HOU\",\"ATL\",\"JAC\",\"KC\",\"LV\"],\"legendgroup\":\"\",\"marker\":{\"color\":\"#636efa\",\"symbol\":\"circle\"},\"mode\":\"markers\",\"name\":\"\",\"orientation\":\"v\",\"showlegend\":false,\"type\":\"scatter\",\"x\":[9.6,6.3,5.3,6.6,7.3,6.3,12.0,10.4,9.4,10.2,5.0,9.3,6.5,14.6,7.3,6.5,8.9,8.5,9.4,7.4,12.8,8.8,12.0],\"xaxis\":\"x\",\"y\":[24.34,38.26,34.91,32.44,41.85,36.21,30.16,29.58,37.93,25.67,39.93,26.65,33.4,28.48,25.38,54.38,57.8,30.79,33.89,47.26,27.3,28.69,27.84],\"yaxis\":\"y\"},{\"hovertemplate\":\"<b>OLS trendline</b><br>COL_Wage = -1.57173 * Vacant housing units + 48.1789<br>R<sup>2</sup>=0.191742<br><br>Vacant housing units=%{x}<br>COL_Wage=%{y} <b>(trend)</b><extra></extra>\",\"legendgroup\":\"\",\"marker\":{\"color\":\"#636efa\",\"symbol\":\"circle\"},\"mode\":\"lines\",\"name\":\"\",\"showlegend\":false,\"type\":\"scatter\",\"x\":[5.0,5.3,6.3,6.3,6.5,6.5,6.6,7.3,7.3,7.4,8.5,8.8,8.9,9.3,9.4,9.4,9.6,10.2,10.4,12.0,12.0,12.8,14.6],\"xaxis\":\"x\",\"y\":[40.32026350636431,39.84874338699764,38.2770096557754,38.2770096557754,37.96266290953095,37.96266290953095,37.80548953640873,36.705275924553156,36.705275924553156,36.54810255143093,34.81919544708647,34.3476753277198,34.19050195459757,33.56180846210867,33.40463508898645,33.40463508898645,33.09028834274201,32.14724810400866,31.83290135776421,29.318127387808627,29.318127387808627,28.060740402830834,25.231619686630804],\"yaxis\":\"y\"}],                        {\"legend\":{\"tracegroupgap\":0},\"margin\":{\"t\":60},\"template\":{\"data\":{\"bar\":[{\"error_x\":{\"color\":\"#2a3f5f\"},\"error_y\":{\"color\":\"#2a3f5f\"},\"marker\":{\"line\":{\"color\":\"#E5ECF6\",\"width\":0.5},\"pattern\":{\"fillmode\":\"overlay\",\"size\":10,\"solidity\":0.2}},\"type\":\"bar\"}],\"barpolar\":[{\"marker\":{\"line\":{\"color\":\"#E5ECF6\",\"width\":0.5},\"pattern\":{\"fillmode\":\"overlay\",\"size\":10,\"solidity\":0.2}},\"type\":\"barpolar\"}],\"carpet\":[{\"aaxis\":{\"endlinecolor\":\"#2a3f5f\",\"gridcolor\":\"white\",\"linecolor\":\"white\",\"minorgridcolor\":\"white\",\"startlinecolor\":\"#2a3f5f\"},\"baxis\":{\"endlinecolor\":\"#2a3f5f\",\"gridcolor\":\"white\",\"linecolor\":\"white\",\"minorgridcolor\":\"white\",\"startlinecolor\":\"#2a3f5f\"},\"type\":\"carpet\"}],\"choropleth\":[{\"colorbar\":{\"outlinewidth\":0,\"ticks\":\"\"},\"type\":\"choropleth\"}],\"contour\":[{\"colorbar\":{\"outlinewidth\":0,\"ticks\":\"\"},\"colorscale\":[[0.0,\"#0d0887\"],[0.1111111111111111,\"#46039f\"],[0.2222222222222222,\"#7201a8\"],[0.3333333333333333,\"#9c179e\"],[0.4444444444444444,\"#bd3786\"],[0.5555555555555556,\"#d8576b\"],[0.6666666666666666,\"#ed7953\"],[0.7777777777777778,\"#fb9f3a\"],[0.8888888888888888,\"#fdca26\"],[1.0,\"#f0f921\"]],\"type\":\"contour\"}],\"contourcarpet\":[{\"colorbar\":{\"outlinewidth\":0,\"ticks\":\"\"},\"type\":\"contourcarpet\"}],\"heatmap\":[{\"colorbar\":{\"outlinewidth\":0,\"ticks\":\"\"},\"colorscale\":[[0.0,\"#0d0887\"],[0.1111111111111111,\"#46039f\"],[0.2222222222222222,\"#7201a8\"],[0.3333333333333333,\"#9c179e\"],[0.4444444444444444,\"#bd3786\"],[0.5555555555555556,\"#d8576b\"],[0.6666666666666666,\"#ed7953\"],[0.7777777777777778,\"#fb9f3a\"],[0.8888888888888888,\"#fdca26\"],[1.0,\"#f0f921\"]],\"type\":\"heatmap\"}],\"heatmapgl\":[{\"colorbar\":{\"outlinewidth\":0,\"ticks\":\"\"},\"colorscale\":[[0.0,\"#0d0887\"],[0.1111111111111111,\"#46039f\"],[0.2222222222222222,\"#7201a8\"],[0.3333333333333333,\"#9c179e\"],[0.4444444444444444,\"#bd3786\"],[0.5555555555555556,\"#d8576b\"],[0.6666666666666666,\"#ed7953\"],[0.7777777777777778,\"#fb9f3a\"],[0.8888888888888888,\"#fdca26\"],[1.0,\"#f0f921\"]],\"type\":\"heatmapgl\"}],\"histogram\":[{\"marker\":{\"pattern\":{\"fillmode\":\"overlay\",\"size\":10,\"solidity\":0.2}},\"type\":\"histogram\"}],\"histogram2d\":[{\"colorbar\":{\"outlinewidth\":0,\"ticks\":\"\"},\"colorscale\":[[0.0,\"#0d0887\"],[0.1111111111111111,\"#46039f\"],[0.2222222222222222,\"#7201a8\"],[0.3333333333333333,\"#9c179e\"],[0.4444444444444444,\"#bd3786\"],[0.5555555555555556,\"#d8576b\"],[0.6666666666666666,\"#ed7953\"],[0.7777777777777778,\"#fb9f3a\"],[0.8888888888888888,\"#fdca26\"],[1.0,\"#f0f921\"]],\"type\":\"histogram2d\"}],\"histogram2dcontour\":[{\"colorbar\":{\"outlinewidth\":0,\"ticks\":\"\"},\"colorscale\":[[0.0,\"#0d0887\"],[0.1111111111111111,\"#46039f\"],[0.2222222222222222,\"#7201a8\"],[0.3333333333333333,\"#9c179e\"],[0.4444444444444444,\"#bd3786\"],[0.5555555555555556,\"#d8576b\"],[0.6666666666666666,\"#ed7953\"],[0.7777777777777778,\"#fb9f3a\"],[0.8888888888888888,\"#fdca26\"],[1.0,\"#f0f921\"]],\"type\":\"histogram2dcontour\"}],\"mesh3d\":[{\"colorbar\":{\"outlinewidth\":0,\"ticks\":\"\"},\"type\":\"mesh3d\"}],\"parcoords\":[{\"line\":{\"colorbar\":{\"outlinewidth\":0,\"ticks\":\"\"}},\"type\":\"parcoords\"}],\"pie\":[{\"automargin\":true,\"type\":\"pie\"}],\"scatter\":[{\"marker\":{\"colorbar\":{\"outlinewidth\":0,\"ticks\":\"\"}},\"type\":\"scatter\"}],\"scatter3d\":[{\"line\":{\"colorbar\":{\"outlinewidth\":0,\"ticks\":\"\"}},\"marker\":{\"colorbar\":{\"outlinewidth\":0,\"ticks\":\"\"}},\"type\":\"scatter3d\"}],\"scattercarpet\":[{\"marker\":{\"colorbar\":{\"outlinewidth\":0,\"ticks\":\"\"}},\"type\":\"scattercarpet\"}],\"scattergeo\":[{\"marker\":{\"colorbar\":{\"outlinewidth\":0,\"ticks\":\"\"}},\"type\":\"scattergeo\"}],\"scattergl\":[{\"marker\":{\"colorbar\":{\"outlinewidth\":0,\"ticks\":\"\"}},\"type\":\"scattergl\"}],\"scattermapbox\":[{\"marker\":{\"colorbar\":{\"outlinewidth\":0,\"ticks\":\"\"}},\"type\":\"scattermapbox\"}],\"scatterpolar\":[{\"marker\":{\"colorbar\":{\"outlinewidth\":0,\"ticks\":\"\"}},\"type\":\"scatterpolar\"}],\"scatterpolargl\":[{\"marker\":{\"colorbar\":{\"outlinewidth\":0,\"ticks\":\"\"}},\"type\":\"scatterpolargl\"}],\"scatterternary\":[{\"marker\":{\"colorbar\":{\"outlinewidth\":0,\"ticks\":\"\"}},\"type\":\"scatterternary\"}],\"surface\":[{\"colorbar\":{\"outlinewidth\":0,\"ticks\":\"\"},\"colorscale\":[[0.0,\"#0d0887\"],[0.1111111111111111,\"#46039f\"],[0.2222222222222222,\"#7201a8\"],[0.3333333333333333,\"#9c179e\"],[0.4444444444444444,\"#bd3786\"],[0.5555555555555556,\"#d8576b\"],[0.6666666666666666,\"#ed7953\"],[0.7777777777777778,\"#fb9f3a\"],[0.8888888888888888,\"#fdca26\"],[1.0,\"#f0f921\"]],\"type\":\"surface\"}],\"table\":[{\"cells\":{\"fill\":{\"color\":\"#EBF0F8\"},\"line\":{\"color\":\"white\"}},\"header\":{\"fill\":{\"color\":\"#C8D4E3\"},\"line\":{\"color\":\"white\"}},\"type\":\"table\"}]},\"layout\":{\"annotationdefaults\":{\"arrowcolor\":\"#2a3f5f\",\"arrowhead\":0,\"arrowwidth\":1},\"autotypenumbers\":\"strict\",\"coloraxis\":{\"colorbar\":{\"outlinewidth\":0,\"ticks\":\"\"}},\"colorscale\":{\"diverging\":[[0,\"#8e0152\"],[0.1,\"#c51b7d\"],[0.2,\"#de77ae\"],[0.3,\"#f1b6da\"],[0.4,\"#fde0ef\"],[0.5,\"#f7f7f7\"],[0.6,\"#e6f5d0\"],[0.7,\"#b8e186\"],[0.8,\"#7fbc41\"],[0.9,\"#4d9221\"],[1,\"#276419\"]],\"sequential\":[[0.0,\"#0d0887\"],[0.1111111111111111,\"#46039f\"],[0.2222222222222222,\"#7201a8\"],[0.3333333333333333,\"#9c179e\"],[0.4444444444444444,\"#bd3786\"],[0.5555555555555556,\"#d8576b\"],[0.6666666666666666,\"#ed7953\"],[0.7777777777777778,\"#fb9f3a\"],[0.8888888888888888,\"#fdca26\"],[1.0,\"#f0f921\"]],\"sequentialminus\":[[0.0,\"#0d0887\"],[0.1111111111111111,\"#46039f\"],[0.2222222222222222,\"#7201a8\"],[0.3333333333333333,\"#9c179e\"],[0.4444444444444444,\"#bd3786\"],[0.5555555555555556,\"#d8576b\"],[0.6666666666666666,\"#ed7953\"],[0.7777777777777778,\"#fb9f3a\"],[0.8888888888888888,\"#fdca26\"],[1.0,\"#f0f921\"]]},\"colorway\":[\"#636efa\",\"#EF553B\",\"#00cc96\",\"#ab63fa\",\"#FFA15A\",\"#19d3f3\",\"#FF6692\",\"#B6E880\",\"#FF97FF\",\"#FECB52\"],\"font\":{\"color\":\"#2a3f5f\"},\"geo\":{\"bgcolor\":\"white\",\"lakecolor\":\"white\",\"landcolor\":\"#E5ECF6\",\"showlakes\":true,\"showland\":true,\"subunitcolor\":\"white\"},\"hoverlabel\":{\"align\":\"left\"},\"hovermode\":\"closest\",\"mapbox\":{\"style\":\"light\"},\"paper_bgcolor\":\"white\",\"plot_bgcolor\":\"#E5ECF6\",\"polar\":{\"angularaxis\":{\"gridcolor\":\"white\",\"linecolor\":\"white\",\"ticks\":\"\"},\"bgcolor\":\"#E5ECF6\",\"radialaxis\":{\"gridcolor\":\"white\",\"linecolor\":\"white\",\"ticks\":\"\"}},\"scene\":{\"xaxis\":{\"backgroundcolor\":\"#E5ECF6\",\"gridcolor\":\"white\",\"gridwidth\":2,\"linecolor\":\"white\",\"showbackground\":true,\"ticks\":\"\",\"zerolinecolor\":\"white\"},\"yaxis\":{\"backgroundcolor\":\"#E5ECF6\",\"gridcolor\":\"white\",\"gridwidth\":2,\"linecolor\":\"white\",\"showbackground\":true,\"ticks\":\"\",\"zerolinecolor\":\"white\"},\"zaxis\":{\"backgroundcolor\":\"#E5ECF6\",\"gridcolor\":\"white\",\"gridwidth\":2,\"linecolor\":\"white\",\"showbackground\":true,\"ticks\":\"\",\"zerolinecolor\":\"white\"}},\"shapedefaults\":{\"line\":{\"color\":\"#2a3f5f\"}},\"ternary\":{\"aaxis\":{\"gridcolor\":\"white\",\"linecolor\":\"white\",\"ticks\":\"\"},\"baxis\":{\"gridcolor\":\"white\",\"linecolor\":\"white\",\"ticks\":\"\"},\"bgcolor\":\"#E5ECF6\",\"caxis\":{\"gridcolor\":\"white\",\"linecolor\":\"white\",\"ticks\":\"\"}},\"title\":{\"x\":0.05},\"xaxis\":{\"automargin\":true,\"gridcolor\":\"white\",\"linecolor\":\"white\",\"ticks\":\"\",\"title\":{\"standoff\":15},\"zerolinecolor\":\"white\",\"zerolinewidth\":2},\"yaxis\":{\"automargin\":true,\"gridcolor\":\"white\",\"linecolor\":\"white\",\"ticks\":\"\",\"title\":{\"standoff\":15},\"zerolinecolor\":\"white\",\"zerolinewidth\":2}}},\"xaxis\":{\"anchor\":\"y\",\"domain\":[0.0,1.0],\"title\":{\"text\":\"Vacant housing units\"}},\"yaxis\":{\"anchor\":\"x\",\"domain\":[0.0,1.0],\"title\":{\"text\":\"COL_Wage\"}}},                        {\"responsive\": true}                    ).then(function(){\n",
       "                            \n",
       "var gd = document.getElementById('a566065e-5e6d-4b87-a941-4a36b20ddeae');\n",
       "var x = new MutationObserver(function (mutations, observer) {{\n",
       "        var display = window.getComputedStyle(gd).display;\n",
       "        if (!display || display === 'none') {{\n",
       "            console.log([gd, 'removed!']);\n",
       "            Plotly.purge(gd);\n",
       "            observer.disconnect();\n",
       "        }}\n",
       "}});\n",
       "\n",
       "// Listen for the removal of the full notebook cells\n",
       "var notebookContainer = gd.closest('#notebook-container');\n",
       "if (notebookContainer) {{\n",
       "    x.observe(notebookContainer, {childList: true});\n",
       "}}\n",
       "\n",
       "// Listen for the clearing of the current output cell\n",
       "var outputEl = gd.closest('.output');\n",
       "if (outputEl) {{\n",
       "    x.observe(outputEl, {childList: true});\n",
       "}}\n",
       "\n",
       "                        })                };                });            </script>        </div>"
      ]
     },
     "metadata": {},
     "output_type": "display_data"
    }
   ],
   "source": [
    "X = df_pct[['Vacant housing units']]\n",
    "X = sm.add_constant(X)\n",
    "y = df_pct['COL_Wage']\n",
    "\n",
    "result = sm.OLS(y, X).fit()\n",
    "print(result.summary())\n",
    "\n",
    "px.scatter(df_pct, x=\"Vacant housing units\",y=\"COL_Wage\", hover_name='Metro',\n",
    "          trendline='ols')"
   ]
  },
  {
   "cell_type": "code",
   "execution_count": 126,
   "id": "beaafe22",
   "metadata": {},
   "outputs": [],
   "source": [
    "# I begand trying to evaluate the housing price index data, but it's incomplete and doesn't cover all of the \n",
    "# cities that I'm looking at.\n",
    "df_cs = pd.read_csv(\"CaseShillerIndex.csv\", index_col=0)\n",
    "df_cs.index = pd.to_datetime(df_cs.index)\n",
    "df_cs = df_cs.groupby(df_cs.index.year).mean()\n"
   ]
  },
  {
   "cell_type": "code",
   "execution_count": 127,
   "id": "cb81ce59",
   "metadata": {},
   "outputs": [
    {
     "data": {
      "text/html": [
       "<div>\n",
       "<style scoped>\n",
       "    .dataframe tbody tr th:only-of-type {\n",
       "        vertical-align: middle;\n",
       "    }\n",
       "\n",
       "    .dataframe tbody tr th {\n",
       "        vertical-align: top;\n",
       "    }\n",
       "\n",
       "    .dataframe thead th {\n",
       "        text-align: right;\n",
       "    }\n",
       "</style>\n",
       "<table border=\"1\" class=\"dataframe\">\n",
       "  <thead>\n",
       "    <tr style=\"text-align: right;\">\n",
       "      <th>DATE</th>\n",
       "      <th>1987</th>\n",
       "      <th>1988</th>\n",
       "      <th>1989</th>\n",
       "      <th>1990</th>\n",
       "      <th>1991</th>\n",
       "      <th>1992</th>\n",
       "      <th>1993</th>\n",
       "      <th>1994</th>\n",
       "      <th>1995</th>\n",
       "      <th>1996</th>\n",
       "      <th>...</th>\n",
       "      <th>2012</th>\n",
       "      <th>2013</th>\n",
       "      <th>2014</th>\n",
       "      <th>2015</th>\n",
       "      <th>2016</th>\n",
       "      <th>2017</th>\n",
       "      <th>2018</th>\n",
       "      <th>2019</th>\n",
       "      <th>2020</th>\n",
       "      <th>2021</th>\n",
       "    </tr>\n",
       "  </thead>\n",
       "  <tbody>\n",
       "    <tr>\n",
       "      <th>LA</th>\n",
       "      <td>63.216349</td>\n",
       "      <td>76.361918</td>\n",
       "      <td>94.770785</td>\n",
       "      <td>99.363525</td>\n",
       "      <td>94.073038</td>\n",
       "      <td>89.691358</td>\n",
       "      <td>81.088848</td>\n",
       "      <td>76.745994</td>\n",
       "      <td>74.852474</td>\n",
       "      <td>74.075112</td>\n",
       "      <td>...</td>\n",
       "      <td>168.858241</td>\n",
       "      <td>201.218611</td>\n",
       "      <td>221.954938</td>\n",
       "      <td>235.169607</td>\n",
       "      <td>248.792786</td>\n",
       "      <td>263.442501</td>\n",
       "      <td>280.417875</td>\n",
       "      <td>285.394389</td>\n",
       "      <td>302.097174</td>\n",
       "      <td>352.515504</td>\n",
       "    </tr>\n",
       "    <tr>\n",
       "      <th>SEA</th>\n",
       "      <td>65.511398</td>\n",
       "      <td>65.974565</td>\n",
       "      <td>67.139369</td>\n",
       "      <td>68.530383</td>\n",
       "      <td>71.232200</td>\n",
       "      <td>72.245546</td>\n",
       "      <td>74.108393</td>\n",
       "      <td>79.765094</td>\n",
       "      <td>88.658224</td>\n",
       "      <td>96.529890</td>\n",
       "      <td>...</td>\n",
       "      <td>180.333747</td>\n",
       "      <td>199.798929</td>\n",
       "      <td>225.271596</td>\n",
       "      <td>248.695097</td>\n",
       "      <td>252.297394</td>\n",
       "      <td>274.030745</td>\n",
       "      <td>333.800564</td>\n",
       "      <td>NaN</td>\n",
       "      <td>NaN</td>\n",
       "      <td>NaN</td>\n",
       "    </tr>\n",
       "    <tr>\n",
       "      <th>DEN</th>\n",
       "      <td>50.245879</td>\n",
       "      <td>48.439425</td>\n",
       "      <td>47.660405</td>\n",
       "      <td>48.575705</td>\n",
       "      <td>50.035121</td>\n",
       "      <td>53.925107</td>\n",
       "      <td>58.783824</td>\n",
       "      <td>65.485730</td>\n",
       "      <td>69.738637</td>\n",
       "      <td>73.395646</td>\n",
       "      <td>...</td>\n",
       "      <td>129.745630</td>\n",
       "      <td>142.181476</td>\n",
       "      <td>153.277856</td>\n",
       "      <td>168.945255</td>\n",
       "      <td>184.545676</td>\n",
       "      <td>198.778749</td>\n",
       "      <td>213.896643</td>\n",
       "      <td>221.764705</td>\n",
       "      <td>233.407802</td>\n",
       "      <td>274.830002</td>\n",
       "    </tr>\n",
       "    <tr>\n",
       "      <th>AUS</th>\n",
       "      <td>49.227081</td>\n",
       "      <td>57.281840</td>\n",
       "      <td>68.902209</td>\n",
       "      <td>73.763608</td>\n",
       "      <td>70.656341</td>\n",
       "      <td>69.419212</td>\n",
       "      <td>67.406193</td>\n",
       "      <td>67.516265</td>\n",
       "      <td>67.309511</td>\n",
       "      <td>67.503345</td>\n",
       "      <td>...</td>\n",
       "      <td>137.139777</td>\n",
       "      <td>169.008238</td>\n",
       "      <td>192.360003</td>\n",
       "      <td>211.917032</td>\n",
       "      <td>226.747039</td>\n",
       "      <td>242.005868</td>\n",
       "      <td>264.329343</td>\n",
       "      <td>266.267905</td>\n",
       "      <td>278.815151</td>\n",
       "      <td>327.008647</td>\n",
       "    </tr>\n",
       "    <tr>\n",
       "      <th>DC</th>\n",
       "      <td>69.020037</td>\n",
       "      <td>80.100341</td>\n",
       "      <td>90.334118</td>\n",
       "      <td>92.388698</td>\n",
       "      <td>88.696270</td>\n",
       "      <td>88.632695</td>\n",
       "      <td>88.863197</td>\n",
       "      <td>89.759179</td>\n",
       "      <td>88.955226</td>\n",
       "      <td>88.731306</td>\n",
       "      <td>...</td>\n",
       "      <td>185.630816</td>\n",
       "      <td>198.441028</td>\n",
       "      <td>207.713393</td>\n",
       "      <td>209.994514</td>\n",
       "      <td>213.601744</td>\n",
       "      <td>220.175624</td>\n",
       "      <td>226.180752</td>\n",
       "      <td>232.663330</td>\n",
       "      <td>245.215532</td>\n",
       "      <td>276.109110</td>\n",
       "    </tr>\n",
       "    <tr>\n",
       "      <th>DET</th>\n",
       "      <td>58.891101</td>\n",
       "      <td>60.746732</td>\n",
       "      <td>62.809682</td>\n",
       "      <td>66.166790</td>\n",
       "      <td>71.188432</td>\n",
       "      <td>76.640395</td>\n",
       "      <td>82.153872</td>\n",
       "      <td>88.236711</td>\n",
       "      <td>95.643315</td>\n",
       "      <td>103.393319</td>\n",
       "      <td>...</td>\n",
       "      <td>107.367384</td>\n",
       "      <td>114.918950</td>\n",
       "      <td>122.438374</td>\n",
       "      <td>126.933374</td>\n",
       "      <td>133.639513</td>\n",
       "      <td>152.625972</td>\n",
       "      <td>NaN</td>\n",
       "      <td>NaN</td>\n",
       "      <td>NaN</td>\n",
       "      <td>NaN</td>\n",
       "    </tr>\n",
       "    <tr>\n",
       "      <th>PHX</th>\n",
       "      <td>67.292347</td>\n",
       "      <td>66.261278</td>\n",
       "      <td>65.339862</td>\n",
       "      <td>66.224581</td>\n",
       "      <td>68.297988</td>\n",
       "      <td>72.756086</td>\n",
       "      <td>76.906975</td>\n",
       "      <td>81.079932</td>\n",
       "      <td>84.543479</td>\n",
       "      <td>89.454873</td>\n",
       "      <td>...</td>\n",
       "      <td>146.408986</td>\n",
       "      <td>152.791896</td>\n",
       "      <td>160.911763</td>\n",
       "      <td>169.925848</td>\n",
       "      <td>181.982628</td>\n",
       "      <td>193.178576</td>\n",
       "      <td>212.706977</td>\n",
       "      <td>271.023247</td>\n",
       "      <td>NaN</td>\n",
       "      <td>NaN</td>\n",
       "    </tr>\n",
       "    <tr>\n",
       "      <th>MIN</th>\n",
       "      <td>63.624959</td>\n",
       "      <td>64.335290</td>\n",
       "      <td>65.130541</td>\n",
       "      <td>67.188433</td>\n",
       "      <td>69.612527</td>\n",
       "      <td>72.840703</td>\n",
       "      <td>75.337541</td>\n",
       "      <td>77.774771</td>\n",
       "      <td>81.131798</td>\n",
       "      <td>85.692480</td>\n",
       "      <td>...</td>\n",
       "      <td>140.140643</td>\n",
       "      <td>144.876309</td>\n",
       "      <td>151.935698</td>\n",
       "      <td>160.779476</td>\n",
       "      <td>170.386737</td>\n",
       "      <td>177.139410</td>\n",
       "      <td>188.403325</td>\n",
       "      <td>211.141377</td>\n",
       "      <td>NaN</td>\n",
       "      <td>NaN</td>\n",
       "    </tr>\n",
       "    <tr>\n",
       "      <th>BOS</th>\n",
       "      <td>72.506800</td>\n",
       "      <td>74.715743</td>\n",
       "      <td>74.127577</td>\n",
       "      <td>69.896332</td>\n",
       "      <td>64.226234</td>\n",
       "      <td>64.014465</td>\n",
       "      <td>65.420586</td>\n",
       "      <td>68.046544</td>\n",
       "      <td>69.563551</td>\n",
       "      <td>72.331169</td>\n",
       "      <td>...</td>\n",
       "      <td>152.312762</td>\n",
       "      <td>163.301539</td>\n",
       "      <td>173.666816</td>\n",
       "      <td>180.684550</td>\n",
       "      <td>189.124826</td>\n",
       "      <td>201.759239</td>\n",
       "      <td>213.381727</td>\n",
       "      <td>221.451764</td>\n",
       "      <td>235.381290</td>\n",
       "      <td>272.322485</td>\n",
       "    </tr>\n",
       "    <tr>\n",
       "      <th>MIA</th>\n",
       "      <td>69.954695</td>\n",
       "      <td>73.933270</td>\n",
       "      <td>77.804542</td>\n",
       "      <td>79.605537</td>\n",
       "      <td>78.851030</td>\n",
       "      <td>78.937606</td>\n",
       "      <td>81.378012</td>\n",
       "      <td>85.477245</td>\n",
       "      <td>87.056818</td>\n",
       "      <td>87.683723</td>\n",
       "      <td>...</td>\n",
       "      <td>145.997975</td>\n",
       "      <td>166.036605</td>\n",
       "      <td>186.002081</td>\n",
       "      <td>200.739589</td>\n",
       "      <td>213.910493</td>\n",
       "      <td>224.851660</td>\n",
       "      <td>235.684546</td>\n",
       "      <td>243.912167</td>\n",
       "      <td>256.151424</td>\n",
       "      <td>306.959724</td>\n",
       "    </tr>\n",
       "    <tr>\n",
       "      <th>NY</th>\n",
       "      <td>80.365837</td>\n",
       "      <td>84.529968</td>\n",
       "      <td>82.799311</td>\n",
       "      <td>78.488108</td>\n",
       "      <td>74.043458</td>\n",
       "      <td>75.058948</td>\n",
       "      <td>76.260681</td>\n",
       "      <td>77.911027</td>\n",
       "      <td>78.574907</td>\n",
       "      <td>79.598315</td>\n",
       "      <td>...</td>\n",
       "      <td>162.188547</td>\n",
       "      <td>167.640054</td>\n",
       "      <td>174.245880</td>\n",
       "      <td>178.497267</td>\n",
       "      <td>182.899003</td>\n",
       "      <td>191.179852</td>\n",
       "      <td>198.649856</td>\n",
       "      <td>201.388516</td>\n",
       "      <td>209.255351</td>\n",
       "      <td>241.009403</td>\n",
       "    </tr>\n",
       "    <tr>\n",
       "      <th>CHI</th>\n",
       "      <td>56.947514</td>\n",
       "      <td>66.302964</td>\n",
       "      <td>69.965579</td>\n",
       "      <td>70.108448</td>\n",
       "      <td>71.645060</td>\n",
       "      <td>74.519186</td>\n",
       "      <td>77.265016</td>\n",
       "      <td>80.814441</td>\n",
       "      <td>82.852594</td>\n",
       "      <td>85.141397</td>\n",
       "      <td>...</td>\n",
       "      <td>111.150166</td>\n",
       "      <td>120.559077</td>\n",
       "      <td>127.743948</td>\n",
       "      <td>130.139591</td>\n",
       "      <td>133.802846</td>\n",
       "      <td>138.693883</td>\n",
       "      <td>142.450961</td>\n",
       "      <td>144.272642</td>\n",
       "      <td>148.380508</td>\n",
       "      <td>164.748934</td>\n",
       "    </tr>\n",
       "    <tr>\n",
       "      <th>ATL</th>\n",
       "      <td>69.858057</td>\n",
       "      <td>70.741718</td>\n",
       "      <td>72.884085</td>\n",
       "      <td>76.278053</td>\n",
       "      <td>79.143552</td>\n",
       "      <td>82.170193</td>\n",
       "      <td>85.315761</td>\n",
       "      <td>90.250332</td>\n",
       "      <td>96.596400</td>\n",
       "      <td>103.773570</td>\n",
       "      <td>...</td>\n",
       "      <td>130.856500</td>\n",
       "      <td>137.975182</td>\n",
       "      <td>146.098131</td>\n",
       "      <td>152.532635</td>\n",
       "      <td>160.970155</td>\n",
       "      <td>187.842889</td>\n",
       "      <td>NaN</td>\n",
       "      <td>NaN</td>\n",
       "      <td>NaN</td>\n",
       "      <td>NaN</td>\n",
       "    </tr>\n",
       "    <tr>\n",
       "      <th>LV</th>\n",
       "      <td>66.613467</td>\n",
       "      <td>67.576627</td>\n",
       "      <td>71.648674</td>\n",
       "      <td>78.957713</td>\n",
       "      <td>82.616396</td>\n",
       "      <td>82.983855</td>\n",
       "      <td>82.783394</td>\n",
       "      <td>85.513154</td>\n",
       "      <td>88.253223</td>\n",
       "      <td>89.779882</td>\n",
       "      <td>...</td>\n",
       "      <td>94.862766</td>\n",
       "      <td>117.844755</td>\n",
       "      <td>134.417928</td>\n",
       "      <td>142.341087</td>\n",
       "      <td>150.562908</td>\n",
       "      <td>162.749249</td>\n",
       "      <td>183.121272</td>\n",
       "      <td>192.977040</td>\n",
       "      <td>202.361133</td>\n",
       "      <td>240.348695</td>\n",
       "    </tr>\n",
       "  </tbody>\n",
       "</table>\n",
       "<p>14 rows × 35 columns</p>\n",
       "</div>"
      ],
      "text/plain": [
       "DATE       1987       1988       1989       1990       1991       1992  \\\n",
       "LA    63.216349  76.361918  94.770785  99.363525  94.073038  89.691358   \n",
       "SEA   65.511398  65.974565  67.139369  68.530383  71.232200  72.245546   \n",
       "DEN   50.245879  48.439425  47.660405  48.575705  50.035121  53.925107   \n",
       "AUS   49.227081  57.281840  68.902209  73.763608  70.656341  69.419212   \n",
       "DC    69.020037  80.100341  90.334118  92.388698  88.696270  88.632695   \n",
       "DET   58.891101  60.746732  62.809682  66.166790  71.188432  76.640395   \n",
       "PHX   67.292347  66.261278  65.339862  66.224581  68.297988  72.756086   \n",
       "MIN   63.624959  64.335290  65.130541  67.188433  69.612527  72.840703   \n",
       "BOS   72.506800  74.715743  74.127577  69.896332  64.226234  64.014465   \n",
       "MIA   69.954695  73.933270  77.804542  79.605537  78.851030  78.937606   \n",
       "NY    80.365837  84.529968  82.799311  78.488108  74.043458  75.058948   \n",
       "CHI   56.947514  66.302964  69.965579  70.108448  71.645060  74.519186   \n",
       "ATL   69.858057  70.741718  72.884085  76.278053  79.143552  82.170193   \n",
       "LV    66.613467  67.576627  71.648674  78.957713  82.616396  82.983855   \n",
       "\n",
       "DATE       1993       1994       1995        1996  ...        2012  \\\n",
       "LA    81.088848  76.745994  74.852474   74.075112  ...  168.858241   \n",
       "SEA   74.108393  79.765094  88.658224   96.529890  ...  180.333747   \n",
       "DEN   58.783824  65.485730  69.738637   73.395646  ...  129.745630   \n",
       "AUS   67.406193  67.516265  67.309511   67.503345  ...  137.139777   \n",
       "DC    88.863197  89.759179  88.955226   88.731306  ...  185.630816   \n",
       "DET   82.153872  88.236711  95.643315  103.393319  ...  107.367384   \n",
       "PHX   76.906975  81.079932  84.543479   89.454873  ...  146.408986   \n",
       "MIN   75.337541  77.774771  81.131798   85.692480  ...  140.140643   \n",
       "BOS   65.420586  68.046544  69.563551   72.331169  ...  152.312762   \n",
       "MIA   81.378012  85.477245  87.056818   87.683723  ...  145.997975   \n",
       "NY    76.260681  77.911027  78.574907   79.598315  ...  162.188547   \n",
       "CHI   77.265016  80.814441  82.852594   85.141397  ...  111.150166   \n",
       "ATL   85.315761  90.250332  96.596400  103.773570  ...  130.856500   \n",
       "LV    82.783394  85.513154  88.253223   89.779882  ...   94.862766   \n",
       "\n",
       "DATE        2013        2014        2015        2016        2017        2018  \\\n",
       "LA    201.218611  221.954938  235.169607  248.792786  263.442501  280.417875   \n",
       "SEA   199.798929  225.271596  248.695097  252.297394  274.030745  333.800564   \n",
       "DEN   142.181476  153.277856  168.945255  184.545676  198.778749  213.896643   \n",
       "AUS   169.008238  192.360003  211.917032  226.747039  242.005868  264.329343   \n",
       "DC    198.441028  207.713393  209.994514  213.601744  220.175624  226.180752   \n",
       "DET   114.918950  122.438374  126.933374  133.639513  152.625972         NaN   \n",
       "PHX   152.791896  160.911763  169.925848  181.982628  193.178576  212.706977   \n",
       "MIN   144.876309  151.935698  160.779476  170.386737  177.139410  188.403325   \n",
       "BOS   163.301539  173.666816  180.684550  189.124826  201.759239  213.381727   \n",
       "MIA   166.036605  186.002081  200.739589  213.910493  224.851660  235.684546   \n",
       "NY    167.640054  174.245880  178.497267  182.899003  191.179852  198.649856   \n",
       "CHI   120.559077  127.743948  130.139591  133.802846  138.693883  142.450961   \n",
       "ATL   137.975182  146.098131  152.532635  160.970155  187.842889         NaN   \n",
       "LV    117.844755  134.417928  142.341087  150.562908  162.749249  183.121272   \n",
       "\n",
       "DATE        2019        2020        2021  \n",
       "LA    285.394389  302.097174  352.515504  \n",
       "SEA          NaN         NaN         NaN  \n",
       "DEN   221.764705  233.407802  274.830002  \n",
       "AUS   266.267905  278.815151  327.008647  \n",
       "DC    232.663330  245.215532  276.109110  \n",
       "DET          NaN         NaN         NaN  \n",
       "PHX   271.023247         NaN         NaN  \n",
       "MIN   211.141377         NaN         NaN  \n",
       "BOS   221.451764  235.381290  272.322485  \n",
       "MIA   243.912167  256.151424  306.959724  \n",
       "NY    201.388516  209.255351  241.009403  \n",
       "CHI   144.272642  148.380508  164.748934  \n",
       "ATL          NaN         NaN         NaN  \n",
       "LV    192.977040  202.361133  240.348695  \n",
       "\n",
       "[14 rows x 35 columns]"
      ]
     },
     "execution_count": 127,
     "metadata": {},
     "output_type": "execute_result"
    }
   ],
   "source": [
    "df_cs.transpose()"
   ]
  },
  {
   "cell_type": "code",
   "execution_count": null,
   "id": "8625eb04",
   "metadata": {},
   "outputs": [],
   "source": []
  }
 ],
 "metadata": {
  "kernelspec": {
   "display_name": "Python 3",
   "language": "python",
   "name": "python3"
  },
  "language_info": {
   "codemirror_mode": {
    "name": "ipython",
    "version": 3
   },
   "file_extension": ".py",
   "mimetype": "text/x-python",
   "name": "python",
   "nbconvert_exporter": "python",
   "pygments_lexer": "ipython3",
   "version": "3.8.8"
  }
 },
 "nbformat": 4,
 "nbformat_minor": 5
}
